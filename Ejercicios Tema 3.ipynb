{
 "cells": [
  {
   "cell_type": "markdown",
   "metadata": {
    "id": "3jaJJkm7pLYG"
   },
   "source": [
    "# 3. CONDICIONES, BUCLES Y FUNCIONES\n",
    "\n",
    "**EJERCICIOS:**\n",
    "\n",
    "En todos los ejercicios se deberá imprimir el resultado obtenido, para que sea más fácil evaluar si es correcto. "
   ]
  },
  {
   "cell_type": "markdown",
   "metadata": {
    "id": "-TWtWA7JpMdC"
   },
   "source": [
    "1. Imprime los números del 1 al 10 usando un bucle while, luego haz lo mismo con un bucle for"
   ]
  },
  {
   "cell_type": "code",
   "execution_count": 1,
   "metadata": {
    "executionInfo": {
     "elapsed": 16,
     "status": "ok",
     "timestamp": 1647966020283,
     "user": {
      "displayName": "Ana P",
      "photoUrl": "https://lh3.googleusercontent.com/a-/AOh14Gg85ayysTbiJHM98_-uyOOFgFpkb6r7lgyMRQM=s64",
      "userId": "14235321316655358926"
     },
     "user_tz": -60
    },
    "id": "-xmxECxBqVtH"
   },
   "outputs": [
    {
     "name": "stdout",
     "output_type": "stream",
     "text": [
      "1\n",
      "2\n",
      "3\n",
      "4\n",
      "5\n",
      "6\n",
      "7\n",
      "8\n",
      "9\n",
      "10\n"
     ]
    }
   ],
   "source": [
    "#resuelve el ejercicio mediante un while\n",
    "i=1\n",
    "while i <=10:\n",
    "    print(i)\n",
    "    i+=1\n",
    "    "
   ]
  },
  {
   "cell_type": "code",
   "execution_count": 2,
   "metadata": {
    "executionInfo": {
     "elapsed": 12,
     "status": "ok",
     "timestamp": 1647966020284,
     "user": {
      "displayName": "Ana P",
      "photoUrl": "https://lh3.googleusercontent.com/a-/AOh14Gg85ayysTbiJHM98_-uyOOFgFpkb6r7lgyMRQM=s64",
      "userId": "14235321316655358926"
     },
     "user_tz": -60
    },
    "id": "hx2z-nYH9DjC"
   },
   "outputs": [
    {
     "name": "stdout",
     "output_type": "stream",
     "text": [
      "1\n",
      "2\n",
      "3\n",
      "4\n",
      "5\n",
      "6\n",
      "7\n",
      "8\n",
      "9\n",
      "10\n"
     ]
    }
   ],
   "source": [
    "#resuelve el ejercicio mediante un for\n",
    "for i in range(1,11):\n",
    "    print(i)\n",
    "    "
   ]
  },
  {
   "cell_type": "markdown",
   "metadata": {
    "id": "KPJKm7ehpMhy"
   },
   "source": [
    "2. Calcula la suma de todos los números desde el 1 hasta un número dado incluido(pide un número mediante la función input y haz el calculo en base a éste) mediante un bucle\n",
    "**Output deseado:** Si proporcionamos el número 12, el output debería ser 78"
   ]
  },
  {
   "cell_type": "code",
   "execution_count": 3,
   "metadata": {
    "executionInfo": {
     "elapsed": 10,
     "status": "ok",
     "timestamp": 1647966020285,
     "user": {
      "displayName": "Ana P",
      "photoUrl": "https://lh3.googleusercontent.com/a-/AOh14Gg85ayysTbiJHM98_-uyOOFgFpkb6r7lgyMRQM=s64",
      "userId": "14235321316655358926"
     },
     "user_tz": -60
    },
    "id": "U941EcKrkgC7"
   },
   "outputs": [
    {
     "name": "stdout",
     "output_type": "stream",
     "text": [
      "Ingrese un numero y se mostarra en pantalla la suma desde 1 hasta el numero dado: 50\n",
      "La suma es: 1275 \n"
     ]
    }
   ],
   "source": [
    "number = int(input(\"Ingrese un numero y se mostarra en pantalla la suma desde 1 hasta el numero dado: \"))\n",
    "number2 = 0\n",
    "while number>0:\n",
    "    number2+=number\n",
    "    number-=1 \n",
    "print(f\"La suma es: {number2} \")"
   ]
  },
  {
   "cell_type": "markdown",
   "metadata": {
    "id": "didI1oIdqOay"
   },
   "source": [
    "3. Escribe un programa que añada en una lista todos los números que sean divisibles entre 5 y 7, o lo que es lo mismo todos los números múltiples de 5 y 7, y que se encuentren entre el 1900 y el 2700 (ambos incluidos).\n",
    "\n",
    "*Recordemos que hay un operador muy útil para saber si un número es múltiple/divisible respecto a otro!*\n",
    "\n",
    "**Output deseado:** [1925, 1960, 1995, 2030, 2065, 2100, 2135, 2170, 2205, 2240, 2275, 2310, 2345, 2380, 2415, 2450, 2485, 2520, 2555, 2590, 2625, 2660, 2695]\n"
   ]
  },
  {
   "cell_type": "code",
   "execution_count": 4,
   "metadata": {
    "executionInfo": {
     "elapsed": 10,
     "status": "ok",
     "timestamp": 1647966020286,
     "user": {
      "displayName": "Ana P",
      "photoUrl": "https://lh3.googleusercontent.com/a-/AOh14Gg85ayysTbiJHM98_-uyOOFgFpkb6r7lgyMRQM=s64",
      "userId": "14235321316655358926"
     },
     "user_tz": -60
    },
    "id": "uj9UYuQhkhkC"
   },
   "outputs": [
    {
     "name": "stdout",
     "output_type": "stream",
     "text": [
      "[1925, 1960, 1995, 2030, 2065, 2100, 2135, 2170, 2205, 2240, 2275, 2310, 2345, 2380, 2415, 2450, 2485, 2520, 2555, 2590, 2625, 2660, 2695]\n"
     ]
    }
   ],
   "source": [
    "lista = []\n",
    "for i in range(1900,2701):\n",
    "    if i%5==0 and i%7==0:\n",
    "        lista.append(i)\n",
    "print(lista)"
   ]
  },
  {
   "cell_type": "markdown",
   "metadata": {
    "id": "2jM1mYd1s-Pp"
   },
   "source": [
    "4. Escribe un programa que calcule el equivalente de edad humana de la edad de un perro. Notemos que por los dos primeros años, un año de perro son como 10.5 años de humano. A partir de ese momento, cada año de perro son como 4 años de humano.\n",
    "\n",
    "**Output deseado:**\n",
    "\n",
    "Cuántos años tiene el perro? 10\n",
    "\n",
    "La edad del perro equivalente a la humana es de 53 años"
   ]
  },
  {
   "cell_type": "code",
   "execution_count": 5,
   "metadata": {
    "executionInfo": {
     "elapsed": 7,
     "status": "ok",
     "timestamp": 1647966023447,
     "user": {
      "displayName": "Ana P",
      "photoUrl": "https://lh3.googleusercontent.com/a-/AOh14Gg85ayysTbiJHM98_-uyOOFgFpkb6r7lgyMRQM=s64",
      "userId": "14235321316655358926"
     },
     "user_tz": -60
    },
    "id": "Z3BHlolOkjuc"
   },
   "outputs": [
    {
     "name": "stdout",
     "output_type": "stream",
     "text": [
      "Se calculara la edad de tu perro en años humanos\n",
      "Ingrese la edad de su perro: 12\n",
      "La edad equivalente de su perro a un humano es de 61.0 años\n"
     ]
    }
   ],
   "source": [
    "print(\"Se calculara la edad de tu perro en años humanos\")\n",
    "age = int(input(\"Ingrese la edad de su perro: \"))\n",
    "if age>2:\n",
    "    dog_age = ((age-2)*4)+2*10.5\n",
    "elif age<=2:\n",
    "    dog_age=age*10.5\n",
    "print(f\"La edad equivalente de su perro a un humano es de {dog_age} años\")"
   ]
  },
  {
   "cell_type": "markdown",
   "metadata": {
    "id": "JKEj8QFKuhAm"
   },
   "source": [
    "5. Escribe una función a la que le pases las medidas de los 3 lados de un triangulo y te diga si el triangulo es equilátero, escaleno o isósceles. Recordemos que un triangulo equilátero tiene los tres lados iguales, un triangulo escaleno tiene los tres lados distintos y un triangulo isósceles tiene dos lados iguales.\n",
    "\n",
    "**Output deseado:**\n",
    "\n",
    "Al pasarle a la función las medidas 4, 4 y 4. Obtenemos como output:\n",
    "\n",
    "El triangulo es \n",
    "equilátero"
   ]
  },
  {
   "cell_type": "code",
   "execution_count": 6,
   "metadata": {
    "executionInfo": {
     "elapsed": 3,
     "status": "ok",
     "timestamp": 1647966040600,
     "user": {
      "displayName": "Ana P",
      "photoUrl": "https://lh3.googleusercontent.com/a-/AOh14Gg85ayysTbiJHM98_-uyOOFgFpkb6r7lgyMRQM=s64",
      "userId": "14235321316655358926"
     },
     "user_tz": -60
    },
    "id": "pgyLT2aMv963"
   },
   "outputs": [],
   "source": [
    "#define la función\n",
    "def triangulo (a,b,c):\n",
    "    if a==b and b==c and c==a:\n",
    "        return \"El trinagulo es equilatero\"\n",
    "    elif a==b or b==c or c==a:\n",
    "        return \"El riangulo es isoceles\"\n",
    "    else:\n",
    "        return \"el triangulo es escaleno\""
   ]
  },
  {
   "cell_type": "code",
   "execution_count": 7,
   "metadata": {
    "executionInfo": {
     "elapsed": 3,
     "status": "ok",
     "timestamp": 1647966041623,
     "user": {
      "displayName": "Ana P",
      "photoUrl": "https://lh3.googleusercontent.com/a-/AOh14Gg85ayysTbiJHM98_-uyOOFgFpkb6r7lgyMRQM=s64",
      "userId": "14235321316655358926"
     },
     "user_tz": -60
    },
    "id": "SVJCyS-cDzG4"
   },
   "outputs": [
    {
     "data": {
      "text/plain": [
       "'El trinagulo es equilatero'"
      ]
     },
     "execution_count": 7,
     "metadata": {},
     "output_type": "execute_result"
    }
   ],
   "source": [
    "#ejecuta la función\n",
    "triangulo(4,4,4)"
   ]
  },
  {
   "cell_type": "markdown",
   "metadata": {
    "id": "v3nrdel13bLb"
   },
   "source": [
    "6. Escribe una función a la que le pases una lista de números y te devuelva mediante el return el resultado de la suma de todos los números que formaban la lista. Luego ejecuta la función e imprime su output.\n",
    "\n",
    "**Output deseado:**\n",
    "\n",
    "Si pasamos la lista [8,12,4,0,2] a la función programada el output debería ser 26."
   ]
  },
  {
   "cell_type": "code",
   "execution_count": 8,
   "metadata": {
    "executionInfo": {
     "elapsed": 580,
     "status": "ok",
     "timestamp": 1647966044550,
     "user": {
      "displayName": "Ana P",
      "photoUrl": "https://lh3.googleusercontent.com/a-/AOh14Gg85ayysTbiJHM98_-uyOOFgFpkb6r7lgyMRQM=s64",
      "userId": "14235321316655358926"
     },
     "user_tz": -60
    },
    "id": "g0WvKGMV4L0a"
   },
   "outputs": [],
   "source": [
    "#define la función\n",
    "def suma(lista):\n",
    "    a=0\n",
    "    for i in lista:\n",
    "        a +=i\n",
    "    return f\"la suma de la lista es {a}\""
   ]
  },
  {
   "cell_type": "code",
   "execution_count": 9,
   "metadata": {
    "executionInfo": {
     "elapsed": 5,
     "status": "ok",
     "timestamp": 1647966044922,
     "user": {
      "displayName": "Ana P",
      "photoUrl": "https://lh3.googleusercontent.com/a-/AOh14Gg85ayysTbiJHM98_-uyOOFgFpkb6r7lgyMRQM=s64",
      "userId": "14235321316655358926"
     },
     "user_tz": -60
    },
    "id": "tkdWcqJJFAFh"
   },
   "outputs": [
    {
     "data": {
      "text/plain": [
       "'la suma de la lista es 26'"
      ]
     },
     "execution_count": 9,
     "metadata": {},
     "output_type": "execute_result"
    }
   ],
   "source": [
    "#ejecuta la función\n",
    "lista=[8,12,4,0,2]\n",
    "suma(lista)"
   ]
  },
  {
   "cell_type": "markdown",
   "metadata": {
    "id": "BSg3FilR0NKo"
   },
   "source": [
    "**MINI PROYECTO: Juego de Piedra, Papel o Tijeras**\n",
    "\n",
    "Programa el juego de piedra, papel o tijeras:\n",
    "1. Haz que el programa te pida piedra, papel o tijeras\n",
    "2. Luego la maquina deberá hacer un random de piedra, papel o tijeras\n",
    "3. Compara el input con el resultado del random y imprime quien ha ganado el juego y porqué\n",
    "\n",
    "**Output deseado**\n",
    "\n",
    "Piedra, Papel o Tijeras? Tijeras\n",
    "\n",
    "Has ganado! Has cortado al Papel"
   ]
  },
  {
   "cell_type": "markdown",
   "metadata": {
    "id": "MVAlGqUN078h"
   },
   "source": [
    "*Recordemos el uso de la función random:*\n",
    "\n",
    "Primero deberemos importar la libreria que contiene la función random escribiendo:\n",
    "\n",
    "**import random**\n",
    "\n",
    "Luego, tenemos dos funciones que nos pueden ser útiles en este caso: **random.randint(start, stop)** y **random.choice(list)** La primera nos dará un número random entre el start y el stop (ambos incluidos) y la segunda nos dará un elemento random de la lista que le pasemos.\n"
   ]
  },
  {
   "cell_type": "markdown",
   "metadata": {
    "id": "zh205-cFV9f8"
   },
   "source": [
    "**NOTA:** Para hacerlo más interactivo podemos meter el código del juego en un bucle while. Al final del juego preguntamos al jugador si quiere volver a jugar, mientras la respuesta sea Si, repetimos, sino salimos del bucle."
   ]
  },
  {
   "cell_type": "code",
   "execution_count": 10,
   "metadata": {},
   "outputs": [],
   "source": [
    "import random\n",
    "def juego(user,computer):\n",
    "    if user == \"PIEDRA\" and computer == \"TIJERA\":\n",
    "        return print(f\"Has ganado {user} vs {computer} \\n\")\n",
    "    elif user ==\"TIJERA\" and computer == \"PAPEL\":\n",
    "        return print(f\"Has ganado {user} vs {computer}\\n\")\n",
    "    elif user ==\"PAPEL\" and computer == \"PIEDRA\":\n",
    "        return print(f\"Has ganado {user} vs {computer}\\n\")\n",
    "    elif user == \"PIEDRA\" and computer == \"PIEDRA\":\n",
    "        return print(f\"Es un empate {user} vs {computer}\\n\")\n",
    "    elif user == \"TIJERA\" and computer == \"TIJERA\":\n",
    "        return print(f\"Es un empate {user} vs {computer}\\n\")\n",
    "    elif user == \"PAPEL\" and computer == \"PAPEL\":\n",
    "        return print(f\"Es un empate {user} vs {computer}\\n\")\n",
    "    elif computer == \"PIEDRA\" and user == \"TIJERA\":\n",
    "        return print(f\"Has perdido {user} vs {computer}\\n\")\n",
    "    elif computer ==\"TIJERA\" and user == \"PAPEL\":\n",
    "        return print(f\"Has perdido {user} vs {computer}\\n\")\n",
    "    elif computer ==\"PAPEL\" and user == \"PIEDRA\":\n",
    "        return print(f\"Has perdido {user} vs {computer}\\n\")\n",
    "    else:return(\"error\")\n",
    "opciones = ['PIEDRA','PAPEL','TIJERA']"
   ]
  },
  {
   "cell_type": "code",
   "execution_count": 11,
   "metadata": {
    "id": "XuWLlmgcTz7W"
   },
   "outputs": [
    {
     "name": "stdout",
     "output_type": "stream",
     "text": [
      "Bienvenido a piedra papel o tijera\n",
      "Ingrese el numero de su opcion para jugar:\n",
      "1) Piedra\n",
      "2) Papel\n",
      "3) tijera\n",
      " 3\n",
      "Es un empate TIJERA vs TIJERA\n",
      "\n",
      "Quieres volver a jugar: 1\n"
     ]
    }
   ],
   "source": [
    "print(\"Bienvenido a piedra papel o tijera\")\n",
    "jugar = \"SI\"\n",
    "while jugar==\"SI\":\n",
    "    opciones = ['PIEDRA','PAPEL','TIJERA']\n",
    "    computer = random.choice(opciones)\n",
    "    user = input(\"\"\"Ingrese el numero de su opcion para jugar:\n",
    "1) Piedra\n",
    "2) Papel\n",
    "3) tijera\n",
    " \"\"\")\n",
    "    match user:\n",
    "        case \"1\": user = \"PIEDRA\"\n",
    "        case \"2\": user = \"PAPEL\"\n",
    "        case '3': user = \"TIJERA\"\n",
    "        case _: print(\"Error, introduzca una opcion valida\")\n",
    "    juego(user,computer)\n",
    "    jugar = input(\"Quieres volver a jugar: \").upper()"
   ]
  },
  {
   "cell_type": "code",
   "execution_count": 12,
   "metadata": {},
   "outputs": [
    {
     "data": {
      "text/plain": [
       "'\\ndef juego(user,computer):\\n    if user == \"PIEDRA\" and computer == \"TIJERA\":\\n        return f\"Has ganado {user} vs {computer}\"\\n    elif user ==\"TIJERA\" and computer == \"PAPEL\":\\n        return f\"Has ganado {user} vs {computer}\"\\n    elif user ==\"PAPEL\" and computer == \"PIEDRA\":\\n        return f\"Has ganado {user} vs {computer}\"\\n    elif user == \"PIEDRA\" and computer == \"PIEDRA\":\\n        return f\"Es un empate {user} vs {computer}\"\\n    elif user == \"TIJERA\" and computer == \"TIJERA\":\\n        return f\"Es un empate {user} vs {computer}\"\\n    elif user == \"PAPEL\" and computer == \"PAPEL\":\\n        return f\"Es un empate {user} vs {computer}\"\\n    elif computer == \"PIEDRA\" and user == \"TIJERA\":\\n        return f\"Has perdido {user} vs {computer}\"\\n    elif computer ==\"TIJERA\" and user == \"PAPEL\":\\n        return f\"Has perdido {user} vs {computer}\"\\n    elif computer ==\"PAPEL\" and user == \"PIEDRA\":\\n        return f\"Has perdido {user} vs {computer}\"\\nopciones = [\\'PIEDRA\\',\\'PAPEL\\',\\'TIJERA\\']\\ncomputer = random.choice(opciones)\\nuser = int(input(\"\"\"Ingrese su opcion para jugar:\\n        1) Piedra\\n        2) Papel\\n        3) tijera\\n        :\"\"\"))\\nmatch user:\\n    case 1: user = \"PIEDRA\"\\n    case 2: user = \"PAPEL\"\\n    case 3: user = \"TIJERA\"\\njuego(user,computer)\\n'"
      ]
     },
     "execution_count": 12,
     "metadata": {},
     "output_type": "execute_result"
    }
   ],
   "source": [
    "'''\n",
    "def juego(user,computer):\n",
    "    if user == \"PIEDRA\" and computer == \"TIJERA\":\n",
    "        return f\"Has ganado {user} vs {computer}\"\n",
    "    elif user ==\"TIJERA\" and computer == \"PAPEL\":\n",
    "        return f\"Has ganado {user} vs {computer}\"\n",
    "    elif user ==\"PAPEL\" and computer == \"PIEDRA\":\n",
    "        return f\"Has ganado {user} vs {computer}\"\n",
    "    elif user == \"PIEDRA\" and computer == \"PIEDRA\":\n",
    "        return f\"Es un empate {user} vs {computer}\"\n",
    "    elif user == \"TIJERA\" and computer == \"TIJERA\":\n",
    "        return f\"Es un empate {user} vs {computer}\"\n",
    "    elif user == \"PAPEL\" and computer == \"PAPEL\":\n",
    "        return f\"Es un empate {user} vs {computer}\"\n",
    "    elif computer == \"PIEDRA\" and user == \"TIJERA\":\n",
    "        return f\"Has perdido {user} vs {computer}\"\n",
    "    elif computer ==\"TIJERA\" and user == \"PAPEL\":\n",
    "        return f\"Has perdido {user} vs {computer}\"\n",
    "    elif computer ==\"PAPEL\" and user == \"PIEDRA\":\n",
    "        return f\"Has perdido {user} vs {computer}\"\n",
    "opciones = ['PIEDRA','PAPEL','TIJERA']\n",
    "computer = random.choice(opciones)\n",
    "user = int(input(\"\"\"Ingrese su opcion para jugar:\n",
    "        1) Piedra\n",
    "        2) Papel\n",
    "        3) tijera\n",
    "        :\"\"\"))\n",
    "match user:\n",
    "    case 1: user = \"PIEDRA\"\n",
    "    case 2: user = \"PAPEL\"\n",
    "    case 3: user = \"TIJERA\"\n",
    "juego(user,computer)\n",
    "'''"
   ]
  },
  {
   "cell_type": "code",
   "execution_count": 13,
   "metadata": {},
   "outputs": [
    {
     "data": {
      "text/plain": [
       "'opciones = [\\'PIEDRA\\',\\'PAPEL\\',\\'TIJERA\\']\\ncomputer = random.choice(opciones)\\nuser = int(input(\"\"\"Ingrese su opcion para jugar:\\n        1) Piedra\\n        2) Papel\\n        3) tijera\\n        :\"\"\"))\\nmatch user:\\n    case 1: user = \"PIEDRA\"\\n    case 2: user = \"PAPEL\"\\n    case 3: user = \"TIJERA\"\\njuego(user,computer)'"
      ]
     },
     "execution_count": 13,
     "metadata": {},
     "output_type": "execute_result"
    }
   ],
   "source": [
    "'''opciones = ['PIEDRA','PAPEL','TIJERA']\n",
    "computer = random.choice(opciones)\n",
    "user = int(input(\"\"\"Ingrese su opcion para jugar:\n",
    "        1) Piedra\n",
    "        2) Papel\n",
    "        3) tijera\n",
    "        :\"\"\"))\n",
    "match user:\n",
    "    case 1: user = \"PIEDRA\"\n",
    "    case 2: user = \"PAPEL\"\n",
    "    case 3: user = \"TIJERA\"\n",
    "juego(user,computer)'''"
   ]
  }
 ],
 "metadata": {
  "colab": {
   "authorship_tag": "ABX9TyMZl7K+sWprVSDzY9PwcXJP",
   "collapsed_sections": [],
   "name": " Ejercicios Tema 3_v2.ipynb",
   "provenance": [
    {
     "file_id": "1K72CNsUBrHCYCJ1CzAIOHsHKGGj2LS6m",
     "timestamp": 1647086034337
    },
    {
     "file_id": "1Mm4NCD_YRwq7ydL3awT4yUpypWw79y4R",
     "timestamp": 1634982774779
    }
   ]
  },
  "kernelspec": {
   "display_name": "Python 3 (ipykernel)",
   "language": "python",
   "name": "python3"
  },
  "language_info": {
   "codemirror_mode": {
    "name": "ipython",
    "version": 3
   },
   "file_extension": ".py",
   "mimetype": "text/x-python",
   "name": "python",
   "nbconvert_exporter": "python",
   "pygments_lexer": "ipython3",
   "version": "3.11.2"
  }
 },
 "nbformat": 4,
 "nbformat_minor": 1
}
