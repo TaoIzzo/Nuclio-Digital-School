{
 "cells": [
  {
   "cell_type": "markdown",
   "metadata": {
    "id": "gN2-JXtZLTKP"
   },
   "source": [
    "# 4. NUMPY Y PANDAS SERIES\n",
    "\n",
    "**EJERCICIOS:**"
   ]
  },
  {
   "cell_type": "markdown",
   "metadata": {
    "id": "7Z8_OktFiR2E"
   },
   "source": [
    "Antes de empezar a resolver ejercicios con Numpy y Pandas, aprendamos a importar una librería en Python.\n",
    "\n",
    "Una librería está compuesta por un conjunto de funciones que podremos usar una vez la hemos importado. Para importar cualquier libreria en Python debemos usar el comando import, pero hay dos buenas prácticas para importarlas."
   ]
  },
  {
   "cell_type": "markdown",
   "metadata": {
    "id": "7NsT64F2jYX4"
   },
   "source": [
    "1. La manera más común: **importar la librería entera y renombrarla si nos interesa** mediante la palabra 'as'. Por ejemplo numpy suele ser renombrado como np."
   ]
  },
  {
   "cell_type": "code",
   "execution_count": 1,
   "metadata": {
    "executionInfo": {
     "elapsed": 303,
     "status": "ok",
     "timestamp": 1648480576572,
     "user": {
      "displayName": "Ana P",
      "photoUrl": "https://lh3.googleusercontent.com/a-/AOh14Gg85ayysTbiJHM98_-uyOOFgFpkb6r7lgyMRQM=s64",
      "userId": "14235321316655358926"
     },
     "user_tz": -120
    },
    "id": "LVgwqnGKPvn2"
   },
   "outputs": [],
   "source": [
    "import numpy as np"
   ]
  },
  {
   "cell_type": "markdown",
   "metadata": {
    "id": "mjsjYWb7j3fQ"
   },
   "source": [
    "Con esta primera forma, cada vez que llamemos a una función de la librería deberemos poner el nombre de la librería seguido de un punto antes de la función, o en su defecto, si la hemos renombrado deberemos poner el nombre que le hemos asignado. Veamos un ejemplo a continuación:"
   ]
  },
  {
   "cell_type": "code",
   "execution_count": 2,
   "metadata": {
    "id": "ayviI8M0jmHQ"
   },
   "outputs": [],
   "source": [
    "arr = np.array([1,2,2])"
   ]
  },
  {
   "cell_type": "code",
   "execution_count": 3,
   "metadata": {
    "colab": {
     "base_uri": "https://localhost:8080/",
     "height": 166
    },
    "id": "xdwlTEgXkF2x",
    "outputId": "f3f9eeb7-9c8b-46e5-9b60-c94b525e555a"
   },
   "outputs": [
    {
     "ename": "NameError",
     "evalue": "name 'array' is not defined",
     "output_type": "error",
     "traceback": [
      "\u001b[1;31m---------------------------------------------------------------------------\u001b[0m",
      "\u001b[1;31mNameError\u001b[0m                                 Traceback (most recent call last)",
      "Cell \u001b[1;32mIn[3], line 1\u001b[0m\n\u001b[1;32m----> 1\u001b[0m arr \u001b[38;5;241m=\u001b[39m \u001b[43marray\u001b[49m([\u001b[38;5;241m1\u001b[39m,\u001b[38;5;241m2\u001b[39m,\u001b[38;5;241m2\u001b[39m])\n",
      "\u001b[1;31mNameError\u001b[0m: name 'array' is not defined"
     ]
    }
   ],
   "source": [
    "arr = array([1,2,2])"
   ]
  },
  {
   "cell_type": "markdown",
   "metadata": {
    "id": "I_Slw-MmkJT-"
   },
   "source": [
    "Como podéis ver, si no ponemos la librería de la que procede la función nos da error."
   ]
  },
  {
   "cell_type": "markdown",
   "metadata": {
    "id": "__EIc-LykRFQ"
   },
   "source": [
    "2. La segunda forma es muy usada cuando **solo queremos alguna función en concreto de una libreria** y no necesitamos importar toda la librería entera. Por ejemplo, si solo quisieramos la función array de numpy haríamos lo siguiente:"
   ]
  },
  {
   "cell_type": "markdown",
   "metadata": {
    "id": "NcN3hyPCk0on"
   },
   "source": [
    "Si llevamos a cabo este procedimiento, al usar las funciones concretas que importemos no hará falta indicar la librería de la que proceden como en el punto anterior. Veámoslo a continuación:"
   ]
  },
  {
   "cell_type": "code",
   "execution_count": 4,
   "metadata": {
    "id": "fFNltZwrkQp_"
   },
   "outputs": [],
   "source": [
    "from numpy import array"
   ]
  },
  {
   "cell_type": "code",
   "execution_count": 5,
   "metadata": {
    "id": "zYMNn7qekITM"
   },
   "outputs": [],
   "source": [
    "arr = array([8,9,1])"
   ]
  },
  {
   "cell_type": "markdown",
   "metadata": {
    "id": "WGUzyUiglFEG"
   },
   "source": [
    "Ahora no nos ha dado ningún error."
   ]
  },
  {
   "cell_type": "markdown",
   "metadata": {
    "id": "l0dA6YqdlVLY"
   },
   "source": [
    "Empecemos con los ejercicios:\n"
   ]
  },
  {
   "cell_type": "markdown",
   "metadata": {
    "id": "i0HPun6IlYu2"
   },
   "source": [
    "**Ejercicio 1**\n",
    "Importa la libreria numpy y renombrala como np"
   ]
  },
  {
   "cell_type": "code",
   "execution_count": 6,
   "metadata": {
    "executionInfo": {
     "elapsed": 8,
     "status": "ok",
     "timestamp": 1648480498985,
     "user": {
      "displayName": "Ana P",
      "photoUrl": "https://lh3.googleusercontent.com/a-/AOh14Gg85ayysTbiJHM98_-uyOOFgFpkb6r7lgyMRQM=s64",
      "userId": "14235321316655358926"
     },
     "user_tz": -120
    },
    "id": "egQll23hlELe"
   },
   "outputs": [],
   "source": [
    "import numpy as np"
   ]
  },
  {
   "cell_type": "markdown",
   "metadata": {
    "id": "tJALNb9Glhn9"
   },
   "source": [
    "**Ejercicio 2** Crea un array a partir de la lista [1,2,3] y comprueba el tipo de variable que has creado mediante la función dtype como hicimos en los ejercicios de la primera unidad"
   ]
  },
  {
   "cell_type": "code",
   "execution_count": 7,
   "metadata": {
    "executionInfo": {
     "elapsed": 2,
     "status": "ok",
     "timestamp": 1648480499322,
     "user": {
      "displayName": "Ana P",
      "photoUrl": "https://lh3.googleusercontent.com/a-/AOh14Gg85ayysTbiJHM98_-uyOOFgFpkb6r7lgyMRQM=s64",
      "userId": "14235321316655358926"
     },
     "user_tz": -120
    },
    "id": "kfyxG9Gzlqa2"
   },
   "outputs": [],
   "source": [
    "arr = array( [1,2,3])"
   ]
  },
  {
   "cell_type": "code",
   "execution_count": 8,
   "metadata": {},
   "outputs": [
    {
     "data": {
      "text/plain": [
       "numpy.ndarray"
      ]
     },
     "execution_count": 8,
     "metadata": {},
     "output_type": "execute_result"
    }
   ],
   "source": [
    "type(arr)"
   ]
  },
  {
   "cell_type": "markdown",
   "metadata": {
    "id": "zvdQV75Zlqv2"
   },
   "source": [
    "**Ejercicio 3** Crea un array a partir de la lista definida a continuación "
   ]
  },
  {
   "cell_type": "code",
   "execution_count": 9,
   "metadata": {
    "id": "bZWqzpa8lvxK"
   },
   "outputs": [],
   "source": [
    "#Definimos la lista\n",
    "lista1 = [3,6,2,1]"
   ]
  },
  {
   "cell_type": "code",
   "execution_count": 10,
   "metadata": {
    "executionInfo": {
     "elapsed": 308,
     "status": "ok",
     "timestamp": 1648480504286,
     "user": {
      "displayName": "Ana P",
      "photoUrl": "https://lh3.googleusercontent.com/a-/AOh14Gg85ayysTbiJHM98_-uyOOFgFpkb6r7lgyMRQM=s64",
      "userId": "14235321316655358926"
     },
     "user_tz": -120
    },
    "id": "fcKWcj89ly1g"
   },
   "outputs": [
    {
     "data": {
      "text/plain": [
       "array([3, 6, 2, 1])"
      ]
     },
     "execution_count": 10,
     "metadata": {},
     "output_type": "execute_result"
    }
   ],
   "source": [
    "#Crea el array a partir de lista1\n",
    "array(lista1)"
   ]
  },
  {
   "cell_type": "markdown",
   "metadata": {
    "id": "xO-gGQ0Ul4MQ"
   },
   "source": [
    "**Ejercicio 4** Crea un array de dos dimensiones, es decir, crea un array a partir de una lista que contenga listas. Un array de dos dimensiones también se llama una **matriz**"
   ]
  },
  {
   "cell_type": "code",
   "execution_count": 11,
   "metadata": {
    "executionInfo": {
     "elapsed": 302,
     "status": "ok",
     "timestamp": 1648480508273,
     "user": {
      "displayName": "Ana P",
      "photoUrl": "https://lh3.googleusercontent.com/a-/AOh14Gg85ayysTbiJHM98_-uyOOFgFpkb6r7lgyMRQM=s64",
      "userId": "14235321316655358926"
     },
     "user_tz": -120
    },
    "id": "EH3F0CxxmPQo"
   },
   "outputs": [],
   "source": [
    "arr2d = array([[1,2,3],[1,2,3]])"
   ]
  },
  {
   "cell_type": "code",
   "execution_count": 12,
   "metadata": {},
   "outputs": [
    {
     "data": {
      "text/plain": [
       "array([[1, 2, 3],\n",
       "       [1, 2, 3]])"
      ]
     },
     "execution_count": 12,
     "metadata": {},
     "output_type": "execute_result"
    }
   ],
   "source": [
    "arr2d"
   ]
  },
  {
   "cell_type": "markdown",
   "metadata": {
    "id": "JYrKMrpJmQgj"
   },
   "source": [
    "**Ejercicio 5** Completa el código substituyendo los guiones bajos con la función necesaria para crear un array de medida 6 lleno de **ceros**"
   ]
  },
  {
   "cell_type": "code",
   "execution_count": 13,
   "metadata": {
    "id": "aaGuqiaYng3R"
   },
   "outputs": [
    {
     "name": "stdout",
     "output_type": "stream",
     "text": [
      "[0. 0. 0. 0. 0. 0.]\n"
     ]
    }
   ],
   "source": [
    "arr1 = np.zeros(6)\n",
    "print(arr1)"
   ]
  },
  {
   "cell_type": "markdown",
   "metadata": {
    "id": "uyyVWinln8Bf"
   },
   "source": [
    "**Ejercicio 6** Completa el código substituyendo los guiones bajos con la función necesaria para crear un array de medida 6 lleno de **unos**"
   ]
  },
  {
   "cell_type": "code",
   "execution_count": 14,
   "metadata": {
    "id": "W4ePwSPDnl8k"
   },
   "outputs": [
    {
     "name": "stdout",
     "output_type": "stream",
     "text": [
      "[0. 0. 0. 0. 0. 0.]\n"
     ]
    }
   ],
   "source": [
    "arr2 = np.empty(6)\n",
    "print(arr2)"
   ]
  },
  {
   "cell_type": "markdown",
   "metadata": {
    "id": "cJ7cqf2soKYV"
   },
   "source": [
    "**Ejercicio 7** Crea un array vacío de medida 10 mediante la función empty"
   ]
  },
  {
   "cell_type": "code",
   "execution_count": 15,
   "metadata": {
    "id": "1-5iYzAMoKFI"
   },
   "outputs": [
    {
     "name": "stdout",
     "output_type": "stream",
     "text": [
      "[nan  0.  0.  0.  0.  0.  0.  0.  0.  0.]\n"
     ]
    }
   ],
   "source": [
    "arr3 = np.empty(10)\n",
    "print(arr3)"
   ]
  },
  {
   "cell_type": "markdown",
   "metadata": {
    "id": "BGlz-_LFoi3t"
   },
   "source": [
    "**Ejercicio 8** Crea un array que contenga los múltiples de 5 del 0 al 25 (es decir: 0,5,10,...,25) mediante la función arange"
   ]
  },
  {
   "cell_type": "code",
   "execution_count": 16,
   "metadata": {
    "executionInfo": {
     "elapsed": 339,
     "status": "ok",
     "timestamp": 1648480554513,
     "user": {
      "displayName": "Ana P",
      "photoUrl": "https://lh3.googleusercontent.com/a-/AOh14Gg85ayysTbiJHM98_-uyOOFgFpkb6r7lgyMRQM=s64",
      "userId": "14235321316655358926"
     },
     "user_tz": -120
    },
    "id": "3oRrXiLqoiiW"
   },
   "outputs": [],
   "source": [
    "arr3 = np.array(range(0,26,5))"
   ]
  },
  {
   "cell_type": "code",
   "execution_count": 17,
   "metadata": {},
   "outputs": [
    {
     "data": {
      "text/plain": [
       "array([ 0,  5, 10, 15, 20, 25])"
      ]
     },
     "execution_count": 17,
     "metadata": {},
     "output_type": "execute_result"
    }
   ],
   "source": [
    "arr3"
   ]
  },
  {
   "cell_type": "markdown",
   "metadata": {
    "id": "jLZ1mtv0o3H3"
   },
   "source": [
    "**Ejercicio 9** Escribe la medida que crees que tiene el array arr3 y luego comprueba si has acertado con la función np.size()"
   ]
  },
  {
   "cell_type": "code",
   "execution_count": 18,
   "metadata": {
    "executionInfo": {
     "elapsed": 301,
     "status": "ok",
     "timestamp": 1648480586094,
     "user": {
      "displayName": "Ana P",
      "photoUrl": "https://lh3.googleusercontent.com/a-/AOh14Gg85ayysTbiJHM98_-uyOOFgFpkb6r7lgyMRQM=s64",
      "userId": "14235321316655358926"
     },
     "user_tz": -120
    },
    "id": "tnNhv8jrpjWV"
   },
   "outputs": [],
   "source": [
    "#definimos el array arr3 4 \n",
    "arr3 = np.array([4,7,8, 5])"
   ]
  },
  {
   "cell_type": "code",
   "execution_count": 19,
   "metadata": {
    "executionInfo": {
     "elapsed": 3,
     "status": "ok",
     "timestamp": 1648480587218,
     "user": {
      "displayName": "Ana P",
      "photoUrl": "https://lh3.googleusercontent.com/a-/AOh14Gg85ayysTbiJHM98_-uyOOFgFpkb6r7lgyMRQM=s64",
      "userId": "14235321316655358926"
     },
     "user_tz": -120
    },
    "id": "nDNcnaILpoRE"
   },
   "outputs": [
    {
     "data": {
      "text/plain": [
       "4"
      ]
     },
     "execution_count": 19,
     "metadata": {},
     "output_type": "execute_result"
    }
   ],
   "source": [
    "#comprueba su medida\n",
    "np.size(arr3)"
   ]
  },
  {
   "cell_type": "markdown",
   "metadata": {
    "id": "LwyFHZpoqcQu"
   },
   "source": [
    "**Ejercicio 10** Ahora escribe las dimensiones (forma) que crees que tiene arr3 y luego compruebalo con la función np.shape()"
   ]
  },
  {
   "cell_type": "code",
   "execution_count": 20,
   "metadata": {
    "executionInfo": {
     "elapsed": 307,
     "status": "ok",
     "timestamp": 1648480596440,
     "user": {
      "displayName": "Ana P",
      "photoUrl": "https://lh3.googleusercontent.com/a-/AOh14Gg85ayysTbiJHM98_-uyOOFgFpkb6r7lgyMRQM=s64",
      "userId": "14235321316655358926"
     },
     "user_tz": -120
    },
    "id": "TwfTXWtbpv3w"
   },
   "outputs": [
    {
     "data": {
      "text/plain": [
       "(4,)"
      ]
     },
     "execution_count": 20,
     "metadata": {},
     "output_type": "execute_result"
    }
   ],
   "source": [
    "# una dimension\n",
    "np.shape(arr3)"
   ]
  },
  {
   "cell_type": "markdown",
   "metadata": {
    "id": "N0nw9DeqymN0"
   },
   "source": [
    "**Ejercicio 11** Substituye la almohadilla # y obtén el primer elemento de arr3, definido en el ejercicio 9, y guardalo en la variable first_item:"
   ]
  },
  {
   "cell_type": "code",
   "execution_count": 21,
   "metadata": {
    "id": "0n14arXJyxmF"
   },
   "outputs": [],
   "source": [
    "first_item = arr3[0]"
   ]
  },
  {
   "cell_type": "code",
   "execution_count": 22,
   "metadata": {
    "id": "JWLend1egnZe"
   },
   "outputs": [
    {
     "name": "stdout",
     "output_type": "stream",
     "text": [
      "4\n"
     ]
    }
   ],
   "source": [
    "print(first_item)"
   ]
  },
  {
   "cell_type": "markdown",
   "metadata": {
    "id": "gHxX8hetzC9l"
   },
   "source": [
    "Ahora substituye la almohadilla # y obtén el último elemento de arr3 guardado en last_item. Recuerda que puedes usar también números negativos:"
   ]
  },
  {
   "cell_type": "code",
   "execution_count": 23,
   "metadata": {
    "id": "z_kQEhcAzVMN"
   },
   "outputs": [],
   "source": [
    "last_item = arr3[-1]"
   ]
  },
  {
   "cell_type": "code",
   "execution_count": 24,
   "metadata": {
    "id": "NKq9ZLfkg0cm"
   },
   "outputs": [
    {
     "name": "stdout",
     "output_type": "stream",
     "text": [
      "5\n"
     ]
    }
   ],
   "source": [
    "print(last_item)"
   ]
  },
  {
   "cell_type": "markdown",
   "metadata": {
    "id": "anTud5OWq44w"
   },
   "source": [
    "**Ejercicio 12** Haz lo mismo que en los ejercicios 9, 10 y 11 pero para arr4"
   ]
  },
  {
   "cell_type": "code",
   "execution_count": 25,
   "metadata": {
    "id": "oywjTscwq-GV"
   },
   "outputs": [],
   "source": [
    "arr4 = np.array([[2,6,4], [1,3,8]])"
   ]
  },
  {
   "cell_type": "code",
   "execution_count": 26,
   "metadata": {},
   "outputs": [
    {
     "data": {
      "text/plain": [
       "6"
      ]
     },
     "execution_count": 26,
     "metadata": {},
     "output_type": "execute_result"
    }
   ],
   "source": [
    "np.size(arr4)"
   ]
  },
  {
   "cell_type": "code",
   "execution_count": 27,
   "metadata": {},
   "outputs": [
    {
     "name": "stdout",
     "output_type": "stream",
     "text": [
      "[2 6 4]\n"
     ]
    }
   ],
   "source": [
    "first_item = arr4[0]\n",
    "print(first_item)"
   ]
  },
  {
   "cell_type": "code",
   "execution_count": 28,
   "metadata": {},
   "outputs": [
    {
     "name": "stdout",
     "output_type": "stream",
     "text": [
      "[1 3 8]\n"
     ]
    }
   ],
   "source": [
    "last_item = arr4[-1]\n",
    "print(last_item)"
   ]
  },
  {
   "cell_type": "markdown",
   "metadata": {
    "id": "se-QNeVwsuEJ"
   },
   "source": [
    "**Ejercicio 13** Substituye las almohadillas # por los número correspondientes para que arr4_item = 6, teniendo en cuenta que arr4 es el array definido en el ejercicio anterior\n"
   ]
  },
  {
   "cell_type": "code",
   "execution_count": 29,
   "metadata": {
    "id": "1fzq1YANtATk"
   },
   "outputs": [
    {
     "name": "stdout",
     "output_type": "stream",
     "text": [
      "6\n"
     ]
    }
   ],
   "source": [
    "#forma 1\n",
    "arr4_item = arr4[0][1]\n",
    "print(arr4_item)"
   ]
  },
  {
   "cell_type": "code",
   "execution_count": 30,
   "metadata": {
    "id": "TjryUtORvHqI"
   },
   "outputs": [
    {
     "name": "stdout",
     "output_type": "stream",
     "text": [
      "6\n"
     ]
    }
   ],
   "source": [
    "#forma 2\n",
    "arr4_item = arr4[0,1]\n",
    "print(arr4_item)"
   ]
  },
  {
   "cell_type": "markdown",
   "metadata": {
    "id": "u68ac421vOqX"
   },
   "source": [
    "**Ejercicio 14** Substituye la almohadilla para que new_arr4 = [1,3,8]"
   ]
  },
  {
   "cell_type": "code",
   "execution_count": 31,
   "metadata": {
    "colab": {
     "base_uri": "https://localhost:8080/"
    },
    "executionInfo": {
     "elapsed": 2,
     "status": "ok",
     "timestamp": 1647095184828,
     "user": {
      "displayName": "Ana P",
      "photoUrl": "https://lh3.googleusercontent.com/a-/AOh14Gg85ayysTbiJHM98_-uyOOFgFpkb6r7lgyMRQM=s64",
      "userId": "14235321316655358926"
     },
     "user_tz": -60
    },
    "id": "ZC4KJ41Kvail",
    "outputId": "9fe7b8b8-447f-4f8c-dadf-a99fd7aa58b2"
   },
   "outputs": [
    {
     "name": "stdout",
     "output_type": "stream",
     "text": [
      "[1 3 8]\n"
     ]
    }
   ],
   "source": [
    "new_arr4 = arr4[1]\n",
    "print(new_arr4)"
   ]
  },
  {
   "cell_type": "markdown",
   "metadata": {
    "id": "RKcKPg3ave2U"
   },
   "source": [
    "**Ejercicio 15** Define un array llamado my_array de manera que my_slice = my_array[2][3] sea igual a 2 y my_second_slice = my_array[0][1] sea igual a 4. Comprueba que lo haas hecho bien ejecutando la segunda celda."
   ]
  },
  {
   "cell_type": "code",
   "execution_count": 32,
   "metadata": {
    "id": "jz3-4L31veQm"
   },
   "outputs": [],
   "source": [
    "#Define my_array\n",
    "my_array = [[0,4,0,0],[0,0,0,0],[0,0,0,2]]"
   ]
  },
  {
   "cell_type": "code",
   "execution_count": 33,
   "metadata": {},
   "outputs": [
    {
     "name": "stdout",
     "output_type": "stream",
     "text": [
      "2\n"
     ]
    }
   ],
   "source": [
    "my_slice = my_array[2][3]\n",
    "print(my_slice)"
   ]
  },
  {
   "cell_type": "code",
   "execution_count": 34,
   "metadata": {},
   "outputs": [
    {
     "name": "stdout",
     "output_type": "stream",
     "text": [
      "4\n"
     ]
    }
   ],
   "source": [
    "my_second_slice = my_array[0][1]\n",
    "print(my_second_slice)"
   ]
  },
  {
   "cell_type": "code",
   "execution_count": 35,
   "metadata": {
    "id": "6yGvhM8Av9Dz"
   },
   "outputs": [
    {
     "name": "stdout",
     "output_type": "stream",
     "text": [
      "Correcto! my_slice y my_second_slice contienen los resultados esperados\n"
     ]
    }
   ],
   "source": [
    "#Comprobamos que my_array esté definido correctamente (solo ejecutar)\n",
    "\n",
    "my_slice = my_array[2][3]\n",
    "my_second_slice = my_array[0][1]\n",
    "\n",
    "if my_slice!=2 or my_second_slice!=4:\n",
    "  print('Error! O bien my_slice o bien my_second_slice no corresponden a los resultados indicados')\n",
    "else:\n",
    "  print('Correcto! my_slice y my_second_slice contienen los resultados esperados')"
   ]
  },
  {
   "cell_type": "markdown",
   "metadata": {
    "id": "CVLoDrwOrC6F"
   },
   "source": [
    "**Ejercicio 16** Substituye los guiones bajos de manera que en w1 tengamos todos los elementos menores o iguales que 5 de v1. Imprime w1 para comprobarlo."
   ]
  },
  {
   "cell_type": "code",
   "execution_count": 36,
   "metadata": {
    "id": "FtXwSPGf0KEp"
   },
   "outputs": [],
   "source": [
    "v1 = np.array([2,7,1,8,9,5,4])"
   ]
  },
  {
   "cell_type": "code",
   "execution_count": 37,
   "metadata": {
    "id": "ws3IflJq0O4a"
   },
   "outputs": [
    {
     "name": "stdout",
     "output_type": "stream",
     "text": [
      "[2 1 5 4]\n"
     ]
    }
   ],
   "source": [
    "w1 = v1[(v1<=5)]\n",
    "print(w1)"
   ]
  },
  {
   "cell_type": "markdown",
   "metadata": {
    "id": "Uww3ddVL0Zy0"
   },
   "source": [
    "Ahora haz que w2 contenga todos los elementos mayores que 5 de v1 y el número 2 de v1. Imprime w2 para comprobarlo."
   ]
  },
  {
   "cell_type": "code",
   "execution_count": 38,
   "metadata": {
    "id": "kKPtctJ70ZWr"
   },
   "outputs": [
    {
     "name": "stdout",
     "output_type": "stream",
     "text": [
      "[2 7 8 9]\n"
     ]
    }
   ],
   "source": [
    "w2 = v1[(v1>5) | (v1==2)]\n",
    "print(w2)"
   ]
  },
  {
   "cell_type": "markdown",
   "metadata": {
    "id": "_ecgS0aD0pMF"
   },
   "source": [
    "**Ejercicio 17** Multiplica w1 por 2 y sumale w2 al resultado, guárdalo en w3 e imprímelo."
   ]
  },
  {
   "cell_type": "code",
   "execution_count": 39,
   "metadata": {
    "executionInfo": {
     "elapsed": 5,
     "status": "ok",
     "timestamp": 1648480883088,
     "user": {
      "displayName": "Ana P",
      "photoUrl": "https://lh3.googleusercontent.com/a-/AOh14Gg85ayysTbiJHM98_-uyOOFgFpkb6r7lgyMRQM=s64",
      "userId": "14235321316655358926"
     },
     "user_tz": -120
    },
    "id": "3aNA0ZEFp4Er"
   },
   "outputs": [
    {
     "name": "stdout",
     "output_type": "stream",
     "text": [
      "[ 6  9 18 17]\n"
     ]
    }
   ],
   "source": [
    "w3 = (w1*2)+w2\n",
    "print(w3)"
   ]
  },
  {
   "cell_type": "markdown",
   "metadata": {
    "id": "yeK2x-ovqGfJ"
   },
   "source": [
    "**Ejercicio 18** Concatena los arrays w1 y w2 con la función np.concatenate() e imprime el resultado"
   ]
  },
  {
   "cell_type": "code",
   "execution_count": 40,
   "metadata": {
    "executionInfo": {
     "elapsed": 404,
     "status": "ok",
     "timestamp": 1648480889714,
     "user": {
      "displayName": "Ana P",
      "photoUrl": "https://lh3.googleusercontent.com/a-/AOh14Gg85ayysTbiJHM98_-uyOOFgFpkb6r7lgyMRQM=s64",
      "userId": "14235321316655358926"
     },
     "user_tz": -120
    },
    "id": "dYaMCgJeqGMQ"
   },
   "outputs": [
    {
     "data": {
      "text/plain": [
       "array([2, 1, 5, 4, 2, 7, 8, 9])"
      ]
     },
     "execution_count": 40,
     "metadata": {},
     "output_type": "execute_result"
    }
   ],
   "source": [
    "np.concatenate((w1,w2))"
   ]
  },
  {
   "cell_type": "markdown",
   "metadata": {
    "id": "FcxsMZs6uN3M"
   },
   "source": [
    "**Ejercicio 19** Sean a y b los arrays definidos a continuación, piensa en que resultados crees que tendrán las operaciones siguientes. Luego programalas, ejecuta y comprueba si has acertado el resultado\n",
    "\n",
    "* a-b*2\n",
    "* (a+b)/3\n",
    "* b**2\n",
    "* a%2\n"
   ]
  },
  {
   "cell_type": "code",
   "execution_count": 41,
   "metadata": {
    "id": "2x6710vDuNlL"
   },
   "outputs": [],
   "source": [
    "#Definimos los arrays a y b\n",
    "a = np.array([2,1,1,5,4])\n",
    "b = np.array([0,7,0,4,6])"
   ]
  },
  {
   "cell_type": "code",
   "execution_count": 42,
   "metadata": {},
   "outputs": [
    {
     "data": {
      "text/plain": [
       "array([  2, -13,   1,  -3,  -8])"
      ]
     },
     "execution_count": 42,
     "metadata": {},
     "output_type": "execute_result"
    }
   ],
   "source": [
    "a-b*2"
   ]
  },
  {
   "cell_type": "code",
   "execution_count": 43,
   "metadata": {},
   "outputs": [
    {
     "data": {
      "text/plain": [
       "array([0.66666667, 2.66666667, 0.33333333, 3.        , 3.33333333])"
      ]
     },
     "execution_count": 43,
     "metadata": {},
     "output_type": "execute_result"
    }
   ],
   "source": [
    "(a+b)/3"
   ]
  },
  {
   "cell_type": "code",
   "execution_count": 44,
   "metadata": {},
   "outputs": [
    {
     "data": {
      "text/plain": [
       "array([ 0, 49,  0, 16, 36])"
      ]
     },
     "execution_count": 44,
     "metadata": {},
     "output_type": "execute_result"
    }
   ],
   "source": [
    "b**2"
   ]
  },
  {
   "cell_type": "code",
   "execution_count": 45,
   "metadata": {},
   "outputs": [
    {
     "data": {
      "text/plain": [
       "array([0, 1, 1, 1, 0], dtype=int32)"
      ]
     },
     "execution_count": 45,
     "metadata": {},
     "output_type": "execute_result"
    }
   ],
   "source": [
    "a%2"
   ]
  },
  {
   "cell_type": "markdown",
   "metadata": {
    "id": "_CCjJtHuMG27"
   },
   "source": [
    "**Ejercicio 20** Crea una array con las alturas de los 10 alumnos de una clase, luego calcula la media y la mediana de las alturas de los alumnos con las funciones np.mean() y np.median()"
   ]
  },
  {
   "cell_type": "code",
   "execution_count": 46,
   "metadata": {
    "id": "oqiFxvIDHpDF"
   },
   "outputs": [],
   "source": [
    "alumnos = np.array([1.60,1.75,1.65,1.85])"
   ]
  },
  {
   "cell_type": "code",
   "execution_count": 47,
   "metadata": {},
   "outputs": [
    {
     "data": {
      "text/plain": [
       "1.7125"
      ]
     },
     "execution_count": 47,
     "metadata": {},
     "output_type": "execute_result"
    }
   ],
   "source": [
    "np.mean(alumnos) "
   ]
  },
  {
   "cell_type": "code",
   "execution_count": 48,
   "metadata": {},
   "outputs": [
    {
     "data": {
      "text/plain": [
       "1.7"
      ]
     },
     "execution_count": 48,
     "metadata": {},
     "output_type": "execute_result"
    }
   ],
   "source": [
    "np.median(alumnos)"
   ]
  },
  {
   "cell_type": "markdown",
   "metadata": {
    "id": "Jst3ll1V87qM"
   },
   "source": [
    "**Ejercicio 21** Ha llegado una chica nueva a la clase, añade su altura en el array del ejercicio anterior mediante la función np.append() y luego ordena las alturas de menor a mayor con la función np.sort(). Piensa también una manera de ordenar las alturas de mayor a menor."
   ]
  },
  {
   "cell_type": "code",
   "execution_count": 49,
   "metadata": {
    "id": "FlE88VNbH06c"
   },
   "outputs": [],
   "source": [
    "alumnos = np.append(alumnos,1.62)"
   ]
  },
  {
   "cell_type": "code",
   "execution_count": 50,
   "metadata": {},
   "outputs": [],
   "source": [
    "alumnos = np.sort(alumnos)"
   ]
  },
  {
   "cell_type": "markdown",
   "metadata": {
    "id": "90E0Z5r5qiCw"
   },
   "source": [
    "**Ejercicio 22** Importa la librería Pandas y crea una serie de Pandas a partir del array del ejercicio anterior"
   ]
  },
  {
   "cell_type": "code",
   "execution_count": 51,
   "metadata": {
    "id": "-Ko2qmWKH41p"
   },
   "outputs": [],
   "source": [
    "import pandas as pd"
   ]
  },
  {
   "cell_type": "code",
   "execution_count": 52,
   "metadata": {},
   "outputs": [
    {
     "data": {
      "text/plain": [
       "0    1.60\n",
       "1    1.62\n",
       "2    1.65\n",
       "3    1.75\n",
       "4    1.85\n",
       "dtype: float64"
      ]
     },
     "execution_count": 52,
     "metadata": {},
     "output_type": "execute_result"
    }
   ],
   "source": [
    "pd.Series(alumnos)"
   ]
  },
  {
   "cell_type": "markdown",
   "metadata": {
    "id": "qfU8HjBbrp10"
   },
   "source": [
    "**Ejercicio 23** Guarda en un nuevo array las 3 últimas alturas del ejercicio 21, las de los alumnos más altos. Luego crea una Serie con estas tres alturas y define como index de la Serie los nombres de los alumnos asociados (invéntatelos)"
   ]
  },
  {
   "cell_type": "code",
   "execution_count": 53,
   "metadata": {
    "id": "J9unJBybH8C1"
   },
   "outputs": [],
   "source": [
    "alumnos_last = alumnos[-3:]"
   ]
  },
  {
   "cell_type": "code",
   "execution_count": 54,
   "metadata": {},
   "outputs": [
    {
     "data": {
      "text/plain": [
       "array([1.65, 1.75, 1.85])"
      ]
     },
     "execution_count": 54,
     "metadata": {},
     "output_type": "execute_result"
    }
   ],
   "source": [
    "alumnos_last"
   ]
  },
  {
   "cell_type": "code",
   "execution_count": 55,
   "metadata": {},
   "outputs": [],
   "source": [
    "alumnos_lastd = pd.Series(alumnos_last,index=[\"ana\",\"pedro\",'juan'])"
   ]
  },
  {
   "cell_type": "markdown",
   "metadata": {
    "id": "eWWoocpXsEmh"
   },
   "source": [
    "**Ejercicio 24** Selecciona el alumno más alto de la serie del ejercicio anterior. Puedes hacerlo usando los corchetes [ ], o también recuerda que en Pandas Series tenemos las funciones head() y tail()"
   ]
  },
  {
   "cell_type": "code",
   "execution_count": 56,
   "metadata": {
    "id": "cyhwvjbpsmyS"
   },
   "outputs": [
    {
     "data": {
      "text/plain": [
       "juan    1.85\n",
       "dtype: float64"
      ]
     },
     "execution_count": 56,
     "metadata": {},
     "output_type": "execute_result"
    }
   ],
   "source": [
    "alumnos_lastd.tail(1)"
   ]
  },
  {
   "cell_type": "markdown",
   "metadata": {
    "id": "0B3KZgIFsEjm"
   },
   "source": [
    "**Ejercicio 25** Definimos el diccionario dict1 formado por los nombres de 5 personas junto con sus edades. Crea una serie de Pandas a partir de este diccionario, definiendo el nombre como index y la edad como values."
   ]
  },
  {
   "cell_type": "code",
   "execution_count": 57,
   "metadata": {
    "id": "NibxGduvICyF"
   },
   "outputs": [],
   "source": [
    "dict1 = {\"Juliana\":18,\n",
    "        \"Marta\": 17,\n",
    "        alumnos_lastd.index[0] : 17,\n",
    "        alumnos_lastd.index[1] : 16,\n",
    "        alumnos_lastd.index[2] : 19}"
   ]
  },
  {
   "cell_type": "code",
   "execution_count": 58,
   "metadata": {},
   "outputs": [
    {
     "data": {
      "text/plain": [
       "{'Juliana': 18, 'Marta': 17, 'ana': 17, 'pedro': 16, 'juan': 19}"
      ]
     },
     "execution_count": 58,
     "metadata": {},
     "output_type": "execute_result"
    }
   ],
   "source": [
    "dict1"
   ]
  },
  {
   "cell_type": "markdown",
   "metadata": {
    "id": "H1oiBnzovLd-"
   },
   "source": [
    "**Ejercicio 26** Selecciona la edad de Marta a partir del labeled index de la serie creada en el ejercicio anterior "
   ]
  },
  {
   "cell_type": "code",
   "execution_count": 59,
   "metadata": {},
   "outputs": [],
   "source": [
    "dict1s = pd.Series(dict1)"
   ]
  },
  {
   "cell_type": "code",
   "execution_count": 60,
   "metadata": {
    "id": "cUFcVxtOIFD0"
   },
   "outputs": [
    {
     "data": {
      "text/plain": [
       "17"
      ]
     },
     "execution_count": 60,
     "metadata": {},
     "output_type": "execute_result"
    }
   ],
   "source": [
    "dict1s[\"Marta\"]"
   ]
  },
  {
   "cell_type": "markdown",
   "metadata": {
    "id": "ql1phoO1v-Qy"
   },
   "source": [
    "**Ejercicio 27** Selecciona la edad de la persona más mayor de dict1. Recuerda que podemos usar las funciones max() o nlargest()"
   ]
  },
  {
   "cell_type": "code",
   "execution_count": 61,
   "metadata": {
    "id": "064JQijKIFsc"
   },
   "outputs": [
    {
     "data": {
      "text/plain": [
       "19"
      ]
     },
     "execution_count": 61,
     "metadata": {},
     "output_type": "execute_result"
    }
   ],
   "source": [
    "dict1s.max()"
   ]
  },
  {
   "cell_type": "markdown",
   "metadata": {
    "id": "EjQBoL-wxiZh"
   },
   "source": [
    "**Ejercicio 28** Calcula la media de las edades de la serie elaborada a partir de dict1 mediante la función mean()"
   ]
  },
  {
   "cell_type": "code",
   "execution_count": 62,
   "metadata": {
    "id": "_YJRfU3mIHhI"
   },
   "outputs": [
    {
     "data": {
      "text/plain": [
       "17.4"
      ]
     },
     "execution_count": 62,
     "metadata": {},
     "output_type": "execute_result"
    }
   ],
   "source": [
    "dict1s.mean()"
   ]
  }
 ],
 "metadata": {
  "colab": {
   "collapsed_sections": [],
   "name": "Ejercicios_Tema_4_v2.ipynb",
   "provenance": [
    {
     "file_id": "11WCxu6FAsu8HEjkDDeMmbGDg437sBzo3",
     "timestamp": 1647712207168
    }
   ]
  },
  "kernelspec": {
   "display_name": "Python 3 (ipykernel)",
   "language": "python",
   "name": "python3"
  },
  "language_info": {
   "codemirror_mode": {
    "name": "ipython",
    "version": 3
   },
   "file_extension": ".py",
   "mimetype": "text/x-python",
   "name": "python",
   "nbconvert_exporter": "python",
   "pygments_lexer": "ipython3",
   "version": "3.11.2"
  }
 },
 "nbformat": 4,
 "nbformat_minor": 1
}
