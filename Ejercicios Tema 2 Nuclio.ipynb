{
 "cells": [
  {
   "cell_type": "markdown",
   "metadata": {
    "id": "gN2-JXtZLTKP"
   },
   "source": [
    "# 2. VARIABLES, OPERADORES, LISTAS Y DICCIONARIOS\n",
    "\n",
    "**EJERCICIOS:**"
   ]
  },
  {
   "cell_type": "markdown",
   "metadata": {
    "id": "DiAUQ4X2LhNB"
   },
   "source": [
    "En primer lugar, introduciremos unos conceptos básicos muy útiles para cualquier ejercicio. \n",
    "* **Comentarios:** Si queremos poner un comentario explicativo que no sea parte del código, solo tenemos que poner el simbolo # delante de nuestro texto"
   ]
  },
  {
   "cell_type": "code",
   "execution_count": 1,
   "metadata": {
    "id": "li9Ij7qJJ033"
   },
   "outputs": [],
   "source": [
    "#Esto es un ejemplo de comentario"
   ]
  },
  {
   "cell_type": "markdown",
   "metadata": {
    "id": "I7StLapHL28N"
   },
   "source": [
    "* **Ejecutar una celda:** Para ejecutar una celda en los notebooks de Google Colab solo tenemos que hacer la combinación de teclas Ctrl+Enter, para ejecutar una celda y quedarnos en ella, o Shift+Enter para ejecutar una celda y pasar a la siguiente. Shift+Enter es muy útil para ejecutar una celda tras otra.\n",
    "\n",
    "A partir de ahora ejecuta los ejemplos siguientes para ver su funcionamiento."
   ]
  },
  {
   "cell_type": "markdown",
   "metadata": {
    "id": "w5nModAPLiIV"
   },
   "source": [
    "* **Definir una variable:** Una variable es un sitio en el que guardar una información determinada. Recordemos que en Python no hace falta indicar qué gaurdaremos en la variable, ,dependiendo de si lo que guardamos en ella es un número entero, un decimal o una cadena de texto entre otros, la variable será de un tipo u otro. Cada variable tiene que tener un nombre, y asignaremos lo que queramos guardar en ella mediante el simbolo ="
   ]
  },
  {
   "cell_type": "code",
   "execution_count": 2,
   "metadata": {
    "colab": {
     "base_uri": "https://localhost:8080/"
    },
    "executionInfo": {
     "elapsed": 18,
     "status": "ok",
     "timestamp": 1646479865404,
     "user": {
      "displayName": "Ana P",
      "photoUrl": "https://lh3.googleusercontent.com/a-/AOh14Gg85ayysTbiJHM98_-uyOOFgFpkb6r7lgyMRQM=s64",
      "userId": "14235321316655358926"
     },
     "user_tz": -60
    },
    "id": "QlEyEMSGMLL5",
    "outputId": "717ae3f2-e7e2-4ace-c768-cffcc662cc97"
   },
   "outputs": [
    {
     "data": {
      "text/plain": [
       "int"
      ]
     },
     "execution_count": 2,
     "metadata": {},
     "output_type": "execute_result"
    }
   ],
   "source": [
    "#definimos una variable llamada var1 del tipo int (número entero)\n",
    "var1 = 3\n",
    "\n",
    "#comprobamos de que tipo es\n",
    "type(var1)"
   ]
  },
  {
   "cell_type": "code",
   "execution_count": 3,
   "metadata": {
    "colab": {
     "base_uri": "https://localhost:8080/"
    },
    "executionInfo": {
     "elapsed": 15,
     "status": "ok",
     "timestamp": 1646479865405,
     "user": {
      "displayName": "Ana P",
      "photoUrl": "https://lh3.googleusercontent.com/a-/AOh14Gg85ayysTbiJHM98_-uyOOFgFpkb6r7lgyMRQM=s64",
      "userId": "14235321316655358926"
     },
     "user_tz": -60
    },
    "id": "kyL4XP4FMe3m",
    "outputId": "c2d132d3-2da0-456c-ca7f-fff54f69b1ca"
   },
   "outputs": [
    {
     "data": {
      "text/plain": [
       "str"
      ]
     },
     "execution_count": 3,
     "metadata": {},
     "output_type": "execute_result"
    }
   ],
   "source": [
    "#definimos una variable llamada color del tipo string (cadena de texto)\n",
    "color = 'amarillo'\n",
    "\n",
    "#comprobamos de que tipo es\n",
    "type(color)"
   ]
  },
  {
   "cell_type": "markdown",
   "metadata": {
    "id": "qBUvRZtRMWct"
   },
   "source": [
    "* **Pedir al usuario un dato:** Si queremos que al ejecutar un programa éste nos pida información para ser introducida por el usuario, debemos usar la función input e indicar previamente de que tipo será la variable que introduzca el usuario a no ser que sea un string. Es una buena práctica dejar un espacio al final de la quote que hagas para pedir el dato o escribir \\n para crear una nueva línea."
   ]
  },
  {
   "cell_type": "code",
   "execution_count": 4,
   "metadata": {
    "colab": {
     "base_uri": "https://localhost:8080/"
    },
    "executionInfo": {
     "elapsed": 6871,
     "status": "ok",
     "timestamp": 1646479872264,
     "user": {
      "displayName": "Ana P",
      "photoUrl": "https://lh3.googleusercontent.com/a-/AOh14Gg85ayysTbiJHM98_-uyOOFgFpkb6r7lgyMRQM=s64",
      "userId": "14235321316655358926"
     },
     "user_tz": -60
    },
    "id": "jlercE-8L2tk",
    "outputId": "709c44e2-a384-4141-d4a3-ca3bc3673e3b"
   },
   "outputs": [
    {
     "name": "stdout",
     "output_type": "stream",
     "text": [
      "¿Cuántos años tienes? 23\n",
      "¿Cómo te llamas? Tao\n"
     ]
    }
   ],
   "source": [
    "#Para introducir un entero\n",
    "age = int(input('¿Cuántos años tienes? '))\n",
    "\n",
    "#Para introducir una string\n",
    "name = input('¿Cómo te llamas? ')"
   ]
  },
  {
   "cell_type": "markdown",
   "metadata": {
    "id": "pXpDXgQFNMz1"
   },
   "source": [
    "Ahora hemos guardado la información proporcionada por el usuario en las variables indicadas.\n",
    "\n",
    "* **Imprimir información:** Es muy útil siempre que estemos programando imprimir los resultados que vamos obteniendo para ver si lo estamos haciendo bien. Para imprimir el output usamos la función print. Con ella podemos imprimir tanto texto (siempre entre comillas) como variables, intercalando la información con comas. En este caso no hará falta indicar de que tipo son las variables que imprimamos."
   ]
  },
  {
   "cell_type": "code",
   "execution_count": 5,
   "metadata": {
    "colab": {
     "base_uri": "https://localhost:8080/"
    },
    "executionInfo": {
     "elapsed": 31,
     "status": "ok",
     "timestamp": 1646479872265,
     "user": {
      "displayName": "Ana P",
      "photoUrl": "https://lh3.googleusercontent.com/a-/AOh14Gg85ayysTbiJHM98_-uyOOFgFpkb6r7lgyMRQM=s64",
      "userId": "14235321316655358926"
     },
     "user_tz": -60
    },
    "id": "wkJNqW0CL0Aj",
    "outputId": "3fd2b47a-bf07-44cc-e9be-83d6bbb4a11f"
   },
   "outputs": [
    {
     "name": "stdout",
     "output_type": "stream",
     "text": [
      "El usuario tiene 23 años y se llama Tao\n"
     ]
    }
   ],
   "source": [
    "print('El usuario tiene', age, 'años y se llama', name)"
   ]
  },
  {
   "cell_type": "markdown",
   "metadata": {
    "id": "lUrKzw-8N-Kd"
   },
   "source": [
    "Una vez tenemos clara esta información inicial, pasamos a los ejercicios. Deberéis imprimir el output de todos ellos para verificar que lo estáis haciendo correctamente."
   ]
  },
  {
   "cell_type": "markdown",
   "metadata": {
    "id": "BFdbI4bYOKXl"
   },
   "source": [
    "**Ejercicio 1**\n",
    "Definir una variable de cada tipo de los que hemos visto: int, float, string, list, dictionary y luego comprobar el tipo del que son mediante la función type(variable)"
   ]
  },
  {
   "cell_type": "code",
   "execution_count": 6,
   "metadata": {
    "id": "g1ALGQ9ps_fd"
   },
   "outputs": [],
   "source": [
    "entero = 23\n",
    "flotante = 52.5\n",
    "caracteres = 'hola'\n",
    "lista =[4,5,6,8,4,2]\n",
    "diccionario = {\"nombres\":['juan','carlos','jorge'],\"edades\":[2,3,1]}\n"
   ]
  },
  {
   "cell_type": "code",
   "execution_count": 7,
   "metadata": {},
   "outputs": [
    {
     "name": "stdout",
     "output_type": "stream",
     "text": [
      "la variable entero del tipo <class 'int'> tiene un valor de 23, \n",
      "el flotante <class 'float'> vale 52.5, \n",
      "la cadena de caracteres <class 'str'> es hola, tiene 4 caracteres, \n",
      "la lista <class 'list'> tiene 6\n",
      "el diccionario <class 'dict'> tiene 2 elementos\n",
      "\n"
     ]
    }
   ],
   "source": [
    "print (f\"\"\"la variable entero del tipo {type(entero)} tiene un valor de {entero}, \n",
    "el flotante {type(flotante)} vale {flotante}, \n",
    "la cadena de caracteres {type(caracteres)} es {caracteres}, tiene {len(caracteres)} caracteres, \n",
    "la lista {type(lista)} tiene {len(lista)}\n",
    "el diccionario {type(diccionario)} tiene {len(diccionario)} elementos\n",
    "\"\"\")"
   ]
  },
  {
   "cell_type": "markdown",
   "metadata": {
    "id": "AlU_83akOr8M"
   },
   "source": [
    "**Ejercicio 2**\n",
    "Pide al usuario dos números y luego calcula su suma e imprímela"
   ]
  },
  {
   "cell_type": "code",
   "execution_count": 8,
   "metadata": {
    "id": "MqndwH7etRl4"
   },
   "outputs": [
    {
     "name": "stdout",
     "output_type": "stream",
     "text": [
      "ingrese un numero: 5\n",
      "inggrese otro numero: 12\n",
      "la suma de 5.0 y 12.0 es 17.0\n"
     ]
    }
   ],
   "source": [
    "a = float(input(\"ingrese un numero: \"))\n",
    "b = float(input(\"inggrese otro numero: \"))\n",
    "print(f\"la suma de {a} y {b} es {a+b}\")"
   ]
  },
  {
   "cell_type": "markdown",
   "metadata": {
    "id": "gPaI4IlpO4Yu"
   },
   "source": [
    "**Ejercicio 3**\n",
    "Calcula el área de un triangulo equilátero de base=8cm y altura=3cm. Recuerda que la fórmula para calcular el área de un triangulo equilátero es base por altura entre 2."
   ]
  },
  {
   "cell_type": "code",
   "execution_count": 9,
   "metadata": {
    "id": "iJV4y_bNuSZy"
   },
   "outputs": [
    {
     "name": "stdout",
     "output_type": "stream",
     "text": [
      "el area del tringulo con altura de 3cm y base de 8cm es 12.0cm\n"
     ]
    }
   ],
   "source": [
    "b = 8\n",
    "h = 3\n",
    "print(f\"el area del tringulo con altura de {h}cm y base de {8}cm es {(b*h)/2}cm\")"
   ]
  },
  {
   "cell_type": "markdown",
   "metadata": {
    "id": "6JeTxpZ7PXTH"
   },
   "source": [
    "**Ejercicio 4** \n",
    "Pide un número entero al usuario y averigua si es par o impar con una sola operación. Recuerda que para hacer la división y ver el residuo de un valor se usa el operador %. "
   ]
  },
  {
   "cell_type": "code",
   "execution_count": 10,
   "metadata": {
    "colab": {
     "base_uri": "https://localhost:8080/"
    },
    "executionInfo": {
     "elapsed": 27,
     "status": "ok",
     "timestamp": 1646479872268,
     "user": {
      "displayName": "Ana P",
      "photoUrl": "https://lh3.googleusercontent.com/a-/AOh14Gg85ayysTbiJHM98_-uyOOFgFpkb6r7lgyMRQM=s64",
      "userId": "14235321316655358926"
     },
     "user_tz": -60
    },
    "id": "32cODccyPsaE",
    "outputId": "93480251-f5de-4a4e-8bcd-42d07b385c28"
   },
   "outputs": [
    {
     "name": "stdout",
     "output_type": "stream",
     "text": [
      "2\n"
     ]
    }
   ],
   "source": [
    "#ejemplo\n",
    "residuo = 5%3\n",
    "print(residuo) #el valor es igual a 2 porque la división entre 5 y 3 da como cociente 1 y residuo 2"
   ]
  },
  {
   "cell_type": "code",
   "execution_count": 11,
   "metadata": {
    "id": "BB2ja4vnurkp"
   },
   "outputs": [
    {
     "name": "stdout",
     "output_type": "stream",
     "text": [
      "ingrese un numero entero: 51\n",
      "el numero 51 es impar\n"
     ]
    }
   ],
   "source": [
    "num = int(input(\"ingrese un numero entero: \"))\n",
    "if num%2==0:\n",
    "    print(f\"el numero {num} es par\")\n",
    "else:\n",
    "    print(f\"el numero {num} es impar\")"
   ]
  },
  {
   "cell_type": "markdown",
   "metadata": {
    "id": "uIYvCHivPr68"
   },
   "source": [
    "**Ejercicio 5**\n",
    "Intercambia los valores de dos variables, haz que lo que contenga la variable x esté en la variable y y lo que está en la variable y esté en la x."
   ]
  },
  {
   "cell_type": "code",
   "execution_count": 12,
   "metadata": {
    "id": "bnpJJI3MPs0G"
   },
   "outputs": [],
   "source": [
    "#Definimos variables\n",
    "x = 'Hello'\n",
    "y = 3"
   ]
  },
  {
   "cell_type": "code",
   "execution_count": 13,
   "metadata": {
    "id": "9PA7Lh-mvFjC"
   },
   "outputs": [
    {
     "name": "stdout",
     "output_type": "stream",
     "text": [
      "Originalmente las variables 'x' y 'y' tienen los valores Hello, 3 respectivamente\n",
      "Ahora las variables 'x' y 'y' tienen los valores 3, Hello respectivamente\n"
     ]
    }
   ],
   "source": [
    "print(f\"Originalmente las variables 'x' y 'y' tienen los valores {x}, {y} respectivamente\")\n",
    "tem = x\n",
    "x = y\n",
    "y  = tem\n",
    "print(f\"Ahora las variables 'x' y 'y' tienen los valores {x}, {y} respectivamente\")"
   ]
  },
  {
   "cell_type": "markdown",
   "metadata": {
    "id": "wh1Fm5YPPoo4"
   },
   "source": [
    "**Ejercicio 6**\n",
    "Consigue que todas las palabras que se encuentran en distintos strings se encuentren en un solo string que forme una frase"
   ]
  },
  {
   "cell_type": "code",
   "execution_count": 14,
   "metadata": {
    "id": "uLaNhq4MPoVI"
   },
   "outputs": [],
   "source": [
    "#Definimos las palabras\n",
    "word1 = '¿Qué '\n",
    "word2 = 'prefieres '\n",
    "word3 = 'para '\n",
    "word4 = 'desayunar?'"
   ]
  },
  {
   "cell_type": "code",
   "execution_count": 15,
   "metadata": {
    "id": "xVHqiN9RvT9h"
   },
   "outputs": [
    {
     "name": "stdout",
     "output_type": "stream",
     "text": [
      "La palabra completa es: \n",
      "¿Qué prefieres para desayunar?\n"
     ]
    }
   ],
   "source": [
    "word_complete = word1+word2+word3+word4\n",
    "print(f\"La palabra completa es: \\n{word_complete}\")"
   ]
  },
  {
   "cell_type": "markdown",
   "metadata": {
    "id": "1a3EPksVQyPl"
   },
   "source": [
    "**Ejercicio 7**\n",
    "Pon en un comentario el resultado que crees que saldrá de cada comparador y luego ejecuta y comprueba"
   ]
  },
  {
   "cell_type": "code",
   "execution_count": 16,
   "metadata": {
    "id": "0WAEAVM0Q4SO"
   },
   "outputs": [
    {
     "name": "stdout",
     "output_type": "stream",
     "text": [
      "True\n",
      "False\n",
      "False\n",
      "True\n",
      "False\n",
      "False\n"
     ]
    }
   ],
   "source": [
    "print(9>=2 or 132<128)\n",
    "print(3 in [1,4,5,32] and 1==1)\n",
    "print(9+3*2+1 == 25)\n",
    "print(24%2 == 0)\n",
    "print(15//2 == 7.5)\n",
    "print(2**3 != 8)"
   ]
  },
  {
   "cell_type": "markdown",
   "metadata": {
    "id": "0bD4AyD6SG5-"
   },
   "source": [
    "**Ejercicio 8** Para encontrar el máximo de una lista podemos usar la función max(), pero en este caso lo encontraremos de una forma distinta y comprobaremos que lo hayamos hecho bien con la función max(). Encuentra el máximo entre las listas list1 y list2: Dadas dos listas list1 y list2 concatenalas, luego ordena la lista resultante mediante la función .sort() y quédate con el último elemento que será el máximo."
   ]
  },
  {
   "cell_type": "code",
   "execution_count": 17,
   "metadata": {
    "id": "76R5lESXRMOo"
   },
   "outputs": [],
   "source": [
    "list1 = [6, 13, 8, 21]\n",
    "list2 = [2, -50, 25]"
   ]
  },
  {
   "cell_type": "code",
   "execution_count": 18,
   "metadata": {
    "id": "2bz-LblOvmvK"
   },
   "outputs": [
    {
     "name": "stdout",
     "output_type": "stream",
     "text": [
      "La lista uno contiene los datos [6, 13, 8, 21] con el maximo 21 y minimo 6\n",
      "La lista uno contiene los datos [2, -50, 25] con el maximo 25 y minimo -50\n",
      "Al concatenar las listas tenemos [-50, 2, 6, 8, 13, 21, 25], con el maximo 25 y minimo -50\n"
     ]
    }
   ],
   "source": [
    "print(f\"\"\"La lista uno contiene los datos {list1} con el maximo {max(list1)} y minimo {min(list1)}\n",
    "La lista uno contiene los datos {list2} con el maximo {max(list2)} y minimo {min(list2)}\"\"\")\n",
    "list3 = list1+list2\n",
    "list3.sort()\n",
    "print(f\"Al concatenar las listas tenemos {list3}, con el maximo {max(list3)} y minimo {min(list3)}\")"
   ]
  },
  {
   "cell_type": "markdown",
   "metadata": {
    "id": "KecnckzsTr-X"
   },
   "source": [
    "**Ejercicio 9** Añade la palabra 'Fin' al final de la lista obtenida en el apartado anterior mediante la función .append(). Y añade en la posición 2 de la misma lista la string 'Posición 2' mediante la función .insert()"
   ]
  },
  {
   "cell_type": "code",
   "execution_count": 19,
   "metadata": {
    "id": "lz8k8IKOv_Qv"
   },
   "outputs": [
    {
     "data": {
      "text/plain": [
       "[-50, 'Posición 2', 2, 6, 8, 13, 21, 25, 'Fin']"
      ]
     },
     "execution_count": 19,
     "metadata": {},
     "output_type": "execute_result"
    }
   ],
   "source": [
    "list3.append(\"Fin\")\n",
    "list3.insert(1,'Posición 2')\n",
    "list3"
   ]
  },
  {
   "cell_type": "markdown",
   "metadata": {
    "id": "eNVdPDb2Sv01"
   },
   "source": [
    "**Ejercicio 10** Accede al primer elemento de la lista obtenida en el apartado anterior"
   ]
  },
  {
   "cell_type": "code",
   "execution_count": 20,
   "metadata": {
    "id": "U6wa1xvGSw3A"
   },
   "outputs": [
    {
     "data": {
      "text/plain": [
       "-50"
      ]
     },
     "execution_count": 20,
     "metadata": {},
     "output_type": "execute_result"
    }
   ],
   "source": [
    "list3[0]"
   ]
  },
  {
   "cell_type": "markdown",
   "metadata": {
    "id": "02sobppfUc1t"
   },
   "source": [
    "**Ejercicio 11** Guarda en una lista llamada first3 los tres primeros elementos de la lista del apartado anterior y en otra lista llamada last3 los 3 últimos elementos. \n",
    "\n",
    "Recuerda que para seleccionar un trozo de una lista lo podemos indicar de la siguiente manera: Si quiero obtener de la posición 2 a la 5 de mylist los seleccionaré haciendo mylist[2:5]. Si queremos indicar el primer o el último elemento no hace falta poner nada en ese lugar, con mylist[:] obtendríamos todos los elementos de la lista."
   ]
  },
  {
   "cell_type": "code",
   "execution_count": 21,
   "metadata": {
    "id": "Y9aEjz_TwvjC"
   },
   "outputs": [],
   "source": [
    "first3 = list3[:3]\n",
    "last3 = list3[-3:]"
   ]
  },
  {
   "cell_type": "code",
   "execution_count": 22,
   "metadata": {},
   "outputs": [
    {
     "name": "stdout",
     "output_type": "stream",
     "text": [
      "La lista first3 contiene [-50, 'Posición 2', 2] y la lista last3 contiene [21, 25, 'Fin']\n"
     ]
    }
   ],
   "source": [
    "print(f\"La lista first3 contiene {first3} y la lista last3 contiene {last3}\")"
   ]
  },
  {
   "cell_type": "markdown",
   "metadata": {
    "id": "CHtXdRBLVFF1"
   },
   "source": [
    "**Ejercicio 12** \n",
    "Para ordenar una lista, tenemos la función lista.sort() y la función sorted(lista). Con la función .sort() ordenamos la lista a la que aplicamos la función de manera permanente. Con la función sorted() hacemos una copia ordenada de la lista. Por defecto, estas funciones ordenan de menor a mayor en caso de ser números y en orden alfabético en caso de tener strings. Pero podemos colocar la expresion reverse=True dentro del parentesis de las funciones de orden, con la que el orden será el inverso.\n",
    "\n",
    "Ordena la lista my_list de menor a mayor y haz una copia de esta ordenada de mayor a menor usando las funciones acabadas de explicar."
   ]
  },
  {
   "cell_type": "code",
   "execution_count": 23,
   "metadata": {
    "id": "Kgyi3vM2XffI"
   },
   "outputs": [],
   "source": [
    "my_list = list1+list2"
   ]
  },
  {
   "cell_type": "code",
   "execution_count": 24,
   "metadata": {},
   "outputs": [],
   "source": [
    "my_list_a = sorted(my_list,reverse=True)\n",
    "my_list_b = sorted(my_list,reverse=False)"
   ]
  },
  {
   "cell_type": "code",
   "execution_count": 25,
   "metadata": {},
   "outputs": [
    {
     "name": "stdout",
     "output_type": "stream",
     "text": [
      "La lista es [6, 13, 8, 21, 2, -50, 25] \n",
      "ordenada de menor a mayor es [25, 21, 13, 8, 6, 2, -50] \n",
      "y de mayor a menor es [-50, 2, 6, 8, 13, 21, 25]\n"
     ]
    }
   ],
   "source": [
    "print(f\"\"\"La lista es {my_list[:]} \n",
    "ordenada de menor a mayor es {sorted(my_list,reverse=True)} \n",
    "y de mayor a menor es {sorted(my_list,reverse=False)}\"\"\")"
   ]
  },
  {
   "cell_type": "markdown",
   "metadata": {
    "id": "f88w_PHyYVni"
   },
   "source": [
    "**Ejercicio 13**\n",
    "Dado el siguiente diccionario, responde a las siguientes preguntas:"
   ]
  },
  {
   "cell_type": "code",
   "execution_count": 26,
   "metadata": {
    "id": "M-cFrpkyY8D0"
   },
   "outputs": [],
   "source": [
    "#Definimos el diccionario\n",
    "\n",
    "dict1 = {'name' : 'Britney Spears',\n",
    "         'born' : 1981,\n",
    "         'profession' : 'singer'}"
   ]
  },
  {
   "cell_type": "markdown",
   "metadata": {
    "id": "9BEo4MJJZL7m"
   },
   "source": [
    "* En que año nació Britney Spears?"
   ]
  },
  {
   "cell_type": "code",
   "execution_count": 27,
   "metadata": {
    "id": "vQqvhblOxwsA"
   },
   "outputs": [
    {
     "name": "stdout",
     "output_type": "stream",
     "text": [
      "Britney Spears nacio en el año 1981\n"
     ]
    }
   ],
   "source": [
    "print(f\"Britney Spears nacio en el año {dict1['born']}\")"
   ]
  },
  {
   "cell_type": "markdown",
   "metadata": {
    "id": "JJZ1wMAQZUFL"
   },
   "source": [
    "* Añade al diccionario el país en el que nació Britney Spears"
   ]
  },
  {
   "cell_type": "code",
   "execution_count": 28,
   "metadata": {
    "id": "g-s7rdE5x6Uc"
   },
   "outputs": [
    {
     "name": "stdout",
     "output_type": "stream",
     "text": [
      "¿En que pais nacio Britney Spears? Estados Unidos\n",
      "Britney Spears nacio en el año 1981 en Estados Unidos\n"
     ]
    }
   ],
   "source": [
    "dict1[\"pais\"] =input(\"¿En que pais nacio Britney Spears? \") \n",
    "print(f\"Britney Spears nacio en el año {dict1['born']} en {dict1['pais']}\")"
   ]
  },
  {
   "cell_type": "markdown",
   "metadata": {
    "id": "JZ_AMcbeZd_P"
   },
   "source": [
    "* Cambia la profesión de 'singer' a 'dancer'"
   ]
  },
  {
   "cell_type": "code",
   "execution_count": 29,
   "metadata": {
    "id": "gl8H84kc19Pn"
   },
   "outputs": [
    {
     "name": "stdout",
     "output_type": "stream",
     "text": [
      "Britney Spears tiene la profesion de dancer\n"
     ]
    }
   ],
   "source": [
    "dict1[\"profession\"] = \"dancer\"\n",
    "print(f\"Britney Spears tiene la profesion de {dict1['profession']}\")"
   ]
  },
  {
   "cell_type": "markdown",
   "metadata": {
    "id": "m61h7NkbZjFc"
   },
   "source": [
    "**Ejercicio 14** \n",
    "Crea un diccionario con las notas que ha sacado Pepito en Matemáticas, Lengua, Química y Historia (inventadas) y devuelve su mejor nota."
   ]
  },
  {
   "cell_type": "code",
   "execution_count": 30,
   "metadata": {
    "id": "C-eVAOP9yHui"
   },
   "outputs": [],
   "source": [
    "dict2 = {'Nombre' : 'Pepito',\n",
    "         'Materias' : [\"Matemáticas\", \"Lengua\", \"Química y Historia\"],\n",
    "         'Notas' : [10,8,7]}"
   ]
  },
  {
   "cell_type": "code",
   "execution_count": 31,
   "metadata": {},
   "outputs": [
    {
     "name": "stdout",
     "output_type": "stream",
     "text": [
      "El alumno Pepito tiene su mejor nota de 10 \n",
      "en la materia de Matemáticas\n"
     ]
    }
   ],
   "source": [
    "print(f\"\"\"El alumno {dict2['Nombre']} tiene su mejor nota de {max(dict2['Notas'])} \n",
    "en la materia de {dict2['Materias'][dict2['Notas'].index(max(dict2['Notas']))]}\"\"\")"
   ]
  },
  {
   "cell_type": "markdown",
   "metadata": {
    "id": "N4DuVBWvaMlm"
   },
   "source": [
    "Usando las funciones sum(list) y len(list), calcula la media de las notas de Pepito."
   ]
  },
  {
   "cell_type": "code",
   "execution_count": 32,
   "metadata": {
    "id": "4QWg4f7Od6vS"
   },
   "outputs": [
    {
     "name": "stdout",
     "output_type": "stream",
     "text": [
      "El promedio de las notas de Pepito es de 8.333333333333334\n"
     ]
    }
   ],
   "source": [
    "print(f\"El promedio de las notas de {dict2['Nombre']} es de {sum(dict2['Notas'])/len(dict2['Notas'])}\")"
   ]
  }
 ],
 "metadata": {
  "colab": {
   "authorship_tag": "ABX9TyOMKk3+vWbNQihBfyg+sOKN",
   "collapsed_sections": [],
   "name": "Ejercicios Tema 2_v2.ipynb",
   "provenance": [
    {
     "file_id": "1gsdUOegZU4iuPfV_OgSlCWn4BtApndYe",
     "timestamp": 1646479910461
    },
    {
     "file_id": "1F2KFvuOishZmhM6tlNZ7PPTb8CSgDaFt",
     "timestamp": 1646473365614
    }
   ]
  },
  "kernelspec": {
   "display_name": "Python 3 (ipykernel)",
   "language": "python",
   "name": "python3"
  },
  "language_info": {
   "codemirror_mode": {
    "name": "ipython",
    "version": 3
   },
   "file_extension": ".py",
   "mimetype": "text/x-python",
   "name": "python",
   "nbconvert_exporter": "python",
   "pygments_lexer": "ipython3",
   "version": "3.10.4"
  }
 },
 "nbformat": 4,
 "nbformat_minor": 1
}
