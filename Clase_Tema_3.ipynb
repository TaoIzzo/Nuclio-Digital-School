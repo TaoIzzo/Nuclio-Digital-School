{
 "cells": [
  {
   "cell_type": "markdown",
   "metadata": {
    "id": "TXMHEtqf69W_"
   },
   "source": [
    "1. Escribir un programa que pregunte al usuario su edad y muestre por pantalla si es mayor de edad o no."
   ]
  },
  {
   "cell_type": "code",
   "execution_count": 1,
   "metadata": {
    "id": "0FaUtbDcOyYB"
   },
   "outputs": [
    {
     "name": "stdout",
     "output_type": "stream",
     "text": [
      "Ingrese su edad: 23\n",
      "felicidades, por ser mayor de vamos por unas cheves\n"
     ]
    }
   ],
   "source": [
    "age = int(input(\"Ingrese su edad: \"))\n",
    "if age >= 18:\n",
    "    print(f\"felicidades, por ser mayor de vamos por unas cheves\")\n",
    "else:\n",
    "    print(f\"Como no eres mayor de edad no puedes tomar alcohol\")"
   ]
  },
  {
   "cell_type": "markdown",
   "metadata": {
    "id": "P2VsOpvC7CJ4"
   },
   "source": [
    "2. Escribir un programa que almacene la cadena de caracteres contraseña en una variable, pregunte al usuario por la contraseña e imprima por pantalla si la contraseña introducida por el usuario coincide con la guardada en la variable. Haz que pregunte al usuario por la contraseña hasta que introduzca la contraseña correcta."
   ]
  },
  {
   "cell_type": "code",
   "execution_count": 2,
   "metadata": {
    "id": "PUZkJwLoOzCG"
   },
   "outputs": [
    {
     "name": "stdout",
     "output_type": "stream",
     "text": [
      "Introduzca su contraseña: Contraseña\n",
      "Confirme su contraseña: contraseña\n",
      "Contraseña erronea\n",
      "Confirme su contraseña: Contraseña\n",
      "Has confirmado correctamente tu contraseña\n"
     ]
    }
   ],
   "source": [
    "psswd = input(\"Introduzca su contraseña: \")\n",
    "ok = False\n",
    "while ok==False:\n",
    "    confirm = input(\"Confirme su contraseña: \")\n",
    "    if psswd == confirm:\n",
    "        print(\"Has confirmado correctamente tu contraseña\")\n",
    "        ok =True\n",
    "    else:\n",
    "        print(\"Contraseña erronea\")"
   ]
  },
  {
   "cell_type": "markdown",
   "metadata": {
    "id": "ZquOLoV37Gu-"
   },
   "source": [
    "3. Escribir un programa que pida al usuario dos números y muestre por pantalla su división. Si el divisor es cero el programa debe mostrar un error."
   ]
  },
  {
   "cell_type": "code",
   "execution_count": 3,
   "metadata": {
    "id": "s0lVxSiYOzqe"
   },
   "outputs": [
    {
     "name": "stdout",
     "output_type": "stream",
     "text": [
      "Ingrese el divisor: 0\n",
      "Ingrese el dividiendo: 3\n",
      "Error, el divisor es 0, no esta definida la operacion \n"
     ]
    }
   ],
   "source": [
    "divisor = int(input(\"Ingrese el divisor: \"))\n",
    "dividiendo = int(input(\"Ingrese el dividiendo: \"))\n",
    "if divisor == 0:\n",
    "    print(f\"Error, el divisor es {divisor}, no esta definida la operacion \")\n",
    "else:\n",
    "    print(f\"El resultado es {dividiendo/divisor}\")"
   ]
  },
  {
   "cell_type": "markdown",
   "metadata": {
    "id": "orAYwlDU7J6t"
   },
   "source": [
    "4. Escribir un programa que pida al usuario un número entero y muestre por pantalla si es par o impar."
   ]
  },
  {
   "cell_type": "code",
   "execution_count": 4,
   "metadata": {
    "id": "OPOCXCeoO0we"
   },
   "outputs": [
    {
     "name": "stdout",
     "output_type": "stream",
     "text": [
      "Ingrese un numero: 87\n",
      "El numero 87 es impar\n"
     ]
    }
   ],
   "source": [
    "user_num = int(input(\"Ingrese un numero: \"))\n",
    "if user_num%2 ==0:\n",
    "    print(f\"El numero {user_num} es par\")\n",
    "else:\n",
    "    print(f\"El numero {user_num} es impar\")"
   ]
  },
  {
   "cell_type": "markdown",
   "metadata": {
    "id": "MEfgS8JF7R1U"
   },
   "source": [
    "5. Para tributar un determinado impuesto se debe ser mayor o igual de 18 años y tener unos ingresos iguales o superiores a 1000 € mensuales. Escribir un programa que pregunte al usuario su edad y sus ingresos mensuales y muestre por pantalla si el usuario tiene que tributar o no\n"
   ]
  },
  {
   "cell_type": "code",
   "execution_count": 5,
   "metadata": {
    "id": "3BGl0p6oO1gl"
   },
   "outputs": [
    {
     "name": "stdout",
     "output_type": "stream",
     "text": [
      "Ingrese su edad: 23\n",
      "Digite su ingreso en euros: 800\n",
      "No cumples los requerimientos para tributar\n"
     ]
    }
   ],
   "source": [
    "user_age = int(input(\"Ingrese su edad: \"))\n",
    "user_income = float(input(\"Digite su ingreso en euros: \"))\n",
    "if user_age>=18 and user_income>=1000:\n",
    "    print(f\"Por tener {user_age} años y un ingreso de {user_income} euros tienes que tributar\")\n",
    "else:\n",
    "    print(f\"No cumples los requerimientos para tributar\")"
   ]
  },
  {
   "cell_type": "markdown",
   "metadata": {
    "id": "jKxFJjwq7Vax"
   },
   "source": [
    "6. Escribir un programa para una empresa que tiene salas de juegos para todas las edades y quiere calcular de forma automática el precio que debe cobrar a sus clientes por entrar. El programa debe preguntar al usuario la edad del cliente y mostrar el precio de la entrada. Si el cliente es menor de 4 años puede entrar gratis, si tiene entre 4 y 18 años debe pagar 5€ y si es mayor de 18 años, 10€."
   ]
  },
  {
   "cell_type": "code",
   "execution_count": 6,
   "metadata": {
    "id": "qVNfm7hwO24m"
   },
   "outputs": [
    {
     "name": "stdout",
     "output_type": "stream",
     "text": [
      "Ingrese su edad: 23\n",
      "debes pagar 10€\n"
     ]
    }
   ],
   "source": [
    "costumer_age = int(input(\"Ingrese su edad: \"))\n",
    "if costumer_age<4:\n",
    "    print(\"Puedes entrar gratis\")\n",
    "elif costumer_age>=3 and costumer_age<=18:\n",
    "    print(\"Debes pagar 5€\")\n",
    "else:\n",
    "    print(\"debes pagar 10€\")"
   ]
  },
  {
   "cell_type": "markdown",
   "metadata": {
    "id": "fTe-LQqn7ZFS"
   },
   "source": [
    "7. Escribir un programa que pida al usuario una palabra y la muestre por pantalla 10 veces."
   ]
  },
  {
   "cell_type": "code",
   "execution_count": 7,
   "metadata": {
    "id": "ztLTiAPsO3t-"
   },
   "outputs": [
    {
     "name": "stdout",
     "output_type": "stream",
     "text": [
      "Ingrese una palabra: Hola\n",
      "HolaHolaHolaHolaHolaHolaHolaHolaHolaHola\n"
     ]
    }
   ],
   "source": [
    "user_word = input(\"Ingrese una palabra: \")\n",
    "print(user_word*10)"
   ]
  },
  {
   "cell_type": "markdown",
   "metadata": {
    "id": "LlZ7hf7z7cfS"
   },
   "source": [
    "8. Escribir un programa que muestre por pantalla la tabla de multiplicar del 7\n"
   ]
  },
  {
   "cell_type": "code",
   "execution_count": 8,
   "metadata": {
    "id": "3OCxyqqVO4qH"
   },
   "outputs": [
    {
     "name": "stdout",
     "output_type": "stream",
     "text": [
      "La tabla del 7 es:\n",
      "7\n",
      "14\n",
      "21\n",
      "28\n",
      "35\n",
      "42\n",
      "49\n",
      "56\n",
      "63\n",
      "70\n"
     ]
    }
   ],
   "source": [
    "print(\"La tabla del 7 es:\")\n",
    "for i in range(1,11):\n",
    "    print(7*i)"
   ]
  },
  {
   "cell_type": "markdown",
   "metadata": {
    "id": "aoDK-d8Z7cUY"
   },
   "source": [
    "9. Escribir un programa que pida al usuario un número entero y muestre por pantalla un triángulo rectángulo como el de más abajo, de altura el número introducido.\n"
   ]
  },
  {
   "cell_type": "code",
   "execution_count": 9,
   "metadata": {
    "id": "oO8ozU0v7mhe"
   },
   "outputs": [
    {
     "name": "stdout",
     "output_type": "stream",
     "text": [
      "*\n",
      "**\n",
      "***\n",
      "****\n",
      "*****\n"
     ]
    }
   ],
   "source": [
    "\"\"\"\n",
    "*\n",
    "**\n",
    "***\n",
    "****\n",
    "*****\n",
    "\"\"\"\n",
    "for i in range(1,6):\n",
    "    print(\"*\"*i)"
   ]
  },
  {
   "cell_type": "markdown",
   "metadata": {
    "id": "rmJU76x57p3J"
   },
   "source": [
    "10. Escribir un programa que pida al usuario un número entero positivo y muestre por pantalla la cuenta atrás desde ese número hasta cero"
   ]
  },
  {
   "cell_type": "code",
   "execution_count": 10,
   "metadata": {
    "id": "vT2Ya9xhO8oS"
   },
   "outputs": [
    {
     "name": "stdout",
     "output_type": "stream",
     "text": [
      "Cuenta regresiva\n",
      "ingrese un numero para iniciar la cuenta: 30\n",
      "30\n",
      "29\n",
      "28\n",
      "27\n",
      "26\n",
      "25\n",
      "24\n",
      "23\n",
      "22\n",
      "21\n",
      "20\n",
      "19\n",
      "18\n",
      "17\n",
      "16\n",
      "15\n",
      "14\n",
      "13\n",
      "12\n",
      "11\n",
      "10\n",
      "9\n",
      "8\n",
      "7\n",
      "6\n",
      "5\n",
      "4\n",
      "3\n",
      "2\n",
      "1\n"
     ]
    }
   ],
   "source": [
    "print(\"Cuenta regresiva\")\n",
    "user_num = int(input(\"ingrese un numero para iniciar la cuenta: \"))\n",
    "for i in range (user_num,0,-1):\n",
    "    print(i)"
   ]
  },
  {
   "cell_type": "markdown",
   "metadata": {
    "id": "W-4d8Uqw7tqF"
   },
   "source": [
    "11. Escribir un programa que pregunte al usuario su edad y muestre por pantalla todos los años que ha cumplido (desde 1 hasta su edad)."
   ]
  },
  {
   "cell_type": "code",
   "execution_count": 11,
   "metadata": {
    "id": "g8taPZGeO9hw"
   },
   "outputs": [
    {
     "name": "stdout",
     "output_type": "stream",
     "text": [
      "cuenta de cumpleaños cumplidos\n",
      "Ingrese su edad actual: 23\n",
      "usted ha cumplido 1 años\n",
      "usted ha cumplido 2 años\n",
      "usted ha cumplido 3 años\n",
      "usted ha cumplido 4 años\n",
      "usted ha cumplido 5 años\n",
      "usted ha cumplido 6 años\n",
      "usted ha cumplido 7 años\n",
      "usted ha cumplido 8 años\n",
      "usted ha cumplido 9 años\n",
      "usted ha cumplido 10 años\n",
      "usted ha cumplido 11 años\n",
      "usted ha cumplido 12 años\n",
      "usted ha cumplido 13 años\n",
      "usted ha cumplido 14 años\n",
      "usted ha cumplido 15 años\n",
      "usted ha cumplido 16 años\n",
      "usted ha cumplido 17 años\n",
      "usted ha cumplido 18 años\n",
      "usted ha cumplido 19 años\n",
      "usted ha cumplido 20 años\n",
      "usted ha cumplido 21 años\n",
      "usted ha cumplido 22 años\n",
      "usted ha cumplido 23 años\n"
     ]
    }
   ],
   "source": [
    "print(\"cuenta de cumpleaños cumplidos\")\n",
    "user_age2 = int(input(\"Ingrese su edad actual: \"))\n",
    "for i in range (1,user_age2+1):\n",
    "    print(f\"usted ha cumplido {i} años\")\n"
   ]
  },
  {
   "cell_type": "markdown",
   "metadata": {
    "id": "d9tIBITg7xnH"
   },
   "source": [
    "12. Define una función llamada menorque() que nos devuelva en pantalla el número menor entre dos enteros. \n"
   ]
  },
  {
   "cell_type": "code",
   "execution_count": 12,
   "metadata": {
    "id": "tnVcb9gMO-fo"
   },
   "outputs": [
    {
     "name": "stdout",
     "output_type": "stream",
     "text": [
      "Ingrese un numero: 43\n",
      "Ingrese otro numero: 12\n",
      "El numero menor es 12\n"
     ]
    }
   ],
   "source": [
    "def menorque (num1,num2):\n",
    "    if num1 > num2:\n",
    "        return print(f\"El numero menor es {num2}\")\n",
    "    else:\n",
    "        return print(f\"El numero menor es {num1}\")\n",
    "num1 = int(input(\"Ingrese un numero: \"))\n",
    "num2 = int(input(\"Ingrese otro numero: \"))\n",
    "menorque(num1,num2)"
   ]
  },
  {
   "cell_type": "markdown",
   "metadata": {
    "id": "R2ChVSlBAH2R"
   },
   "source": [
    "13. Encuentra si el número 2 está contenido en la siguiente lista de valores usando un bucle [5, 1, 9, 2, 7, 4]"
   ]
  },
  {
   "cell_type": "code",
   "execution_count": 13,
   "metadata": {
    "id": "9cJi36ixO_P4"
   },
   "outputs": [
    {
     "name": "stdout",
     "output_type": "stream",
     "text": [
      "El numero 2 esta en la lista\n"
     ]
    }
   ],
   "source": [
    "lista = [5, 1, 9, 2, 7, 4]\n",
    "for i in lista:\n",
    "    if i ==2 and i!=lista[-1]:\n",
    "        print(\"El numero 2 esta en la lista\")\n",
    "        break\n",
    "    elif i !=2 and i==lista[-1]:\n",
    "        print(\"El numero 2 no esta en la lista\")\n"
   ]
  }
 ],
 "metadata": {
  "colab": {
   "provenance": []
  },
  "kernelspec": {
   "display_name": "Python 3 (ipykernel)",
   "language": "python",
   "name": "python3"
  },
  "language_info": {
   "codemirror_mode": {
    "name": "ipython",
    "version": 3
   },
   "file_extension": ".py",
   "mimetype": "text/x-python",
   "name": "python",
   "nbconvert_exporter": "python",
   "pygments_lexer": "ipython3",
   "version": "3.8.12"
  }
 },
 "nbformat": 4,
 "nbformat_minor": 1
}
