{
 "cells": [
  {
   "cell_type": "code",
   "execution_count": 1,
   "id": "48c830dd",
   "metadata": {},
   "outputs": [],
   "source": [
    "import random"
   ]
  },
  {
   "cell_type": "code",
   "execution_count": 2,
   "id": "cc565b40",
   "metadata": {},
   "outputs": [
    {
     "name": "stdout",
     "output_type": "stream",
     "text": [
      "Ingrese su nombre: Tao\n",
      "Bienvenido Tao, jugara el juego del ahorcado\n"
     ]
    }
   ],
   "source": [
    "user = input(\"Ingrese su nombre: \")\n",
    "print(f\"Bienvenido {user}, jugara el juego del ahorcado\")"
   ]
  },
  {
   "cell_type": "code",
   "execution_count": 3,
   "id": "63ec1be5",
   "metadata": {},
   "outputs": [],
   "source": [
    "palabras = [\"PERRO\",\"GATO\",\"RATON\",\"IGUANA\",\"LEON\",\"OSO\",\"LEOPARDO\"]\n",
    "# palabras = [\"OSO\",\"LEOPARDO\"]"
   ]
  },
  {
   "cell_type": "code",
   "execution_count": 4,
   "id": "cc2cebd4",
   "metadata": {},
   "outputs": [
    {
     "name": "stdout",
     "output_type": "stream",
     "text": [
      "La palabra secreta es: ['_', '_', '_', '_', '_', '_']\n",
      "Ingrese una letra para adivinar el animal: a\n",
      "Esta letra se encuentra en la palabra a adivinar\n",
      "['_', '_', '_', 'A', '_', 'A']\n",
      "La palabra secreta es: ['_', '_', '_', 'A', '_', 'A']\n",
      "Ingrese una letra para adivinar el animal: i\n",
      "Esta letra se encuentra en la palabra a adivinar\n",
      "['I', '_', '_', 'A', '_', 'A']\n",
      "La palabra secreta es: ['I', '_', '_', 'A', '_', 'A']\n",
      "Ingrese una letra para adivinar el animal: g\n",
      "Esta letra se encuentra en la palabra a adivinar\n",
      "['I', 'G', '_', 'A', '_', 'A']\n",
      "La palabra secreta es: ['I', 'G', '_', 'A', '_', 'A']\n",
      "Ingrese una letra para adivinar el animal: u\n",
      "Esta letra se encuentra en la palabra a adivinar\n",
      "['I', 'G', 'U', 'A', '_', 'A']\n",
      "La palabra secreta es: ['I', 'G', 'U', 'A', '_', 'A']\n",
      "Ingrese una letra para adivinar el animal: n\n",
      "Esta letra se encuentra en la palabra a adivinar\n",
      "['I', 'G', 'U', 'A', 'N', 'A']\n",
      "Bien logrado Tao, has adivinado la palabra \n",
      " \n",
      "\n",
      "Quieres volver a jugar: si\n",
      "La palabra secreta es: ['_', '_', '_', '_', '_', '_']\n",
      "Ingrese una letra para adivinar el animal: a\n",
      "Esta letra se encuentra en la palabra a adivinar\n",
      "['_', '_', '_', 'A', '_', 'A']\n",
      "La palabra secreta es: ['_', '_', '_', 'A', '_', 'A']\n",
      "Ingrese una letra para adivinar el animal: i\n",
      "Esta letra se encuentra en la palabra a adivinar\n",
      "['I', '_', '_', 'A', '_', 'A']\n",
      "La palabra secreta es: ['I', '_', '_', 'A', '_', 'A']\n",
      "Ingrese una letra para adivinar el animal: g\n",
      "Esta letra se encuentra en la palabra a adivinar\n",
      "['I', 'G', '_', 'A', '_', 'A']\n",
      "La palabra secreta es: ['I', 'G', '_', 'A', '_', 'A']\n",
      "Ingrese una letra para adivinar el animal: u\n",
      "Esta letra se encuentra en la palabra a adivinar\n",
      "['I', 'G', 'U', 'A', '_', 'A']\n",
      "La palabra secreta es: ['I', 'G', 'U', 'A', '_', 'A']\n",
      "Ingrese una letra para adivinar el animal: n\n",
      "Esta letra se encuentra en la palabra a adivinar\n",
      "['I', 'G', 'U', 'A', 'N', 'A']\n",
      "Bien logrado Tao, has adivinado la palabra \n",
      " \n",
      "\n",
      "Quieres volver a jugar: si\n",
      "La palabra secreta es: ['_', '_', '_', '_']\n",
      "Ingrese una letra para adivinar el animal: p\n",
      "La letra no esta en la plabra, intente con otra\n",
      "La palabra secreta es: ['_', '_', '_', '_']\n",
      "Ingrese una letra para adivinar el animal: g\n",
      "La letra no esta en la plabra, intente con otra\n",
      "La palabra secreta es: ['_', '_', '_', '_']\n",
      "Ingrese una letra para adivinar el animal: l\n",
      "Esta letra se encuentra en la palabra a adivinar\n",
      "['L', '_', '_', '_']\n",
      "La palabra secreta es: ['L', '_', '_', '_']\n",
      "Ingrese una letra para adivinar el animal: e\n",
      "Esta letra se encuentra en la palabra a adivinar\n",
      "['L', 'E', '_', '_']\n",
      "La palabra secreta es: ['L', 'E', '_', '_']\n",
      "Ingrese una letra para adivinar el animal: o\n",
      "Esta letra se encuentra en la palabra a adivinar\n",
      "['L', 'E', 'O', '_']\n",
      "La palabra secreta es: ['L', 'E', 'O', '_']\n",
      "Ingrese una letra para adivinar el animal: n\n",
      "Esta letra se encuentra en la palabra a adivinar\n",
      "['L', 'E', 'O', 'N']\n",
      "Bien logrado Tao, has adivinado la palabra \n",
      " \n",
      "\n",
      "Quieres volver a jugar: No\n"
     ]
    }
   ],
   "source": [
    "jugar = \"SI\"\n",
    "while jugar==\"SI\":   \n",
    "    palabra = random.choice(palabras)\n",
    "    adivinanza = '_'*len(palabra) \n",
    "    palabra = list(palabra)\n",
    "    adivinanza = list(adivinanza)\n",
    "    letras_usadas = []\n",
    "    index= []\n",
    "    while \"_\" in adivinanza:\n",
    "        print(f\"La palabra secreta es: {adivinanza}\")\n",
    "        letra = input(\"Ingrese una letra para adivinar el animal: \").upper()\n",
    "        if letra in letras_usadas:\n",
    "            print(\"Ya ha usado esta letra, pruebe otra:\")\n",
    "        elif letra in palabra:\n",
    "            print(\"Esta letra se encuentra en la palabra a adivinar\")\n",
    "            e = 0\n",
    "            for i in palabra:\n",
    "                if i ==letra and e<len(palabra):\n",
    "                    index.append(e)\n",
    "                elif i != letra and e==len(palabra):\n",
    "                    pass\n",
    "                e+=1\n",
    "            for i in index:\n",
    "                adivinanza[i] = letra\n",
    "            print(adivinanza)\n",
    "            index= []\n",
    "            letras_usadas.append(letra)\n",
    "        elif letra not in palabra:\n",
    "            print(\"La letra no esta en la plabra, intente con otra\")\n",
    "            letras_usadas.append(letra)\n",
    "    print(F\"Bien logrado {user}, has adivinado la palabra \\n \\n\")\n",
    "    jugar = input(\"Quieres volver a jugar: \").upper()"
   ]
  },
  {
   "cell_type": "code",
   "execution_count": 5,
   "id": "29ea9ae9",
   "metadata": {},
   "outputs": [
    {
     "name": "stdout",
     "output_type": "stream",
     "text": [
      "O\n",
      "O\n",
      "['_', '_', 'O', '_', '_', '_', '_', 'O']\n"
     ]
    }
   ],
   "source": [
    "palabra = list(\"LEOPARDO\")\n",
    "adivinanza = '_'*len(palabra)\n",
    "adivinanza = list(adivinanza)\n",
    "letra = \"O\"\n",
    "index = []\n",
    "e = 0\n",
    "for i in palabra:\n",
    "    if i ==letra and e<len(palabra):\n",
    "        print(i)\n",
    "        index.append(e)\n",
    "    elif i != letra and e==len(palabra):\n",
    "        pass\n",
    "    e+=1\n",
    "for i in index:\n",
    "\tadivinanza[i] = letra\n",
    "print(adivinanza)"
   ]
  },
  {
   "cell_type": "code",
   "execution_count": 6,
   "id": "50227848",
   "metadata": {},
   "outputs": [
    {
     "data": {
      "text/plain": [
       "[2, 7]"
      ]
     },
     "execution_count": 6,
     "metadata": {},
     "output_type": "execute_result"
    }
   ],
   "source": [
    "index"
   ]
  },
  {
   "cell_type": "code",
   "execution_count": 7,
   "id": "9751b21b",
   "metadata": {},
   "outputs": [
    {
     "name": "stdout",
     "output_type": "stream",
     "text": [
      "La palabra secreta es: ['_' '_' '_']\n",
      "Ingrese una letra para adivinar el animal: o\n",
      "Esta letra se encuentra en la palabra a adivinar\n",
      "La palabra secreta es: ['O' '_' 'O']\n",
      "Ingrese una letra para adivinar el animal: s\n",
      "Esta letra se encuentra en la palabra a adivinar\n",
      "Bien logrado Tao, has adivinado la palabra \n",
      " \n",
      "\n",
      "Quieres volver a jugar: si\n",
      "La palabra secreta es: ['_' '_' '_' '_' '_' '_' '_' '_']\n",
      "Ingrese una letra para adivinar el animal: i\n",
      "La letra no esta en la plabra, intente con otra\n",
      "La palabra secreta es: ['_' '_' '_' '_' '_' '_' '_' '_']\n",
      "Ingrese una letra para adivinar el animal: a\n",
      "Esta letra se encuentra en la palabra a adivinar\n",
      "La palabra secreta es: ['_' '_' '_' '_' 'A' '_' '_' '_']\n",
      "Ingrese una letra para adivinar el animal: o\n",
      "Esta letra se encuentra en la palabra a adivinar\n",
      "La palabra secreta es: ['_' '_' 'O' '_' 'A' '_' '_' 'O']\n",
      "Ingrese una letra para adivinar el animal: p\n",
      "Esta letra se encuentra en la palabra a adivinar\n",
      "La palabra secreta es: ['_' '_' 'O' 'P' 'A' '_' '_' 'O']\n",
      "Ingrese una letra para adivinar el animal: n\n",
      "La letra no esta en la plabra, intente con otra\n",
      "La palabra secreta es: ['_' '_' 'O' 'P' 'A' '_' '_' 'O']\n",
      "Ingrese una letra para adivinar el animal: s\n",
      "La letra no esta en la plabra, intente con otra\n",
      "La palabra secreta es: ['_' '_' 'O' 'P' 'A' '_' '_' 'O']\n",
      "Ingrese una letra para adivinar el animal: d\n",
      "Esta letra se encuentra en la palabra a adivinar\n",
      "La palabra secreta es: ['_' '_' 'O' 'P' 'A' '_' 'D' 'O']\n",
      "Ingrese una letra para adivinar el animal: l\n",
      "Esta letra se encuentra en la palabra a adivinar\n",
      "La palabra secreta es: ['L' '_' 'O' 'P' 'A' '_' 'D' 'O']\n",
      "Ingrese una letra para adivinar el animal: e\n",
      "Esta letra se encuentra en la palabra a adivinar\n",
      "La palabra secreta es: ['L' 'E' 'O' 'P' 'A' '_' 'D' 'O']\n",
      "Ingrese una letra para adivinar el animal: e\n",
      "Ya ha usado esta letra, pruebe otra:\n",
      "La palabra secreta es: ['L' 'E' 'O' 'P' 'A' '_' 'D' 'O']\n",
      "Ingrese una letra para adivinar el animal: r\n",
      "Esta letra se encuentra en la palabra a adivinar\n",
      "Bien logrado Tao, has adivinado la palabra \n",
      " \n",
      "\n",
      "Quieres volver a jugar: si\n",
      "La palabra secreta es: ['_' '_' '_' '_']\n",
      "Ingrese una letra para adivinar el animal: a\n",
      "Esta letra se encuentra en la palabra a adivinar\n",
      "La palabra secreta es: ['_' 'A' '_' '_']\n",
      "Ingrese una letra para adivinar el animal: g\n",
      "Esta letra se encuentra en la palabra a adivinar\n",
      "La palabra secreta es: ['G' 'A' '_' '_']\n",
      "Ingrese una letra para adivinar el animal: t\n",
      "Esta letra se encuentra en la palabra a adivinar\n",
      "La palabra secreta es: ['G' 'A' 'T' '_']\n",
      "Ingrese una letra para adivinar el animal: o\n",
      "Esta letra se encuentra en la palabra a adivinar\n",
      "Bien logrado Tao, has adivinado la palabra \n",
      " \n",
      "\n",
      "Quieres volver a jugar: no'\n"
     ]
    }
   ],
   "source": [
    "import numpy as np\n",
    "jugar = \"SI\"\n",
    "while jugar==\"SI\":   \n",
    "    palabra = random.choice(palabras)\n",
    "    adivinanza = '_'*len(palabra) \n",
    "    palabra = list(palabra)\n",
    "    adivinanza = list(adivinanza)\n",
    "    palabra = np.array(palabra)\n",
    "    adivinanza = np.array(adivinanza)\n",
    "    letras_usadas = []\n",
    "    index= []\n",
    "    while '_' in adivinanza:\n",
    "        print(f\"La palabra secreta es: {adivinanza}\")\n",
    "        \n",
    "        letra = input(\"Ingrese una letra para adivinar el animal: \").upper()\n",
    "        if letra in letras_usadas:\n",
    "            print(\"Ya ha usado esta letra, pruebe otra:\")\n",
    "            \n",
    "        elif letra in palabra:\n",
    "            print(\"Esta letra se encuentra en la palabra a adivinar\")\n",
    "            index = np.where(palabra==letra)\n",
    "            letras_usadas.append(letra)\n",
    "            for i in index:\n",
    "                adivinanza[i] = letra\n",
    "                \n",
    "        elif letra not in palabra:\n",
    "            print(\"La letra no esta en la plabra, intente con otra\")\n",
    "            letras_usadas.append(letra)\n",
    "            \n",
    "    print(F\"Bien logrado {user}, has adivinado la palabra \\n \\n\")\n",
    "    jugar = input(\"Quieres volver a jugar: \").upper()"
   ]
  }
 ],
 "metadata": {
  "kernelspec": {
   "display_name": "Python 3 (ipykernel)",
   "language": "python",
   "name": "python3"
  },
  "language_info": {
   "codemirror_mode": {
    "name": "ipython",
    "version": 3
   },
   "file_extension": ".py",
   "mimetype": "text/x-python",
   "name": "python",
   "nbconvert_exporter": "python",
   "pygments_lexer": "ipython3",
   "version": "3.11.2"
  }
 },
 "nbformat": 4,
 "nbformat_minor": 5
}
