{
  "cells": [
    {
      "cell_type": "markdown",
      "metadata": {
        "id": "dAKmLzMn3VuK"
      },
      "source": [
        "# ACTIVIDADES FINALES MÓDULO 1\n",
        "### Tao Izzo Elvira"
      ]
    },
    {
      "cell_type": "markdown",
      "metadata": {
        "id": "WgMPkzxfG76y"
      },
      "source": [
        "Para hacer estas actividades finales usaremos un Dataset que contiene las notas en examenes y homework de un grupo de alumnos. Usa la siguiente url en la función de pandas pd.read_csv para obtener el dataframe: https://raw.githubusercontent.com/realpython/materials/master/pandas-gradebook-project/data/hw_exam_grades.csv "
      ]
    },
    {
      "cell_type": "markdown",
      "metadata": {
        "id": "fI7vVahBILK9"
      },
      "source": [
        "1. Importa la librería de Pandas"
      ]
    },
    {
      "cell_type": "code",
      "execution_count": 1,
      "metadata": {
        "id": "FUvd7yGiG7kG"
      },
      "outputs": [],
      "source": [
        "import pandas as pd"
      ]
    },
    {
      "cell_type": "markdown",
      "metadata": {
        "id": "Da_lH2uFINgn"
      },
      "source": [
        "2. Importa el dataframe de la url mencionada en la introducción y guárdalo en una variable llamada df"
      ]
    },
    {
      "cell_type": "code",
      "execution_count": 2,
      "metadata": {
        "id": "q7XViyUxINLS"
      },
      "outputs": [],
      "source": [
        "url = 'https://raw.githubusercontent.com/realpython/materials/master/pandas-gradebook-project/data/hw_exam_grades.csv'\n",
        "df = pd.read_csv(url)"
      ]
    },
    {
      "cell_type": "markdown",
      "metadata": {
        "id": "n2tPu8vdI5x5"
      },
      "source": [
        "3. Aplica la función head para ver las primeras líneas de nuestro dataframe"
      ]
    },
    {
      "cell_type": "code",
      "execution_count": 3,
      "metadata": {
        "id": "vZ0d0aD3IrQj",
        "colab": {
          "base_uri": "https://localhost:8080/",
          "height": 384
        },
        "outputId": "9ba54a38-7b92-4329-ccf7-ba22345ac926"
      },
      "outputs": [
        {
          "output_type": "execute_result",
          "data": {
            "text/plain": [
              "  First Name  Last Name       SID  Homework 1  Homework 1 - Max Points  \\\n",
              "0      Aaron     Lester  axl60952        68.0                       80   \n",
              "1       Adam     Cooper  amc28428        80.0                       80   \n",
              "2       Alec      Curry  axc64717        69.0                       80   \n",
              "3  Alexander  Rodriguez  akr14831        50.0                       80   \n",
              "4      Amber    Daniels  axd11293        54.0                       80   \n",
              "\n",
              "  Homework 1 - Submission Time  Homework 2  Homework 2 - Max Points  \\\n",
              "0    2019-08-29 08:56:02-07:00          74                       80   \n",
              "1    2019-08-29 08:56:02-07:00          78                       80   \n",
              "2    2019-08-29 08:56:02-07:00          76                       80   \n",
              "3    2019-08-29 08:56:02-07:00          54                       80   \n",
              "4    2019-08-29 08:56:02-07:00          57                       80   \n",
              "\n",
              "  Homework 2 - Submission Time  Homework 3  ...  \\\n",
              "0    2019-09-05 08:56:02-07:00          77  ...   \n",
              "1    2019-09-05 08:56:02-07:00          78  ...   \n",
              "2    2019-09-05 08:56:02-07:00          66  ...   \n",
              "3    2019-09-05 08:56:02-07:00          74  ...   \n",
              "4    2019-09-05 08:56:02-07:00          77  ...   \n",
              "\n",
              "   Homework 10 - Submission Time Exam 1  Exam 1 - Max Points  \\\n",
              "0      2019-10-31 08:56:02-07:00     79                  100   \n",
              "1      2019-10-31 08:56:02-07:00     65                  100   \n",
              "2      2019-10-31 08:56:02-07:00     65                  100   \n",
              "3      2019-10-31 08:56:02-07:00     97                  100   \n",
              "4      2019-10-31 08:56:02-07:00     68                  100   \n",
              "\n",
              "    Exam 1 - Submission Time Exam 2  Exam 2 - Max Points  \\\n",
              "0  2019-10-08 12:30:07-07:00     63                  100   \n",
              "1  2019-10-08 12:30:07-07:00     63                  100   \n",
              "2  2019-10-08 12:30:07-07:00     78                  100   \n",
              "3  2019-10-08 12:30:07-07:00     97                  100   \n",
              "4  2019-10-08 12:30:07-07:00     95                  100   \n",
              "\n",
              "    Exam 2 - Submission Time Exam 3  Exam 3 - Max Points  \\\n",
              "0  2019-11-08 12:30:07-07:00     68                  100   \n",
              "1  2019-11-08 12:30:07-07:00     90                  100   \n",
              "2  2019-11-08 12:30:07-07:00     83                  100   \n",
              "3  2019-11-08 12:30:07-07:00     81                  100   \n",
              "4  2019-11-08 12:30:07-07:00     88                  100   \n",
              "\n",
              "    Exam 3 - Submission Time  \n",
              "0  2019-12-08 12:30:07-07:00  \n",
              "1  2019-12-08 12:30:07-07:00  \n",
              "2  2019-12-08 12:30:07-07:00  \n",
              "3  2019-12-08 12:30:07-07:00  \n",
              "4  2019-12-08 12:30:07-07:00  \n",
              "\n",
              "[5 rows x 42 columns]"
            ],
            "text/html": [
              "\n",
              "  <div id=\"df-159e6a52-be5b-40fb-a6b4-9780972b9d7a\">\n",
              "    <div class=\"colab-df-container\">\n",
              "      <div>\n",
              "<style scoped>\n",
              "    .dataframe tbody tr th:only-of-type {\n",
              "        vertical-align: middle;\n",
              "    }\n",
              "\n",
              "    .dataframe tbody tr th {\n",
              "        vertical-align: top;\n",
              "    }\n",
              "\n",
              "    .dataframe thead th {\n",
              "        text-align: right;\n",
              "    }\n",
              "</style>\n",
              "<table border=\"1\" class=\"dataframe\">\n",
              "  <thead>\n",
              "    <tr style=\"text-align: right;\">\n",
              "      <th></th>\n",
              "      <th>First Name</th>\n",
              "      <th>Last Name</th>\n",
              "      <th>SID</th>\n",
              "      <th>Homework 1</th>\n",
              "      <th>Homework 1 - Max Points</th>\n",
              "      <th>Homework 1 - Submission Time</th>\n",
              "      <th>Homework 2</th>\n",
              "      <th>Homework 2 - Max Points</th>\n",
              "      <th>Homework 2 - Submission Time</th>\n",
              "      <th>Homework 3</th>\n",
              "      <th>...</th>\n",
              "      <th>Homework 10 - Submission Time</th>\n",
              "      <th>Exam 1</th>\n",
              "      <th>Exam 1 - Max Points</th>\n",
              "      <th>Exam 1 - Submission Time</th>\n",
              "      <th>Exam 2</th>\n",
              "      <th>Exam 2 - Max Points</th>\n",
              "      <th>Exam 2 - Submission Time</th>\n",
              "      <th>Exam 3</th>\n",
              "      <th>Exam 3 - Max Points</th>\n",
              "      <th>Exam 3 - Submission Time</th>\n",
              "    </tr>\n",
              "  </thead>\n",
              "  <tbody>\n",
              "    <tr>\n",
              "      <th>0</th>\n",
              "      <td>Aaron</td>\n",
              "      <td>Lester</td>\n",
              "      <td>axl60952</td>\n",
              "      <td>68.0</td>\n",
              "      <td>80</td>\n",
              "      <td>2019-08-29 08:56:02-07:00</td>\n",
              "      <td>74</td>\n",
              "      <td>80</td>\n",
              "      <td>2019-09-05 08:56:02-07:00</td>\n",
              "      <td>77</td>\n",
              "      <td>...</td>\n",
              "      <td>2019-10-31 08:56:02-07:00</td>\n",
              "      <td>79</td>\n",
              "      <td>100</td>\n",
              "      <td>2019-10-08 12:30:07-07:00</td>\n",
              "      <td>63</td>\n",
              "      <td>100</td>\n",
              "      <td>2019-11-08 12:30:07-07:00</td>\n",
              "      <td>68</td>\n",
              "      <td>100</td>\n",
              "      <td>2019-12-08 12:30:07-07:00</td>\n",
              "    </tr>\n",
              "    <tr>\n",
              "      <th>1</th>\n",
              "      <td>Adam</td>\n",
              "      <td>Cooper</td>\n",
              "      <td>amc28428</td>\n",
              "      <td>80.0</td>\n",
              "      <td>80</td>\n",
              "      <td>2019-08-29 08:56:02-07:00</td>\n",
              "      <td>78</td>\n",
              "      <td>80</td>\n",
              "      <td>2019-09-05 08:56:02-07:00</td>\n",
              "      <td>78</td>\n",
              "      <td>...</td>\n",
              "      <td>2019-10-31 08:56:02-07:00</td>\n",
              "      <td>65</td>\n",
              "      <td>100</td>\n",
              "      <td>2019-10-08 12:30:07-07:00</td>\n",
              "      <td>63</td>\n",
              "      <td>100</td>\n",
              "      <td>2019-11-08 12:30:07-07:00</td>\n",
              "      <td>90</td>\n",
              "      <td>100</td>\n",
              "      <td>2019-12-08 12:30:07-07:00</td>\n",
              "    </tr>\n",
              "    <tr>\n",
              "      <th>2</th>\n",
              "      <td>Alec</td>\n",
              "      <td>Curry</td>\n",
              "      <td>axc64717</td>\n",
              "      <td>69.0</td>\n",
              "      <td>80</td>\n",
              "      <td>2019-08-29 08:56:02-07:00</td>\n",
              "      <td>76</td>\n",
              "      <td>80</td>\n",
              "      <td>2019-09-05 08:56:02-07:00</td>\n",
              "      <td>66</td>\n",
              "      <td>...</td>\n",
              "      <td>2019-10-31 08:56:02-07:00</td>\n",
              "      <td>65</td>\n",
              "      <td>100</td>\n",
              "      <td>2019-10-08 12:30:07-07:00</td>\n",
              "      <td>78</td>\n",
              "      <td>100</td>\n",
              "      <td>2019-11-08 12:30:07-07:00</td>\n",
              "      <td>83</td>\n",
              "      <td>100</td>\n",
              "      <td>2019-12-08 12:30:07-07:00</td>\n",
              "    </tr>\n",
              "    <tr>\n",
              "      <th>3</th>\n",
              "      <td>Alexander</td>\n",
              "      <td>Rodriguez</td>\n",
              "      <td>akr14831</td>\n",
              "      <td>50.0</td>\n",
              "      <td>80</td>\n",
              "      <td>2019-08-29 08:56:02-07:00</td>\n",
              "      <td>54</td>\n",
              "      <td>80</td>\n",
              "      <td>2019-09-05 08:56:02-07:00</td>\n",
              "      <td>74</td>\n",
              "      <td>...</td>\n",
              "      <td>2019-10-31 08:56:02-07:00</td>\n",
              "      <td>97</td>\n",
              "      <td>100</td>\n",
              "      <td>2019-10-08 12:30:07-07:00</td>\n",
              "      <td>97</td>\n",
              "      <td>100</td>\n",
              "      <td>2019-11-08 12:30:07-07:00</td>\n",
              "      <td>81</td>\n",
              "      <td>100</td>\n",
              "      <td>2019-12-08 12:30:07-07:00</td>\n",
              "    </tr>\n",
              "    <tr>\n",
              "      <th>4</th>\n",
              "      <td>Amber</td>\n",
              "      <td>Daniels</td>\n",
              "      <td>axd11293</td>\n",
              "      <td>54.0</td>\n",
              "      <td>80</td>\n",
              "      <td>2019-08-29 08:56:02-07:00</td>\n",
              "      <td>57</td>\n",
              "      <td>80</td>\n",
              "      <td>2019-09-05 08:56:02-07:00</td>\n",
              "      <td>77</td>\n",
              "      <td>...</td>\n",
              "      <td>2019-10-31 08:56:02-07:00</td>\n",
              "      <td>68</td>\n",
              "      <td>100</td>\n",
              "      <td>2019-10-08 12:30:07-07:00</td>\n",
              "      <td>95</td>\n",
              "      <td>100</td>\n",
              "      <td>2019-11-08 12:30:07-07:00</td>\n",
              "      <td>88</td>\n",
              "      <td>100</td>\n",
              "      <td>2019-12-08 12:30:07-07:00</td>\n",
              "    </tr>\n",
              "  </tbody>\n",
              "</table>\n",
              "<p>5 rows × 42 columns</p>\n",
              "</div>\n",
              "      <button class=\"colab-df-convert\" onclick=\"convertToInteractive('df-159e6a52-be5b-40fb-a6b4-9780972b9d7a')\"\n",
              "              title=\"Convert this dataframe to an interactive table.\"\n",
              "              style=\"display:none;\">\n",
              "        \n",
              "  <svg xmlns=\"http://www.w3.org/2000/svg\" height=\"24px\"viewBox=\"0 0 24 24\"\n",
              "       width=\"24px\">\n",
              "    <path d=\"M0 0h24v24H0V0z\" fill=\"none\"/>\n",
              "    <path d=\"M18.56 5.44l.94 2.06.94-2.06 2.06-.94-2.06-.94-.94-2.06-.94 2.06-2.06.94zm-11 1L8.5 8.5l.94-2.06 2.06-.94-2.06-.94L8.5 2.5l-.94 2.06-2.06.94zm10 10l.94 2.06.94-2.06 2.06-.94-2.06-.94-.94-2.06-.94 2.06-2.06.94z\"/><path d=\"M17.41 7.96l-1.37-1.37c-.4-.4-.92-.59-1.43-.59-.52 0-1.04.2-1.43.59L10.3 9.45l-7.72 7.72c-.78.78-.78 2.05 0 2.83L4 21.41c.39.39.9.59 1.41.59.51 0 1.02-.2 1.41-.59l7.78-7.78 2.81-2.81c.8-.78.8-2.07 0-2.86zM5.41 20L4 18.59l7.72-7.72 1.47 1.35L5.41 20z\"/>\n",
              "  </svg>\n",
              "      </button>\n",
              "      \n",
              "  <style>\n",
              "    .colab-df-container {\n",
              "      display:flex;\n",
              "      flex-wrap:wrap;\n",
              "      gap: 12px;\n",
              "    }\n",
              "\n",
              "    .colab-df-convert {\n",
              "      background-color: #E8F0FE;\n",
              "      border: none;\n",
              "      border-radius: 50%;\n",
              "      cursor: pointer;\n",
              "      display: none;\n",
              "      fill: #1967D2;\n",
              "      height: 32px;\n",
              "      padding: 0 0 0 0;\n",
              "      width: 32px;\n",
              "    }\n",
              "\n",
              "    .colab-df-convert:hover {\n",
              "      background-color: #E2EBFA;\n",
              "      box-shadow: 0px 1px 2px rgba(60, 64, 67, 0.3), 0px 1px 3px 1px rgba(60, 64, 67, 0.15);\n",
              "      fill: #174EA6;\n",
              "    }\n",
              "\n",
              "    [theme=dark] .colab-df-convert {\n",
              "      background-color: #3B4455;\n",
              "      fill: #D2E3FC;\n",
              "    }\n",
              "\n",
              "    [theme=dark] .colab-df-convert:hover {\n",
              "      background-color: #434B5C;\n",
              "      box-shadow: 0px 1px 3px 1px rgba(0, 0, 0, 0.15);\n",
              "      filter: drop-shadow(0px 1px 2px rgba(0, 0, 0, 0.3));\n",
              "      fill: #FFFFFF;\n",
              "    }\n",
              "  </style>\n",
              "\n",
              "      <script>\n",
              "        const buttonEl =\n",
              "          document.querySelector('#df-159e6a52-be5b-40fb-a6b4-9780972b9d7a button.colab-df-convert');\n",
              "        buttonEl.style.display =\n",
              "          google.colab.kernel.accessAllowed ? 'block' : 'none';\n",
              "\n",
              "        async function convertToInteractive(key) {\n",
              "          const element = document.querySelector('#df-159e6a52-be5b-40fb-a6b4-9780972b9d7a');\n",
              "          const dataTable =\n",
              "            await google.colab.kernel.invokeFunction('convertToInteractive',\n",
              "                                                     [key], {});\n",
              "          if (!dataTable) return;\n",
              "\n",
              "          const docLinkHtml = 'Like what you see? Visit the ' +\n",
              "            '<a target=\"_blank\" href=https://colab.research.google.com/notebooks/data_table.ipynb>data table notebook</a>'\n",
              "            + ' to learn more about interactive tables.';\n",
              "          element.innerHTML = '';\n",
              "          dataTable['output_type'] = 'display_data';\n",
              "          await google.colab.output.renderOutput(dataTable, element);\n",
              "          const docLink = document.createElement('div');\n",
              "          docLink.innerHTML = docLinkHtml;\n",
              "          element.appendChild(docLink);\n",
              "        }\n",
              "      </script>\n",
              "    </div>\n",
              "  </div>\n",
              "  "
            ]
          },
          "metadata": {},
          "execution_count": 3
        }
      ],
      "source": [
        "df.head()"
      ]
    },
    {
      "cell_type": "markdown",
      "metadata": {
        "id": "gxbdBdLwJPUf"
      },
      "source": [
        "4. Trabajaremos solo con algunas de las columnas de df. Crea un dataframe llamado gradebook que contenga las siguientes columnas de df: First Name, Last Name, SID, Homework 1, Homework 2, Homework 3, Exam 1, Exam 2\n",
        "\n",
        "Aplica la función .head() a gradebook para verificar que esté correcto"
      ]
    },
    {
      "cell_type": "code",
      "execution_count": 4,
      "metadata": {
        "id": "NdW1P-ZbItlC"
      },
      "outputs": [],
      "source": [
        "# Se crea una copia del original para que las alteraciones no lo afecten y si se requiere masa delante se pueda volver a usar\n",
        "df2 = df.copy()\n",
        "df2.head()\n",
        "# se agregaran cinco colomnas mas porque se usan del ejercicio 11 en adelante \n",
        "gradebook = df2[['First Name', 'Last Name', 'SID', 'Homework 1',\"Homework 1 - Max Points\", 'Homework 2',\"Homework 2 - Max Points\", 'Homework 3',\"Homework 3 - Max Points\", 'Exam 1',\"Exam 1 - Max Points\", 'Exam 2',\"Exam 2 - Max Points\"]]"
      ]
    },
    {
      "cell_type": "code",
      "execution_count": 5,
      "metadata": {
        "colab": {
          "base_uri": "https://localhost:8080/",
          "height": 206
        },
        "id": "koit5p18O4Sx",
        "outputId": "4aa87f4c-9f40-423e-cf01-795c4f69e276"
      },
      "outputs": [
        {
          "output_type": "execute_result",
          "data": {
            "text/plain": [
              "  First Name  Last Name       SID  Homework 1  Homework 1 - Max Points  \\\n",
              "0      Aaron     Lester  axl60952        68.0                       80   \n",
              "1       Adam     Cooper  amc28428        80.0                       80   \n",
              "2       Alec      Curry  axc64717        69.0                       80   \n",
              "3  Alexander  Rodriguez  akr14831        50.0                       80   \n",
              "4      Amber    Daniels  axd11293        54.0                       80   \n",
              "\n",
              "   Homework 2  Homework 2 - Max Points  Homework 3  Homework 3 - Max Points  \\\n",
              "0          74                       80          77                       80   \n",
              "1          78                       80          78                       80   \n",
              "2          76                       80          66                       80   \n",
              "3          54                       80          74                       80   \n",
              "4          57                       80          77                       80   \n",
              "\n",
              "   Exam 1  Exam 1 - Max Points  Exam 2  Exam 2 - Max Points  \n",
              "0      79                  100      63                  100  \n",
              "1      65                  100      63                  100  \n",
              "2      65                  100      78                  100  \n",
              "3      97                  100      97                  100  \n",
              "4      68                  100      95                  100  "
            ],
            "text/html": [
              "\n",
              "  <div id=\"df-dad15019-feea-4814-927c-645106662a20\">\n",
              "    <div class=\"colab-df-container\">\n",
              "      <div>\n",
              "<style scoped>\n",
              "    .dataframe tbody tr th:only-of-type {\n",
              "        vertical-align: middle;\n",
              "    }\n",
              "\n",
              "    .dataframe tbody tr th {\n",
              "        vertical-align: top;\n",
              "    }\n",
              "\n",
              "    .dataframe thead th {\n",
              "        text-align: right;\n",
              "    }\n",
              "</style>\n",
              "<table border=\"1\" class=\"dataframe\">\n",
              "  <thead>\n",
              "    <tr style=\"text-align: right;\">\n",
              "      <th></th>\n",
              "      <th>First Name</th>\n",
              "      <th>Last Name</th>\n",
              "      <th>SID</th>\n",
              "      <th>Homework 1</th>\n",
              "      <th>Homework 1 - Max Points</th>\n",
              "      <th>Homework 2</th>\n",
              "      <th>Homework 2 - Max Points</th>\n",
              "      <th>Homework 3</th>\n",
              "      <th>Homework 3 - Max Points</th>\n",
              "      <th>Exam 1</th>\n",
              "      <th>Exam 1 - Max Points</th>\n",
              "      <th>Exam 2</th>\n",
              "      <th>Exam 2 - Max Points</th>\n",
              "    </tr>\n",
              "  </thead>\n",
              "  <tbody>\n",
              "    <tr>\n",
              "      <th>0</th>\n",
              "      <td>Aaron</td>\n",
              "      <td>Lester</td>\n",
              "      <td>axl60952</td>\n",
              "      <td>68.0</td>\n",
              "      <td>80</td>\n",
              "      <td>74</td>\n",
              "      <td>80</td>\n",
              "      <td>77</td>\n",
              "      <td>80</td>\n",
              "      <td>79</td>\n",
              "      <td>100</td>\n",
              "      <td>63</td>\n",
              "      <td>100</td>\n",
              "    </tr>\n",
              "    <tr>\n",
              "      <th>1</th>\n",
              "      <td>Adam</td>\n",
              "      <td>Cooper</td>\n",
              "      <td>amc28428</td>\n",
              "      <td>80.0</td>\n",
              "      <td>80</td>\n",
              "      <td>78</td>\n",
              "      <td>80</td>\n",
              "      <td>78</td>\n",
              "      <td>80</td>\n",
              "      <td>65</td>\n",
              "      <td>100</td>\n",
              "      <td>63</td>\n",
              "      <td>100</td>\n",
              "    </tr>\n",
              "    <tr>\n",
              "      <th>2</th>\n",
              "      <td>Alec</td>\n",
              "      <td>Curry</td>\n",
              "      <td>axc64717</td>\n",
              "      <td>69.0</td>\n",
              "      <td>80</td>\n",
              "      <td>76</td>\n",
              "      <td>80</td>\n",
              "      <td>66</td>\n",
              "      <td>80</td>\n",
              "      <td>65</td>\n",
              "      <td>100</td>\n",
              "      <td>78</td>\n",
              "      <td>100</td>\n",
              "    </tr>\n",
              "    <tr>\n",
              "      <th>3</th>\n",
              "      <td>Alexander</td>\n",
              "      <td>Rodriguez</td>\n",
              "      <td>akr14831</td>\n",
              "      <td>50.0</td>\n",
              "      <td>80</td>\n",
              "      <td>54</td>\n",
              "      <td>80</td>\n",
              "      <td>74</td>\n",
              "      <td>80</td>\n",
              "      <td>97</td>\n",
              "      <td>100</td>\n",
              "      <td>97</td>\n",
              "      <td>100</td>\n",
              "    </tr>\n",
              "    <tr>\n",
              "      <th>4</th>\n",
              "      <td>Amber</td>\n",
              "      <td>Daniels</td>\n",
              "      <td>axd11293</td>\n",
              "      <td>54.0</td>\n",
              "      <td>80</td>\n",
              "      <td>57</td>\n",
              "      <td>80</td>\n",
              "      <td>77</td>\n",
              "      <td>80</td>\n",
              "      <td>68</td>\n",
              "      <td>100</td>\n",
              "      <td>95</td>\n",
              "      <td>100</td>\n",
              "    </tr>\n",
              "  </tbody>\n",
              "</table>\n",
              "</div>\n",
              "      <button class=\"colab-df-convert\" onclick=\"convertToInteractive('df-dad15019-feea-4814-927c-645106662a20')\"\n",
              "              title=\"Convert this dataframe to an interactive table.\"\n",
              "              style=\"display:none;\">\n",
              "        \n",
              "  <svg xmlns=\"http://www.w3.org/2000/svg\" height=\"24px\"viewBox=\"0 0 24 24\"\n",
              "       width=\"24px\">\n",
              "    <path d=\"M0 0h24v24H0V0z\" fill=\"none\"/>\n",
              "    <path d=\"M18.56 5.44l.94 2.06.94-2.06 2.06-.94-2.06-.94-.94-2.06-.94 2.06-2.06.94zm-11 1L8.5 8.5l.94-2.06 2.06-.94-2.06-.94L8.5 2.5l-.94 2.06-2.06.94zm10 10l.94 2.06.94-2.06 2.06-.94-2.06-.94-.94-2.06-.94 2.06-2.06.94z\"/><path d=\"M17.41 7.96l-1.37-1.37c-.4-.4-.92-.59-1.43-.59-.52 0-1.04.2-1.43.59L10.3 9.45l-7.72 7.72c-.78.78-.78 2.05 0 2.83L4 21.41c.39.39.9.59 1.41.59.51 0 1.02-.2 1.41-.59l7.78-7.78 2.81-2.81c.8-.78.8-2.07 0-2.86zM5.41 20L4 18.59l7.72-7.72 1.47 1.35L5.41 20z\"/>\n",
              "  </svg>\n",
              "      </button>\n",
              "      \n",
              "  <style>\n",
              "    .colab-df-container {\n",
              "      display:flex;\n",
              "      flex-wrap:wrap;\n",
              "      gap: 12px;\n",
              "    }\n",
              "\n",
              "    .colab-df-convert {\n",
              "      background-color: #E8F0FE;\n",
              "      border: none;\n",
              "      border-radius: 50%;\n",
              "      cursor: pointer;\n",
              "      display: none;\n",
              "      fill: #1967D2;\n",
              "      height: 32px;\n",
              "      padding: 0 0 0 0;\n",
              "      width: 32px;\n",
              "    }\n",
              "\n",
              "    .colab-df-convert:hover {\n",
              "      background-color: #E2EBFA;\n",
              "      box-shadow: 0px 1px 2px rgba(60, 64, 67, 0.3), 0px 1px 3px 1px rgba(60, 64, 67, 0.15);\n",
              "      fill: #174EA6;\n",
              "    }\n",
              "\n",
              "    [theme=dark] .colab-df-convert {\n",
              "      background-color: #3B4455;\n",
              "      fill: #D2E3FC;\n",
              "    }\n",
              "\n",
              "    [theme=dark] .colab-df-convert:hover {\n",
              "      background-color: #434B5C;\n",
              "      box-shadow: 0px 1px 3px 1px rgba(0, 0, 0, 0.15);\n",
              "      filter: drop-shadow(0px 1px 2px rgba(0, 0, 0, 0.3));\n",
              "      fill: #FFFFFF;\n",
              "    }\n",
              "  </style>\n",
              "\n",
              "      <script>\n",
              "        const buttonEl =\n",
              "          document.querySelector('#df-dad15019-feea-4814-927c-645106662a20 button.colab-df-convert');\n",
              "        buttonEl.style.display =\n",
              "          google.colab.kernel.accessAllowed ? 'block' : 'none';\n",
              "\n",
              "        async function convertToInteractive(key) {\n",
              "          const element = document.querySelector('#df-dad15019-feea-4814-927c-645106662a20');\n",
              "          const dataTable =\n",
              "            await google.colab.kernel.invokeFunction('convertToInteractive',\n",
              "                                                     [key], {});\n",
              "          if (!dataTable) return;\n",
              "\n",
              "          const docLinkHtml = 'Like what you see? Visit the ' +\n",
              "            '<a target=\"_blank\" href=https://colab.research.google.com/notebooks/data_table.ipynb>data table notebook</a>'\n",
              "            + ' to learn more about interactive tables.';\n",
              "          element.innerHTML = '';\n",
              "          dataTable['output_type'] = 'display_data';\n",
              "          await google.colab.output.renderOutput(dataTable, element);\n",
              "          const docLink = document.createElement('div');\n",
              "          docLink.innerHTML = docLinkHtml;\n",
              "          element.appendChild(docLink);\n",
              "        }\n",
              "      </script>\n",
              "    </div>\n",
              "  </div>\n",
              "  "
            ]
          },
          "metadata": {},
          "execution_count": 5
        }
      ],
      "source": [
        "gradebook.head()"
      ]
    },
    {
      "cell_type": "markdown",
      "metadata": {
        "id": "fgb1jX8gKh3m"
      },
      "source": [
        "A partir de ahora, a no ser que se especificara la contrario, trabajaremos siempre con el dataframe gradebook."
      ]
    },
    {
      "cell_type": "markdown",
      "metadata": {
        "id": "OFb43sYDL7Vh"
      },
      "source": [
        "5. Encuentra cuántas filas y columnas tiene gradebook mediante la función shape"
      ]
    },
    {
      "cell_type": "code",
      "execution_count": 6,
      "metadata": {
        "id": "_3RuFsBfL_I5",
        "colab": {
          "base_uri": "https://localhost:8080/"
        },
        "outputId": "5482542e-34cc-43a3-d8e7-f2b1c0b1dc06"
      },
      "outputs": [
        {
          "output_type": "execute_result",
          "data": {
            "text/plain": [
              "(150, 13)"
            ]
          },
          "metadata": {},
          "execution_count": 6
        }
      ],
      "source": [
        "gradebook.shape"
      ]
    },
    {
      "cell_type": "markdown",
      "metadata": {
        "id": "XUfayHTkO4Sx"
      },
      "source": [
        "Contiene 150 filas y 8 columnas (mas las 5 que se agregaron para los ejercicios)"
      ]
    },
    {
      "cell_type": "markdown",
      "metadata": {
        "id": "bkc9tBIHMG39"
      },
      "source": [
        "6. Obtén la información básica del dataframe mediante la función info. Fíjate en si hay alguna columna con elementos nulos y de que tipo son los datos de cada columna."
      ]
    },
    {
      "cell_type": "code",
      "execution_count": 7,
      "metadata": {
        "id": "psnUvljQMKJj",
        "colab": {
          "base_uri": "https://localhost:8080/"
        },
        "outputId": "c6710da7-8e4f-46be-8fd2-7b922e12674b"
      },
      "outputs": [
        {
          "output_type": "stream",
          "name": "stdout",
          "text": [
            "<class 'pandas.core.frame.DataFrame'>\n",
            "RangeIndex: 150 entries, 0 to 149\n",
            "Data columns (total 13 columns):\n",
            " #   Column                   Non-Null Count  Dtype  \n",
            "---  ------                   --------------  -----  \n",
            " 0   First Name               150 non-null    object \n",
            " 1   Last Name                150 non-null    object \n",
            " 2   SID                      150 non-null    object \n",
            " 3   Homework 1               149 non-null    float64\n",
            " 4   Homework 1 - Max Points  150 non-null    int64  \n",
            " 5   Homework 2               150 non-null    int64  \n",
            " 6   Homework 2 - Max Points  150 non-null    int64  \n",
            " 7   Homework 3               150 non-null    int64  \n",
            " 8   Homework 3 - Max Points  150 non-null    int64  \n",
            " 9   Exam 1                   150 non-null    int64  \n",
            " 10  Exam 1 - Max Points      150 non-null    int64  \n",
            " 11  Exam 2                   150 non-null    int64  \n",
            " 12  Exam 2 - Max Points      150 non-null    int64  \n",
            "dtypes: float64(1), int64(9), object(3)\n",
            "memory usage: 15.4+ KB\n"
          ]
        }
      ],
      "source": [
        "gradebook.info()"
      ]
    },
    {
      "cell_type": "markdown",
      "metadata": {
        "id": "kw8ZfVpNO4Sy"
      },
      "source": [
        "Solo Homework 1 contiene un valor nulo, las primeras 3 son de tipo string o bien, contienen al menos un caracter, mientras que las otras 5 son numericas, una flotante y las demas enteras. Se comprobara si en la flotante hay decimales "
      ]
    },
    {
      "cell_type": "code",
      "execution_count": 8,
      "metadata": {
        "colab": {
          "base_uri": "https://localhost:8080/"
        },
        "id": "yIHK4BwMO4Sy",
        "outputId": "4b7b4a54-814c-4b39-f74b-a72c32233555"
      },
      "outputs": [
        {
          "output_type": "execute_result",
          "data": {
            "text/plain": [
              "68     8\n",
              "88     7\n",
              "64     7\n",
              "74     6\n",
              "72     6\n",
              "91     5\n",
              "85     5\n",
              "60     5\n",
              "66     5\n",
              "92     5\n",
              "70     5\n",
              "73     5\n",
              "63     5\n",
              "96     5\n",
              "69     4\n",
              "89     4\n",
              "79     4\n",
              "100    4\n",
              "82     4\n",
              "62     4\n",
              "61     3\n",
              "94     3\n",
              "71     3\n",
              "78     3\n",
              "84     3\n",
              "86     3\n",
              "77     3\n",
              "65     3\n",
              "81     3\n",
              "83     3\n",
              "99     3\n",
              "87     3\n",
              "97     3\n",
              "90     2\n",
              "67     2\n",
              "80     1\n",
              "75     1\n",
              "93     1\n",
              "98     1\n",
              "Name: Exam 1, dtype: int64"
            ]
          },
          "metadata": {},
          "execution_count": 8
        }
      ],
      "source": [
        "gradebook[\"Exam 1\"].value_counts()"
      ]
    },
    {
      "cell_type": "markdown",
      "metadata": {
        "id": "UqjQNwWcO4Sy"
      },
      "source": [
        "Como se puede observar en la celda anterior, todos son enteros, por lo cual, se podria pasar de float a int sin afectar ningun valor"
      ]
    },
    {
      "cell_type": "markdown",
      "metadata": {
        "id": "PJEarhqOKhx0"
      },
      "source": [
        "7. Vamos a limpiar los nombres de las columnas: pon todos los nombres en minúsculas y que no contengan espacios."
      ]
    },
    {
      "cell_type": "code",
      "execution_count": 9,
      "metadata": {
        "id": "AidjGtw3KW1G",
        "colab": {
          "base_uri": "https://localhost:8080/"
        },
        "outputId": "53b9f469-0d8f-42ec-c6a6-e3bce702f3b8"
      },
      "outputs": [
        {
          "output_type": "execute_result",
          "data": {
            "text/plain": [
              "Index(['First_Name', 'Last_Name', 'SID', 'Homework_1',\n",
              "       'Homework_1_-_Max_Points', 'Homework_2', 'Homework_2_-_Max_Points',\n",
              "       'Homework_3', 'Homework_3_-_Max_Points', 'Exam_1',\n",
              "       'Exam_1_-_Max_Points', 'Exam_2', 'Exam_2_-_Max_Points'],\n",
              "      dtype='object')"
            ]
          },
          "metadata": {},
          "execution_count": 9
        }
      ],
      "source": [
        "gradebook.columns = gradebook.columns.str.replace(\" \",\"_\")\n",
        "gradebook.columns"
      ]
    },
    {
      "cell_type": "code",
      "execution_count": 10,
      "metadata": {
        "colab": {
          "base_uri": "https://localhost:8080/"
        },
        "id": "NsOuyHVqO4Sz",
        "outputId": "6999833c-8156-4343-de94-6822fa00f595"
      },
      "outputs": [
        {
          "output_type": "execute_result",
          "data": {
            "text/plain": [
              "Index(['first_name', 'last_name', 'sid', 'homework_1',\n",
              "       'homework_1_-_max_points', 'homework_2', 'homework_2_-_max_points',\n",
              "       'homework_3', 'homework_3_-_max_points', 'exam_1',\n",
              "       'exam_1_-_max_points', 'exam_2', 'exam_2_-_max_points'],\n",
              "      dtype='object')"
            ]
          },
          "metadata": {},
          "execution_count": 10
        }
      ],
      "source": [
        "gradebook.columns = gradebook.columns.str.lower()\n",
        "gradebook.columns"
      ]
    },
    {
      "cell_type": "markdown",
      "metadata": {
        "id": "f6m2qLBxLvN_"
      },
      "source": [
        "8. Aplica la función drop_duplicates a gradebook para eliminar duplicados si los hay, luego imprime la shape del nuevo dataframe y mira si se han borrado registros. Recuerda especificar el parámetro que hace que los cambios se lleven a cabo en el mismo dataframe. ¿Había duplicados?"
      ]
    },
    {
      "cell_type": "code",
      "execution_count": 11,
      "metadata": {
        "id": "esFwjmElLlQa",
        "colab": {
          "base_uri": "https://localhost:8080/"
        },
        "outputId": "8534117d-6661-4406-a07c-60928405dfe5"
      },
      "outputs": [
        {
          "output_type": "execute_result",
          "data": {
            "text/plain": [
              "0"
            ]
          },
          "metadata": {},
          "execution_count": 11
        }
      ],
      "source": [
        "gradebook.duplicated().sum()"
      ]
    },
    {
      "cell_type": "code",
      "execution_count": 12,
      "metadata": {
        "colab": {
          "base_uri": "https://localhost:8080/"
        },
        "id": "gsQ35W-fO4S0",
        "outputId": "1b2712d6-cf2e-4ced-e82f-50e1c2c9924b"
      },
      "outputs": [
        {
          "output_type": "stream",
          "name": "stderr",
          "text": [
            "<ipython-input-12-0f4e8079b816>:1: SettingWithCopyWarning: \n",
            "A value is trying to be set on a copy of a slice from a DataFrame\n",
            "\n",
            "See the caveats in the documentation: https://pandas.pydata.org/pandas-docs/stable/user_guide/indexing.html#returning-a-view-versus-a-copy\n",
            "  gradebook.drop_duplicates(inplace=True)\n"
          ]
        }
      ],
      "source": [
        "gradebook.drop_duplicates(inplace=True)"
      ]
    },
    {
      "cell_type": "code",
      "execution_count": 13,
      "metadata": {
        "colab": {
          "base_uri": "https://localhost:8080/"
        },
        "id": "MBUTD08uO4S0",
        "outputId": "e3f6a9d4-6a94-47d6-b7e7-0805cfb86491"
      },
      "outputs": [
        {
          "output_type": "execute_result",
          "data": {
            "text/plain": [
              "(150, 13)"
            ]
          },
          "metadata": {},
          "execution_count": 13
        }
      ],
      "source": [
        "gradebook.shape"
      ]
    },
    {
      "cell_type": "markdown",
      "metadata": {
        "id": "kXbJ2PVPO4S0"
      },
      "source": [
        "No hay datos duplicados en su totalidad, es decir, no hay registro identicos"
      ]
    },
    {
      "cell_type": "markdown",
      "metadata": {
        "id": "cHmspPNdNQwG"
      },
      "source": [
        "9. Mira que columnas de gradebook tienen nulos y cuántos registros nulos tienen mediante la función isnull"
      ]
    },
    {
      "cell_type": "code",
      "execution_count": 14,
      "metadata": {
        "id": "Jw_4YDBhNOgY",
        "colab": {
          "base_uri": "https://localhost:8080/"
        },
        "outputId": "a185b394-2818-4b4c-c97d-16ff26abea80"
      },
      "outputs": [
        {
          "output_type": "execute_result",
          "data": {
            "text/plain": [
              "first_name                 0\n",
              "last_name                  0\n",
              "sid                        0\n",
              "homework_1                 1\n",
              "homework_1_-_max_points    0\n",
              "homework_2                 0\n",
              "homework_2_-_max_points    0\n",
              "homework_3                 0\n",
              "homework_3_-_max_points    0\n",
              "exam_1                     0\n",
              "exam_1_-_max_points        0\n",
              "exam_2                     0\n",
              "exam_2_-_max_points        0\n",
              "dtype: int64"
            ]
          },
          "metadata": {},
          "execution_count": 14
        }
      ],
      "source": [
        "gradebook.isnull().sum()"
      ]
    },
    {
      "cell_type": "markdown",
      "metadata": {
        "id": "CvcrJj-MO4S1"
      },
      "source": [
        "La columna homework_1 contiene un valor nulo"
      ]
    },
    {
      "cell_type": "markdown",
      "metadata": {
        "id": "ZOICanLVNdkq"
      },
      "source": [
        "10. En el caso de que haya algun valor nulo en la nota de algun examen o homework, reemplaza este nulo que sería un no entregado por un 0. Comprueba que lo has hecho bien volviendo a mirar los nulos de gradebook."
      ]
    },
    {
      "cell_type": "code",
      "execution_count": 15,
      "metadata": {
        "id": "tCsYwA9-Na1S"
      },
      "outputs": [],
      "source": [
        "gradebook = gradebook.fillna(0)"
      ]
    },
    {
      "cell_type": "code",
      "execution_count": 16,
      "metadata": {
        "colab": {
          "base_uri": "https://localhost:8080/"
        },
        "id": "cBYaUdhhO4S1",
        "outputId": "ffd30dcf-cfbd-4a8b-b650-e8c457ebac28"
      },
      "outputs": [
        {
          "output_type": "execute_result",
          "data": {
            "text/plain": [
              "first_name                 0\n",
              "last_name                  0\n",
              "sid                        0\n",
              "homework_1                 0\n",
              "homework_1_-_max_points    0\n",
              "homework_2                 0\n",
              "homework_2_-_max_points    0\n",
              "homework_3                 0\n",
              "homework_3_-_max_points    0\n",
              "exam_1                     0\n",
              "exam_1_-_max_points        0\n",
              "exam_2                     0\n",
              "exam_2_-_max_points        0\n",
              "dtype: int64"
            ]
          },
          "metadata": {},
          "execution_count": 16
        }
      ],
      "source": [
        "gradebook.isnull().sum()"
      ]
    },
    {
      "cell_type": "markdown",
      "metadata": {
        "id": "kKGc9E3NN7_v"
      },
      "source": [
        "11. En nuestro dataframe, para cada tarea tenemos una columna con la nota que sacó el alumno y otra columna que nos indica el máximo de puntuación que se podía sacar en esa tarea. \n",
        "\n",
        "Hagamos que todas las notas estén sobre 10. Para ello crea una función que dada una nota y el máximo que se podia sacar en esa tarea, divida la nota entre el máximo y lo multiplique por 10 para sacar la nota sobre 10.\n",
        "\n",
        "Luego, aplica esta función a cada una de las tareas y guarda la nota obtenida para cada tarea en una columna llamada nombretarea_s10. Por ejemplo homework1_s10 o exam1_s10."
      ]
    },
    {
      "cell_type": "code",
      "execution_count": 17,
      "metadata": {
        "id": "DH6twuCDN1DN"
      },
      "outputs": [],
      "source": [
        "def diez(a,b):\n",
        "    return gradebook.apply(lambda x: x[a]/x[b]*10,axis=1)"
      ]
    },
    {
      "cell_type": "code",
      "execution_count": 18,
      "metadata": {
        "id": "TSHgqDg-O4S2"
      },
      "outputs": [],
      "source": [
        "gradebook[\"homework_1_s10\"] = diez(\"homework_1\",\"homework_1_-_max_points\")"
      ]
    },
    {
      "cell_type": "code",
      "execution_count": 19,
      "metadata": {
        "id": "9axm46p5O4S2"
      },
      "outputs": [],
      "source": [
        "gradebook[\"homework_2_s10\"] = diez(\"homework_2\",\"homework_2_-_max_points\")"
      ]
    },
    {
      "cell_type": "code",
      "execution_count": 20,
      "metadata": {
        "id": "N1MzGM-pO4S2"
      },
      "outputs": [],
      "source": [
        "gradebook[\"homework_3_s10\"] = diez(\"homework_3\",\"homework_3_-_max_points\")"
      ]
    },
    {
      "cell_type": "code",
      "execution_count": 21,
      "metadata": {
        "id": "QlFRT48GO4S3"
      },
      "outputs": [],
      "source": [
        "gradebook[\"exam_1_s10\"] = diez(\"exam_1\",\"exam_1_-_max_points\")"
      ]
    },
    {
      "cell_type": "code",
      "execution_count": 22,
      "metadata": {
        "id": "m9g6D9gWO4S3"
      },
      "outputs": [],
      "source": [
        "gradebook[\"exam_2_s10\"] = diez(\"exam_2\",\"exam_2_-_max_points\")"
      ]
    },
    {
      "cell_type": "code",
      "execution_count": 23,
      "metadata": {
        "colab": {
          "base_uri": "https://localhost:8080/",
          "height": 424
        },
        "id": "Q6_ccfjIO4S3",
        "outputId": "4b0cbc2f-9c33-4ac7-85f1-90cfa4412ca8"
      },
      "outputs": [
        {
          "output_type": "execute_result",
          "data": {
            "text/plain": [
              "    first_name   last_name       sid  homework_1  homework_1_-_max_points  \\\n",
              "0        Aaron      Lester  axl60952        68.0                       80   \n",
              "1         Adam      Cooper  amc28428        80.0                       80   \n",
              "2         Alec       Curry  axc64717        69.0                       80   \n",
              "3    Alexander   Rodriguez  akr14831        50.0                       80   \n",
              "4        Amber     Daniels  axd11293        54.0                       80   \n",
              "..         ...         ...       ...         ...                      ...   \n",
              "145     Travis  Washington  txw75701        64.0                       80   \n",
              "146       Troy     Raymond  tbr17292        50.0                       80   \n",
              "147   Victoria        Boyd  vkb66346        58.0                       80   \n",
              "148    William      Daniel  wad63934        48.0                       80   \n",
              "149      Woody     Barrera  wxb12345        55.0                       80   \n",
              "\n",
              "     homework_2  homework_2_-_max_points  homework_3  homework_3_-_max_points  \\\n",
              "0            74                       80          77                       80   \n",
              "1            78                       80          78                       80   \n",
              "2            76                       80          66                       80   \n",
              "3            54                       80          74                       80   \n",
              "4            57                       80          77                       80   \n",
              "..          ...                      ...         ...                      ...   \n",
              "145          67                       80          56                       80   \n",
              "146          59                       80          79                       80   \n",
              "147          61                       80          75                       80   \n",
              "148          60                       80          72                       80   \n",
              "149          62                       80          73                       80   \n",
              "\n",
              "     exam_1  exam_1_-_max_points  exam_2  exam_2_-_max_points  homework_1_s10  \\\n",
              "0        79                  100      63                  100           8.500   \n",
              "1        65                  100      63                  100          10.000   \n",
              "2        65                  100      78                  100           8.625   \n",
              "3        97                  100      97                  100           6.250   \n",
              "4        68                  100      95                  100           6.750   \n",
              "..      ...                  ...     ...                  ...             ...   \n",
              "145      94                  100      74                  100           8.000   \n",
              "146      91                  100      67                  100           6.250   \n",
              "147      68                  100      93                  100           7.250   \n",
              "148      84                  100      91                  100           6.000   \n",
              "149      86                  100      62                  100           6.875   \n",
              "\n",
              "     homework_2_s10  homework_3_s10  exam_1_s10  exam_2_s10  \n",
              "0             9.250           9.625         7.9         6.3  \n",
              "1             9.750           9.750         6.5         6.3  \n",
              "2             9.500           8.250         6.5         7.8  \n",
              "3             6.750           9.250         9.7         9.7  \n",
              "4             7.125           9.625         6.8         9.5  \n",
              "..              ...             ...         ...         ...  \n",
              "145           8.375           7.000         9.4         7.4  \n",
              "146           7.375           9.875         9.1         6.7  \n",
              "147           7.625           9.375         6.8         9.3  \n",
              "148           7.500           9.000         8.4         9.1  \n",
              "149           7.750           9.125         8.6         6.2  \n",
              "\n",
              "[150 rows x 18 columns]"
            ],
            "text/html": [
              "\n",
              "  <div id=\"df-efce4603-0e09-417f-8179-1bdf6026d701\">\n",
              "    <div class=\"colab-df-container\">\n",
              "      <div>\n",
              "<style scoped>\n",
              "    .dataframe tbody tr th:only-of-type {\n",
              "        vertical-align: middle;\n",
              "    }\n",
              "\n",
              "    .dataframe tbody tr th {\n",
              "        vertical-align: top;\n",
              "    }\n",
              "\n",
              "    .dataframe thead th {\n",
              "        text-align: right;\n",
              "    }\n",
              "</style>\n",
              "<table border=\"1\" class=\"dataframe\">\n",
              "  <thead>\n",
              "    <tr style=\"text-align: right;\">\n",
              "      <th></th>\n",
              "      <th>first_name</th>\n",
              "      <th>last_name</th>\n",
              "      <th>sid</th>\n",
              "      <th>homework_1</th>\n",
              "      <th>homework_1_-_max_points</th>\n",
              "      <th>homework_2</th>\n",
              "      <th>homework_2_-_max_points</th>\n",
              "      <th>homework_3</th>\n",
              "      <th>homework_3_-_max_points</th>\n",
              "      <th>exam_1</th>\n",
              "      <th>exam_1_-_max_points</th>\n",
              "      <th>exam_2</th>\n",
              "      <th>exam_2_-_max_points</th>\n",
              "      <th>homework_1_s10</th>\n",
              "      <th>homework_2_s10</th>\n",
              "      <th>homework_3_s10</th>\n",
              "      <th>exam_1_s10</th>\n",
              "      <th>exam_2_s10</th>\n",
              "    </tr>\n",
              "  </thead>\n",
              "  <tbody>\n",
              "    <tr>\n",
              "      <th>0</th>\n",
              "      <td>Aaron</td>\n",
              "      <td>Lester</td>\n",
              "      <td>axl60952</td>\n",
              "      <td>68.0</td>\n",
              "      <td>80</td>\n",
              "      <td>74</td>\n",
              "      <td>80</td>\n",
              "      <td>77</td>\n",
              "      <td>80</td>\n",
              "      <td>79</td>\n",
              "      <td>100</td>\n",
              "      <td>63</td>\n",
              "      <td>100</td>\n",
              "      <td>8.500</td>\n",
              "      <td>9.250</td>\n",
              "      <td>9.625</td>\n",
              "      <td>7.9</td>\n",
              "      <td>6.3</td>\n",
              "    </tr>\n",
              "    <tr>\n",
              "      <th>1</th>\n",
              "      <td>Adam</td>\n",
              "      <td>Cooper</td>\n",
              "      <td>amc28428</td>\n",
              "      <td>80.0</td>\n",
              "      <td>80</td>\n",
              "      <td>78</td>\n",
              "      <td>80</td>\n",
              "      <td>78</td>\n",
              "      <td>80</td>\n",
              "      <td>65</td>\n",
              "      <td>100</td>\n",
              "      <td>63</td>\n",
              "      <td>100</td>\n",
              "      <td>10.000</td>\n",
              "      <td>9.750</td>\n",
              "      <td>9.750</td>\n",
              "      <td>6.5</td>\n",
              "      <td>6.3</td>\n",
              "    </tr>\n",
              "    <tr>\n",
              "      <th>2</th>\n",
              "      <td>Alec</td>\n",
              "      <td>Curry</td>\n",
              "      <td>axc64717</td>\n",
              "      <td>69.0</td>\n",
              "      <td>80</td>\n",
              "      <td>76</td>\n",
              "      <td>80</td>\n",
              "      <td>66</td>\n",
              "      <td>80</td>\n",
              "      <td>65</td>\n",
              "      <td>100</td>\n",
              "      <td>78</td>\n",
              "      <td>100</td>\n",
              "      <td>8.625</td>\n",
              "      <td>9.500</td>\n",
              "      <td>8.250</td>\n",
              "      <td>6.5</td>\n",
              "      <td>7.8</td>\n",
              "    </tr>\n",
              "    <tr>\n",
              "      <th>3</th>\n",
              "      <td>Alexander</td>\n",
              "      <td>Rodriguez</td>\n",
              "      <td>akr14831</td>\n",
              "      <td>50.0</td>\n",
              "      <td>80</td>\n",
              "      <td>54</td>\n",
              "      <td>80</td>\n",
              "      <td>74</td>\n",
              "      <td>80</td>\n",
              "      <td>97</td>\n",
              "      <td>100</td>\n",
              "      <td>97</td>\n",
              "      <td>100</td>\n",
              "      <td>6.250</td>\n",
              "      <td>6.750</td>\n",
              "      <td>9.250</td>\n",
              "      <td>9.7</td>\n",
              "      <td>9.7</td>\n",
              "    </tr>\n",
              "    <tr>\n",
              "      <th>4</th>\n",
              "      <td>Amber</td>\n",
              "      <td>Daniels</td>\n",
              "      <td>axd11293</td>\n",
              "      <td>54.0</td>\n",
              "      <td>80</td>\n",
              "      <td>57</td>\n",
              "      <td>80</td>\n",
              "      <td>77</td>\n",
              "      <td>80</td>\n",
              "      <td>68</td>\n",
              "      <td>100</td>\n",
              "      <td>95</td>\n",
              "      <td>100</td>\n",
              "      <td>6.750</td>\n",
              "      <td>7.125</td>\n",
              "      <td>9.625</td>\n",
              "      <td>6.8</td>\n",
              "      <td>9.5</td>\n",
              "    </tr>\n",
              "    <tr>\n",
              "      <th>...</th>\n",
              "      <td>...</td>\n",
              "      <td>...</td>\n",
              "      <td>...</td>\n",
              "      <td>...</td>\n",
              "      <td>...</td>\n",
              "      <td>...</td>\n",
              "      <td>...</td>\n",
              "      <td>...</td>\n",
              "      <td>...</td>\n",
              "      <td>...</td>\n",
              "      <td>...</td>\n",
              "      <td>...</td>\n",
              "      <td>...</td>\n",
              "      <td>...</td>\n",
              "      <td>...</td>\n",
              "      <td>...</td>\n",
              "      <td>...</td>\n",
              "      <td>...</td>\n",
              "    </tr>\n",
              "    <tr>\n",
              "      <th>145</th>\n",
              "      <td>Travis</td>\n",
              "      <td>Washington</td>\n",
              "      <td>txw75701</td>\n",
              "      <td>64.0</td>\n",
              "      <td>80</td>\n",
              "      <td>67</td>\n",
              "      <td>80</td>\n",
              "      <td>56</td>\n",
              "      <td>80</td>\n",
              "      <td>94</td>\n",
              "      <td>100</td>\n",
              "      <td>74</td>\n",
              "      <td>100</td>\n",
              "      <td>8.000</td>\n",
              "      <td>8.375</td>\n",
              "      <td>7.000</td>\n",
              "      <td>9.4</td>\n",
              "      <td>7.4</td>\n",
              "    </tr>\n",
              "    <tr>\n",
              "      <th>146</th>\n",
              "      <td>Troy</td>\n",
              "      <td>Raymond</td>\n",
              "      <td>tbr17292</td>\n",
              "      <td>50.0</td>\n",
              "      <td>80</td>\n",
              "      <td>59</td>\n",
              "      <td>80</td>\n",
              "      <td>79</td>\n",
              "      <td>80</td>\n",
              "      <td>91</td>\n",
              "      <td>100</td>\n",
              "      <td>67</td>\n",
              "      <td>100</td>\n",
              "      <td>6.250</td>\n",
              "      <td>7.375</td>\n",
              "      <td>9.875</td>\n",
              "      <td>9.1</td>\n",
              "      <td>6.7</td>\n",
              "    </tr>\n",
              "    <tr>\n",
              "      <th>147</th>\n",
              "      <td>Victoria</td>\n",
              "      <td>Boyd</td>\n",
              "      <td>vkb66346</td>\n",
              "      <td>58.0</td>\n",
              "      <td>80</td>\n",
              "      <td>61</td>\n",
              "      <td>80</td>\n",
              "      <td>75</td>\n",
              "      <td>80</td>\n",
              "      <td>68</td>\n",
              "      <td>100</td>\n",
              "      <td>93</td>\n",
              "      <td>100</td>\n",
              "      <td>7.250</td>\n",
              "      <td>7.625</td>\n",
              "      <td>9.375</td>\n",
              "      <td>6.8</td>\n",
              "      <td>9.3</td>\n",
              "    </tr>\n",
              "    <tr>\n",
              "      <th>148</th>\n",
              "      <td>William</td>\n",
              "      <td>Daniel</td>\n",
              "      <td>wad63934</td>\n",
              "      <td>48.0</td>\n",
              "      <td>80</td>\n",
              "      <td>60</td>\n",
              "      <td>80</td>\n",
              "      <td>72</td>\n",
              "      <td>80</td>\n",
              "      <td>84</td>\n",
              "      <td>100</td>\n",
              "      <td>91</td>\n",
              "      <td>100</td>\n",
              "      <td>6.000</td>\n",
              "      <td>7.500</td>\n",
              "      <td>9.000</td>\n",
              "      <td>8.4</td>\n",
              "      <td>9.1</td>\n",
              "    </tr>\n",
              "    <tr>\n",
              "      <th>149</th>\n",
              "      <td>Woody</td>\n",
              "      <td>Barrera</td>\n",
              "      <td>wxb12345</td>\n",
              "      <td>55.0</td>\n",
              "      <td>80</td>\n",
              "      <td>62</td>\n",
              "      <td>80</td>\n",
              "      <td>73</td>\n",
              "      <td>80</td>\n",
              "      <td>86</td>\n",
              "      <td>100</td>\n",
              "      <td>62</td>\n",
              "      <td>100</td>\n",
              "      <td>6.875</td>\n",
              "      <td>7.750</td>\n",
              "      <td>9.125</td>\n",
              "      <td>8.6</td>\n",
              "      <td>6.2</td>\n",
              "    </tr>\n",
              "  </tbody>\n",
              "</table>\n",
              "<p>150 rows × 18 columns</p>\n",
              "</div>\n",
              "      <button class=\"colab-df-convert\" onclick=\"convertToInteractive('df-efce4603-0e09-417f-8179-1bdf6026d701')\"\n",
              "              title=\"Convert this dataframe to an interactive table.\"\n",
              "              style=\"display:none;\">\n",
              "        \n",
              "  <svg xmlns=\"http://www.w3.org/2000/svg\" height=\"24px\"viewBox=\"0 0 24 24\"\n",
              "       width=\"24px\">\n",
              "    <path d=\"M0 0h24v24H0V0z\" fill=\"none\"/>\n",
              "    <path d=\"M18.56 5.44l.94 2.06.94-2.06 2.06-.94-2.06-.94-.94-2.06-.94 2.06-2.06.94zm-11 1L8.5 8.5l.94-2.06 2.06-.94-2.06-.94L8.5 2.5l-.94 2.06-2.06.94zm10 10l.94 2.06.94-2.06 2.06-.94-2.06-.94-.94-2.06-.94 2.06-2.06.94z\"/><path d=\"M17.41 7.96l-1.37-1.37c-.4-.4-.92-.59-1.43-.59-.52 0-1.04.2-1.43.59L10.3 9.45l-7.72 7.72c-.78.78-.78 2.05 0 2.83L4 21.41c.39.39.9.59 1.41.59.51 0 1.02-.2 1.41-.59l7.78-7.78 2.81-2.81c.8-.78.8-2.07 0-2.86zM5.41 20L4 18.59l7.72-7.72 1.47 1.35L5.41 20z\"/>\n",
              "  </svg>\n",
              "      </button>\n",
              "      \n",
              "  <style>\n",
              "    .colab-df-container {\n",
              "      display:flex;\n",
              "      flex-wrap:wrap;\n",
              "      gap: 12px;\n",
              "    }\n",
              "\n",
              "    .colab-df-convert {\n",
              "      background-color: #E8F0FE;\n",
              "      border: none;\n",
              "      border-radius: 50%;\n",
              "      cursor: pointer;\n",
              "      display: none;\n",
              "      fill: #1967D2;\n",
              "      height: 32px;\n",
              "      padding: 0 0 0 0;\n",
              "      width: 32px;\n",
              "    }\n",
              "\n",
              "    .colab-df-convert:hover {\n",
              "      background-color: #E2EBFA;\n",
              "      box-shadow: 0px 1px 2px rgba(60, 64, 67, 0.3), 0px 1px 3px 1px rgba(60, 64, 67, 0.15);\n",
              "      fill: #174EA6;\n",
              "    }\n",
              "\n",
              "    [theme=dark] .colab-df-convert {\n",
              "      background-color: #3B4455;\n",
              "      fill: #D2E3FC;\n",
              "    }\n",
              "\n",
              "    [theme=dark] .colab-df-convert:hover {\n",
              "      background-color: #434B5C;\n",
              "      box-shadow: 0px 1px 3px 1px rgba(0, 0, 0, 0.15);\n",
              "      filter: drop-shadow(0px 1px 2px rgba(0, 0, 0, 0.3));\n",
              "      fill: #FFFFFF;\n",
              "    }\n",
              "  </style>\n",
              "\n",
              "      <script>\n",
              "        const buttonEl =\n",
              "          document.querySelector('#df-efce4603-0e09-417f-8179-1bdf6026d701 button.colab-df-convert');\n",
              "        buttonEl.style.display =\n",
              "          google.colab.kernel.accessAllowed ? 'block' : 'none';\n",
              "\n",
              "        async function convertToInteractive(key) {\n",
              "          const element = document.querySelector('#df-efce4603-0e09-417f-8179-1bdf6026d701');\n",
              "          const dataTable =\n",
              "            await google.colab.kernel.invokeFunction('convertToInteractive',\n",
              "                                                     [key], {});\n",
              "          if (!dataTable) return;\n",
              "\n",
              "          const docLinkHtml = 'Like what you see? Visit the ' +\n",
              "            '<a target=\"_blank\" href=https://colab.research.google.com/notebooks/data_table.ipynb>data table notebook</a>'\n",
              "            + ' to learn more about interactive tables.';\n",
              "          element.innerHTML = '';\n",
              "          dataTable['output_type'] = 'display_data';\n",
              "          await google.colab.output.renderOutput(dataTable, element);\n",
              "          const docLink = document.createElement('div');\n",
              "          docLink.innerHTML = docLinkHtml;\n",
              "          element.appendChild(docLink);\n",
              "        }\n",
              "      </script>\n",
              "    </div>\n",
              "  </div>\n",
              "  "
            ]
          },
          "metadata": {},
          "execution_count": 23
        }
      ],
      "source": [
        "gradebook"
      ]
    },
    {
      "cell_type": "markdown",
      "metadata": {
        "id": "KATpFfKiTekJ"
      },
      "source": [
        "Usa las columnas con las notas calculadas sobre 10 para responder las preguntas siguientes:"
      ]
    },
    {
      "cell_type": "markdown",
      "metadata": {
        "id": "yjEKVEaLTNpp"
      },
      "source": [
        "12. Cuántos alumnos han sacado menos de un 7 en el Homework3?"
      ]
    },
    {
      "cell_type": "code",
      "execution_count": 24,
      "metadata": {
        "id": "F7eytHoVSQ2Y",
        "colab": {
          "base_uri": "https://localhost:8080/"
        },
        "outputId": "6a74f55a-88aa-4ccf-d8c9-3c0346264ec4"
      },
      "outputs": [
        {
          "output_type": "execute_result",
          "data": {
            "text/plain": [
              "39"
            ]
          },
          "metadata": {},
          "execution_count": 24
        }
      ],
      "source": [
        "len(gradebook[gradebook[\"homework_3_s10\"]<7])"
      ]
    },
    {
      "cell_type": "markdown",
      "metadata": {
        "id": "lfeBr9QeO4S3"
      },
      "source": [
        "39 alumnos han sacado menos de 7 en la tarea 3"
      ]
    },
    {
      "cell_type": "markdown",
      "metadata": {
        "id": "0b1hDWj5RAyr"
      },
      "source": [
        "13. Cuántos alumnos sacaron un 10 sobre 10 en el examen 1? Y cuál es la media del examen 2, de los alumnos que sacaron un 10 en el examen 1?"
      ]
    },
    {
      "cell_type": "code",
      "execution_count": 25,
      "metadata": {
        "id": "vQhqJofrToKL",
        "colab": {
          "base_uri": "https://localhost:8080/"
        },
        "outputId": "84a10c11-a6ce-4407-aa1d-1e311f76ca48"
      },
      "outputs": [
        {
          "output_type": "execute_result",
          "data": {
            "text/plain": [
              "4"
            ]
          },
          "metadata": {},
          "execution_count": 25
        }
      ],
      "source": [
        "len(gradebook[gradebook[\"exam_1_s10\"]==10])"
      ]
    },
    {
      "cell_type": "code",
      "execution_count": 26,
      "metadata": {
        "colab": {
          "base_uri": "https://localhost:8080/"
        },
        "id": "B6Y8DMUVO4S4",
        "outputId": "4d308a27-ad7f-4888-e941-0587f5595380"
      },
      "outputs": [
        {
          "output_type": "execute_result",
          "data": {
            "text/plain": [
              "50     7.8\n",
              "53     6.1\n",
              "101    8.2\n",
              "144    8.4\n",
              "Name: exam_2_s10, dtype: float64"
            ]
          },
          "metadata": {},
          "execution_count": 26
        }
      ],
      "source": [
        "gradebook[gradebook[\"exam_1_s10\"]==10][\"exam_2_s10\"]"
      ]
    },
    {
      "cell_type": "code",
      "execution_count": 27,
      "metadata": {
        "colab": {
          "base_uri": "https://localhost:8080/"
        },
        "id": "63c6hy8uO4S4",
        "outputId": "200fbc1f-912b-4be3-caac-ceaf512aa235"
      },
      "outputs": [
        {
          "output_type": "execute_result",
          "data": {
            "text/plain": [
              "7.625"
            ]
          },
          "metadata": {},
          "execution_count": 27
        }
      ],
      "source": [
        "gradebook[gradebook[\"exam_1_s10\"]==10][\"exam_2_s10\"].mean()"
      ]
    },
    {
      "cell_type": "markdown",
      "metadata": {
        "id": "xbKLjOV2Rvb6"
      },
      "source": [
        "14. Crea una columna que contenga la media de las 3 homeworks para cada alumno y llamala homework_mean y otra que contenga la media de los 2 examenes para cada alumno y llamala exam_mean. Recuerda que la media se calcula como la suma de los elementos entre el número de elementos"
      ]
    },
    {
      "cell_type": "code",
      "execution_count": 28,
      "metadata": {
        "id": "_3qnnHntRxOe"
      },
      "outputs": [],
      "source": [
        "gradebook[\"homework_mean\"] = gradebook.apply(lambda x: (x['homework_1_s10']+x['homework_2_s10']+x['homework_3_s10'])/3,axis=1)\n",
        "gradebook[\"exam_mean\"] = gradebook.apply(lambda x: (x['exam_1_s10']+x['exam_2_s10'])/2,axis=1)"
      ]
    },
    {
      "cell_type": "code",
      "execution_count": 29,
      "metadata": {
        "colab": {
          "base_uri": "https://localhost:8080/",
          "height": 424
        },
        "id": "q7Q40xQvO4S4",
        "outputId": "b018b23a-9249-495f-9175-2c94cd5d2b8d"
      },
      "outputs": [
        {
          "output_type": "execute_result",
          "data": {
            "text/plain": [
              "    first_name   last_name       sid  homework_1  homework_1_-_max_points  \\\n",
              "0        Aaron      Lester  axl60952        68.0                       80   \n",
              "1         Adam      Cooper  amc28428        80.0                       80   \n",
              "2         Alec       Curry  axc64717        69.0                       80   \n",
              "3    Alexander   Rodriguez  akr14831        50.0                       80   \n",
              "4        Amber     Daniels  axd11293        54.0                       80   \n",
              "..         ...         ...       ...         ...                      ...   \n",
              "145     Travis  Washington  txw75701        64.0                       80   \n",
              "146       Troy     Raymond  tbr17292        50.0                       80   \n",
              "147   Victoria        Boyd  vkb66346        58.0                       80   \n",
              "148    William      Daniel  wad63934        48.0                       80   \n",
              "149      Woody     Barrera  wxb12345        55.0                       80   \n",
              "\n",
              "     homework_2  homework_2_-_max_points  homework_3  homework_3_-_max_points  \\\n",
              "0            74                       80          77                       80   \n",
              "1            78                       80          78                       80   \n",
              "2            76                       80          66                       80   \n",
              "3            54                       80          74                       80   \n",
              "4            57                       80          77                       80   \n",
              "..          ...                      ...         ...                      ...   \n",
              "145          67                       80          56                       80   \n",
              "146          59                       80          79                       80   \n",
              "147          61                       80          75                       80   \n",
              "148          60                       80          72                       80   \n",
              "149          62                       80          73                       80   \n",
              "\n",
              "     exam_1  exam_1_-_max_points  exam_2  exam_2_-_max_points  homework_1_s10  \\\n",
              "0        79                  100      63                  100           8.500   \n",
              "1        65                  100      63                  100          10.000   \n",
              "2        65                  100      78                  100           8.625   \n",
              "3        97                  100      97                  100           6.250   \n",
              "4        68                  100      95                  100           6.750   \n",
              "..      ...                  ...     ...                  ...             ...   \n",
              "145      94                  100      74                  100           8.000   \n",
              "146      91                  100      67                  100           6.250   \n",
              "147      68                  100      93                  100           7.250   \n",
              "148      84                  100      91                  100           6.000   \n",
              "149      86                  100      62                  100           6.875   \n",
              "\n",
              "     homework_2_s10  homework_3_s10  exam_1_s10  exam_2_s10  homework_mean  \\\n",
              "0             9.250           9.625         7.9         6.3       9.125000   \n",
              "1             9.750           9.750         6.5         6.3       9.833333   \n",
              "2             9.500           8.250         6.5         7.8       8.791667   \n",
              "3             6.750           9.250         9.7         9.7       7.416667   \n",
              "4             7.125           9.625         6.8         9.5       7.833333   \n",
              "..              ...             ...         ...         ...            ...   \n",
              "145           8.375           7.000         9.4         7.4       7.791667   \n",
              "146           7.375           9.875         9.1         6.7       7.833333   \n",
              "147           7.625           9.375         6.8         9.3       8.083333   \n",
              "148           7.500           9.000         8.4         9.1       7.500000   \n",
              "149           7.750           9.125         8.6         6.2       7.916667   \n",
              "\n",
              "     exam_mean  \n",
              "0         7.10  \n",
              "1         6.40  \n",
              "2         7.15  \n",
              "3         9.70  \n",
              "4         8.15  \n",
              "..         ...  \n",
              "145       8.40  \n",
              "146       7.90  \n",
              "147       8.05  \n",
              "148       8.75  \n",
              "149       7.40  \n",
              "\n",
              "[150 rows x 20 columns]"
            ],
            "text/html": [
              "\n",
              "  <div id=\"df-5b4ea850-b551-442d-8d89-78437c49d510\">\n",
              "    <div class=\"colab-df-container\">\n",
              "      <div>\n",
              "<style scoped>\n",
              "    .dataframe tbody tr th:only-of-type {\n",
              "        vertical-align: middle;\n",
              "    }\n",
              "\n",
              "    .dataframe tbody tr th {\n",
              "        vertical-align: top;\n",
              "    }\n",
              "\n",
              "    .dataframe thead th {\n",
              "        text-align: right;\n",
              "    }\n",
              "</style>\n",
              "<table border=\"1\" class=\"dataframe\">\n",
              "  <thead>\n",
              "    <tr style=\"text-align: right;\">\n",
              "      <th></th>\n",
              "      <th>first_name</th>\n",
              "      <th>last_name</th>\n",
              "      <th>sid</th>\n",
              "      <th>homework_1</th>\n",
              "      <th>homework_1_-_max_points</th>\n",
              "      <th>homework_2</th>\n",
              "      <th>homework_2_-_max_points</th>\n",
              "      <th>homework_3</th>\n",
              "      <th>homework_3_-_max_points</th>\n",
              "      <th>exam_1</th>\n",
              "      <th>exam_1_-_max_points</th>\n",
              "      <th>exam_2</th>\n",
              "      <th>exam_2_-_max_points</th>\n",
              "      <th>homework_1_s10</th>\n",
              "      <th>homework_2_s10</th>\n",
              "      <th>homework_3_s10</th>\n",
              "      <th>exam_1_s10</th>\n",
              "      <th>exam_2_s10</th>\n",
              "      <th>homework_mean</th>\n",
              "      <th>exam_mean</th>\n",
              "    </tr>\n",
              "  </thead>\n",
              "  <tbody>\n",
              "    <tr>\n",
              "      <th>0</th>\n",
              "      <td>Aaron</td>\n",
              "      <td>Lester</td>\n",
              "      <td>axl60952</td>\n",
              "      <td>68.0</td>\n",
              "      <td>80</td>\n",
              "      <td>74</td>\n",
              "      <td>80</td>\n",
              "      <td>77</td>\n",
              "      <td>80</td>\n",
              "      <td>79</td>\n",
              "      <td>100</td>\n",
              "      <td>63</td>\n",
              "      <td>100</td>\n",
              "      <td>8.500</td>\n",
              "      <td>9.250</td>\n",
              "      <td>9.625</td>\n",
              "      <td>7.9</td>\n",
              "      <td>6.3</td>\n",
              "      <td>9.125000</td>\n",
              "      <td>7.10</td>\n",
              "    </tr>\n",
              "    <tr>\n",
              "      <th>1</th>\n",
              "      <td>Adam</td>\n",
              "      <td>Cooper</td>\n",
              "      <td>amc28428</td>\n",
              "      <td>80.0</td>\n",
              "      <td>80</td>\n",
              "      <td>78</td>\n",
              "      <td>80</td>\n",
              "      <td>78</td>\n",
              "      <td>80</td>\n",
              "      <td>65</td>\n",
              "      <td>100</td>\n",
              "      <td>63</td>\n",
              "      <td>100</td>\n",
              "      <td>10.000</td>\n",
              "      <td>9.750</td>\n",
              "      <td>9.750</td>\n",
              "      <td>6.5</td>\n",
              "      <td>6.3</td>\n",
              "      <td>9.833333</td>\n",
              "      <td>6.40</td>\n",
              "    </tr>\n",
              "    <tr>\n",
              "      <th>2</th>\n",
              "      <td>Alec</td>\n",
              "      <td>Curry</td>\n",
              "      <td>axc64717</td>\n",
              "      <td>69.0</td>\n",
              "      <td>80</td>\n",
              "      <td>76</td>\n",
              "      <td>80</td>\n",
              "      <td>66</td>\n",
              "      <td>80</td>\n",
              "      <td>65</td>\n",
              "      <td>100</td>\n",
              "      <td>78</td>\n",
              "      <td>100</td>\n",
              "      <td>8.625</td>\n",
              "      <td>9.500</td>\n",
              "      <td>8.250</td>\n",
              "      <td>6.5</td>\n",
              "      <td>7.8</td>\n",
              "      <td>8.791667</td>\n",
              "      <td>7.15</td>\n",
              "    </tr>\n",
              "    <tr>\n",
              "      <th>3</th>\n",
              "      <td>Alexander</td>\n",
              "      <td>Rodriguez</td>\n",
              "      <td>akr14831</td>\n",
              "      <td>50.0</td>\n",
              "      <td>80</td>\n",
              "      <td>54</td>\n",
              "      <td>80</td>\n",
              "      <td>74</td>\n",
              "      <td>80</td>\n",
              "      <td>97</td>\n",
              "      <td>100</td>\n",
              "      <td>97</td>\n",
              "      <td>100</td>\n",
              "      <td>6.250</td>\n",
              "      <td>6.750</td>\n",
              "      <td>9.250</td>\n",
              "      <td>9.7</td>\n",
              "      <td>9.7</td>\n",
              "      <td>7.416667</td>\n",
              "      <td>9.70</td>\n",
              "    </tr>\n",
              "    <tr>\n",
              "      <th>4</th>\n",
              "      <td>Amber</td>\n",
              "      <td>Daniels</td>\n",
              "      <td>axd11293</td>\n",
              "      <td>54.0</td>\n",
              "      <td>80</td>\n",
              "      <td>57</td>\n",
              "      <td>80</td>\n",
              "      <td>77</td>\n",
              "      <td>80</td>\n",
              "      <td>68</td>\n",
              "      <td>100</td>\n",
              "      <td>95</td>\n",
              "      <td>100</td>\n",
              "      <td>6.750</td>\n",
              "      <td>7.125</td>\n",
              "      <td>9.625</td>\n",
              "      <td>6.8</td>\n",
              "      <td>9.5</td>\n",
              "      <td>7.833333</td>\n",
              "      <td>8.15</td>\n",
              "    </tr>\n",
              "    <tr>\n",
              "      <th>...</th>\n",
              "      <td>...</td>\n",
              "      <td>...</td>\n",
              "      <td>...</td>\n",
              "      <td>...</td>\n",
              "      <td>...</td>\n",
              "      <td>...</td>\n",
              "      <td>...</td>\n",
              "      <td>...</td>\n",
              "      <td>...</td>\n",
              "      <td>...</td>\n",
              "      <td>...</td>\n",
              "      <td>...</td>\n",
              "      <td>...</td>\n",
              "      <td>...</td>\n",
              "      <td>...</td>\n",
              "      <td>...</td>\n",
              "      <td>...</td>\n",
              "      <td>...</td>\n",
              "      <td>...</td>\n",
              "      <td>...</td>\n",
              "    </tr>\n",
              "    <tr>\n",
              "      <th>145</th>\n",
              "      <td>Travis</td>\n",
              "      <td>Washington</td>\n",
              "      <td>txw75701</td>\n",
              "      <td>64.0</td>\n",
              "      <td>80</td>\n",
              "      <td>67</td>\n",
              "      <td>80</td>\n",
              "      <td>56</td>\n",
              "      <td>80</td>\n",
              "      <td>94</td>\n",
              "      <td>100</td>\n",
              "      <td>74</td>\n",
              "      <td>100</td>\n",
              "      <td>8.000</td>\n",
              "      <td>8.375</td>\n",
              "      <td>7.000</td>\n",
              "      <td>9.4</td>\n",
              "      <td>7.4</td>\n",
              "      <td>7.791667</td>\n",
              "      <td>8.40</td>\n",
              "    </tr>\n",
              "    <tr>\n",
              "      <th>146</th>\n",
              "      <td>Troy</td>\n",
              "      <td>Raymond</td>\n",
              "      <td>tbr17292</td>\n",
              "      <td>50.0</td>\n",
              "      <td>80</td>\n",
              "      <td>59</td>\n",
              "      <td>80</td>\n",
              "      <td>79</td>\n",
              "      <td>80</td>\n",
              "      <td>91</td>\n",
              "      <td>100</td>\n",
              "      <td>67</td>\n",
              "      <td>100</td>\n",
              "      <td>6.250</td>\n",
              "      <td>7.375</td>\n",
              "      <td>9.875</td>\n",
              "      <td>9.1</td>\n",
              "      <td>6.7</td>\n",
              "      <td>7.833333</td>\n",
              "      <td>7.90</td>\n",
              "    </tr>\n",
              "    <tr>\n",
              "      <th>147</th>\n",
              "      <td>Victoria</td>\n",
              "      <td>Boyd</td>\n",
              "      <td>vkb66346</td>\n",
              "      <td>58.0</td>\n",
              "      <td>80</td>\n",
              "      <td>61</td>\n",
              "      <td>80</td>\n",
              "      <td>75</td>\n",
              "      <td>80</td>\n",
              "      <td>68</td>\n",
              "      <td>100</td>\n",
              "      <td>93</td>\n",
              "      <td>100</td>\n",
              "      <td>7.250</td>\n",
              "      <td>7.625</td>\n",
              "      <td>9.375</td>\n",
              "      <td>6.8</td>\n",
              "      <td>9.3</td>\n",
              "      <td>8.083333</td>\n",
              "      <td>8.05</td>\n",
              "    </tr>\n",
              "    <tr>\n",
              "      <th>148</th>\n",
              "      <td>William</td>\n",
              "      <td>Daniel</td>\n",
              "      <td>wad63934</td>\n",
              "      <td>48.0</td>\n",
              "      <td>80</td>\n",
              "      <td>60</td>\n",
              "      <td>80</td>\n",
              "      <td>72</td>\n",
              "      <td>80</td>\n",
              "      <td>84</td>\n",
              "      <td>100</td>\n",
              "      <td>91</td>\n",
              "      <td>100</td>\n",
              "      <td>6.000</td>\n",
              "      <td>7.500</td>\n",
              "      <td>9.000</td>\n",
              "      <td>8.4</td>\n",
              "      <td>9.1</td>\n",
              "      <td>7.500000</td>\n",
              "      <td>8.75</td>\n",
              "    </tr>\n",
              "    <tr>\n",
              "      <th>149</th>\n",
              "      <td>Woody</td>\n",
              "      <td>Barrera</td>\n",
              "      <td>wxb12345</td>\n",
              "      <td>55.0</td>\n",
              "      <td>80</td>\n",
              "      <td>62</td>\n",
              "      <td>80</td>\n",
              "      <td>73</td>\n",
              "      <td>80</td>\n",
              "      <td>86</td>\n",
              "      <td>100</td>\n",
              "      <td>62</td>\n",
              "      <td>100</td>\n",
              "      <td>6.875</td>\n",
              "      <td>7.750</td>\n",
              "      <td>9.125</td>\n",
              "      <td>8.6</td>\n",
              "      <td>6.2</td>\n",
              "      <td>7.916667</td>\n",
              "      <td>7.40</td>\n",
              "    </tr>\n",
              "  </tbody>\n",
              "</table>\n",
              "<p>150 rows × 20 columns</p>\n",
              "</div>\n",
              "      <button class=\"colab-df-convert\" onclick=\"convertToInteractive('df-5b4ea850-b551-442d-8d89-78437c49d510')\"\n",
              "              title=\"Convert this dataframe to an interactive table.\"\n",
              "              style=\"display:none;\">\n",
              "        \n",
              "  <svg xmlns=\"http://www.w3.org/2000/svg\" height=\"24px\"viewBox=\"0 0 24 24\"\n",
              "       width=\"24px\">\n",
              "    <path d=\"M0 0h24v24H0V0z\" fill=\"none\"/>\n",
              "    <path d=\"M18.56 5.44l.94 2.06.94-2.06 2.06-.94-2.06-.94-.94-2.06-.94 2.06-2.06.94zm-11 1L8.5 8.5l.94-2.06 2.06-.94-2.06-.94L8.5 2.5l-.94 2.06-2.06.94zm10 10l.94 2.06.94-2.06 2.06-.94-2.06-.94-.94-2.06-.94 2.06-2.06.94z\"/><path d=\"M17.41 7.96l-1.37-1.37c-.4-.4-.92-.59-1.43-.59-.52 0-1.04.2-1.43.59L10.3 9.45l-7.72 7.72c-.78.78-.78 2.05 0 2.83L4 21.41c.39.39.9.59 1.41.59.51 0 1.02-.2 1.41-.59l7.78-7.78 2.81-2.81c.8-.78.8-2.07 0-2.86zM5.41 20L4 18.59l7.72-7.72 1.47 1.35L5.41 20z\"/>\n",
              "  </svg>\n",
              "      </button>\n",
              "      \n",
              "  <style>\n",
              "    .colab-df-container {\n",
              "      display:flex;\n",
              "      flex-wrap:wrap;\n",
              "      gap: 12px;\n",
              "    }\n",
              "\n",
              "    .colab-df-convert {\n",
              "      background-color: #E8F0FE;\n",
              "      border: none;\n",
              "      border-radius: 50%;\n",
              "      cursor: pointer;\n",
              "      display: none;\n",
              "      fill: #1967D2;\n",
              "      height: 32px;\n",
              "      padding: 0 0 0 0;\n",
              "      width: 32px;\n",
              "    }\n",
              "\n",
              "    .colab-df-convert:hover {\n",
              "      background-color: #E2EBFA;\n",
              "      box-shadow: 0px 1px 2px rgba(60, 64, 67, 0.3), 0px 1px 3px 1px rgba(60, 64, 67, 0.15);\n",
              "      fill: #174EA6;\n",
              "    }\n",
              "\n",
              "    [theme=dark] .colab-df-convert {\n",
              "      background-color: #3B4455;\n",
              "      fill: #D2E3FC;\n",
              "    }\n",
              "\n",
              "    [theme=dark] .colab-df-convert:hover {\n",
              "      background-color: #434B5C;\n",
              "      box-shadow: 0px 1px 3px 1px rgba(0, 0, 0, 0.15);\n",
              "      filter: drop-shadow(0px 1px 2px rgba(0, 0, 0, 0.3));\n",
              "      fill: #FFFFFF;\n",
              "    }\n",
              "  </style>\n",
              "\n",
              "      <script>\n",
              "        const buttonEl =\n",
              "          document.querySelector('#df-5b4ea850-b551-442d-8d89-78437c49d510 button.colab-df-convert');\n",
              "        buttonEl.style.display =\n",
              "          google.colab.kernel.accessAllowed ? 'block' : 'none';\n",
              "\n",
              "        async function convertToInteractive(key) {\n",
              "          const element = document.querySelector('#df-5b4ea850-b551-442d-8d89-78437c49d510');\n",
              "          const dataTable =\n",
              "            await google.colab.kernel.invokeFunction('convertToInteractive',\n",
              "                                                     [key], {});\n",
              "          if (!dataTable) return;\n",
              "\n",
              "          const docLinkHtml = 'Like what you see? Visit the ' +\n",
              "            '<a target=\"_blank\" href=https://colab.research.google.com/notebooks/data_table.ipynb>data table notebook</a>'\n",
              "            + ' to learn more about interactive tables.';\n",
              "          element.innerHTML = '';\n",
              "          dataTable['output_type'] = 'display_data';\n",
              "          await google.colab.output.renderOutput(dataTable, element);\n",
              "          const docLink = document.createElement('div');\n",
              "          docLink.innerHTML = docLinkHtml;\n",
              "          element.appendChild(docLink);\n",
              "        }\n",
              "      </script>\n",
              "    </div>\n",
              "  </div>\n",
              "  "
            ]
          },
          "metadata": {},
          "execution_count": 29
        }
      ],
      "source": [
        "gradebook"
      ]
    },
    {
      "cell_type": "markdown",
      "metadata": {
        "id": "sIvpTTWzRxvh"
      },
      "source": [
        "15. Haz un scatter plot que relacione homework_mean con examen_mean, ves alguna relacion interesante?\n",
        "Recuerda importar la libreria matplotlib.pyplot"
      ]
    },
    {
      "cell_type": "code",
      "execution_count": 30,
      "metadata": {
        "id": "Poc2_iFwTfUy",
        "colab": {
          "base_uri": "https://localhost:8080/",
          "height": 489
        },
        "outputId": "d9a6cba9-70e0-4818-993f-345ec99f9f8e"
      },
      "outputs": [
        {
          "output_type": "execute_result",
          "data": {
            "text/plain": [
              "Text(0.5, 1.0, 'relacion entre tareas y examenes')"
            ]
          },
          "metadata": {},
          "execution_count": 30
        },
        {
          "output_type": "display_data",
          "data": {
            "text/plain": [
              "<Figure size 640x480 with 1 Axes>"
            ],
            "image/png": "[encoded data removed]"
          },
          "metadata": {}
        }
      ],
      "source": [
        "import matplotlib.pyplot as plt\n",
        "plt.scatter(gradebook.homework_mean,gradebook.exam_mean)\n",
        "plt.ylabel(\"Promedio de examenes\")\n",
        "plt.xlabel(\"Promedio de tareas\")\n",
        "plt.title(\"relacion entre tareas y examenes\")"
      ]
    },
    {
      "cell_type": "code",
      "execution_count": 31,
      "metadata": {
        "colab": {
          "base_uri": "https://localhost:8080/",
          "height": 112
        },
        "id": "DZHqIXX2O4S5",
        "outputId": "b4b1dd2b-c2da-47e9-a8e7-5e0ef2344398"
      },
      "outputs": [
        {
          "output_type": "execute_result",
          "data": {
            "text/plain": [
              "               homework_mean  exam_mean\n",
              "homework_mean       1.000000  -0.061503\n",
              "exam_mean          -0.061503   1.000000"
            ],
            "text/html": [
              "\n",
              "  <div id=\"df-654c1a1c-2aff-4dfa-ad56-4278d97bff4c\">\n",
              "    <div class=\"colab-df-container\">\n",
              "      <div>\n",
              "<style scoped>\n",
              "    .dataframe tbody tr th:only-of-type {\n",
              "        vertical-align: middle;\n",
              "    }\n",
              "\n",
              "    .dataframe tbody tr th {\n",
              "        vertical-align: top;\n",
              "    }\n",
              "\n",
              "    .dataframe thead th {\n",
              "        text-align: right;\n",
              "    }\n",
              "</style>\n",
              "<table border=\"1\" class=\"dataframe\">\n",
              "  <thead>\n",
              "    <tr style=\"text-align: right;\">\n",
              "      <th></th>\n",
              "      <th>homework_mean</th>\n",
              "      <th>exam_mean</th>\n",
              "    </tr>\n",
              "  </thead>\n",
              "  <tbody>\n",
              "    <tr>\n",
              "      <th>homework_mean</th>\n",
              "      <td>1.000000</td>\n",
              "      <td>-0.061503</td>\n",
              "    </tr>\n",
              "    <tr>\n",
              "      <th>exam_mean</th>\n",
              "      <td>-0.061503</td>\n",
              "      <td>1.000000</td>\n",
              "    </tr>\n",
              "  </tbody>\n",
              "</table>\n",
              "</div>\n",
              "      <button class=\"colab-df-convert\" onclick=\"convertToInteractive('df-654c1a1c-2aff-4dfa-ad56-4278d97bff4c')\"\n",
              "              title=\"Convert this dataframe to an interactive table.\"\n",
              "              style=\"display:none;\">\n",
              "        \n",
              "  <svg xmlns=\"http://www.w3.org/2000/svg\" height=\"24px\"viewBox=\"0 0 24 24\"\n",
              "       width=\"24px\">\n",
              "    <path d=\"M0 0h24v24H0V0z\" fill=\"none\"/>\n",
              "    <path d=\"M18.56 5.44l.94 2.06.94-2.06 2.06-.94-2.06-.94-.94-2.06-.94 2.06-2.06.94zm-11 1L8.5 8.5l.94-2.06 2.06-.94-2.06-.94L8.5 2.5l-.94 2.06-2.06.94zm10 10l.94 2.06.94-2.06 2.06-.94-2.06-.94-.94-2.06-.94 2.06-2.06.94z\"/><path d=\"M17.41 7.96l-1.37-1.37c-.4-.4-.92-.59-1.43-.59-.52 0-1.04.2-1.43.59L10.3 9.45l-7.72 7.72c-.78.78-.78 2.05 0 2.83L4 21.41c.39.39.9.59 1.41.59.51 0 1.02-.2 1.41-.59l7.78-7.78 2.81-2.81c.8-.78.8-2.07 0-2.86zM5.41 20L4 18.59l7.72-7.72 1.47 1.35L5.41 20z\"/>\n",
              "  </svg>\n",
              "      </button>\n",
              "      \n",
              "  <style>\n",
              "    .colab-df-container {\n",
              "      display:flex;\n",
              "      flex-wrap:wrap;\n",
              "      gap: 12px;\n",
              "    }\n",
              "\n",
              "    .colab-df-convert {\n",
              "      background-color: #E8F0FE;\n",
              "      border: none;\n",
              "      border-radius: 50%;\n",
              "      cursor: pointer;\n",
              "      display: none;\n",
              "      fill: #1967D2;\n",
              "      height: 32px;\n",
              "      padding: 0 0 0 0;\n",
              "      width: 32px;\n",
              "    }\n",
              "\n",
              "    .colab-df-convert:hover {\n",
              "      background-color: #E2EBFA;\n",
              "      box-shadow: 0px 1px 2px rgba(60, 64, 67, 0.3), 0px 1px 3px 1px rgba(60, 64, 67, 0.15);\n",
              "      fill: #174EA6;\n",
              "    }\n",
              "\n",
              "    [theme=dark] .colab-df-convert {\n",
              "      background-color: #3B4455;\n",
              "      fill: #D2E3FC;\n",
              "    }\n",
              "\n",
              "    [theme=dark] .colab-df-convert:hover {\n",
              "      background-color: #434B5C;\n",
              "      box-shadow: 0px 1px 3px 1px rgba(0, 0, 0, 0.15);\n",
              "      filter: drop-shadow(0px 1px 2px rgba(0, 0, 0, 0.3));\n",
              "      fill: #FFFFFF;\n",
              "    }\n",
              "  </style>\n",
              "\n",
              "      <script>\n",
              "        const buttonEl =\n",
              "          document.querySelector('#df-654c1a1c-2aff-4dfa-ad56-4278d97bff4c button.colab-df-convert');\n",
              "        buttonEl.style.display =\n",
              "          google.colab.kernel.accessAllowed ? 'block' : 'none';\n",
              "\n",
              "        async function convertToInteractive(key) {\n",
              "          const element = document.querySelector('#df-654c1a1c-2aff-4dfa-ad56-4278d97bff4c');\n",
              "          const dataTable =\n",
              "            await google.colab.kernel.invokeFunction('convertToInteractive',\n",
              "                                                     [key], {});\n",
              "          if (!dataTable) return;\n",
              "\n",
              "          const docLinkHtml = 'Like what you see? Visit the ' +\n",
              "            '<a target=\"_blank\" href=https://colab.research.google.com/notebooks/data_table.ipynb>data table notebook</a>'\n",
              "            + ' to learn more about interactive tables.';\n",
              "          element.innerHTML = '';\n",
              "          dataTable['output_type'] = 'display_data';\n",
              "          await google.colab.output.renderOutput(dataTable, element);\n",
              "          const docLink = document.createElement('div');\n",
              "          docLink.innerHTML = docLinkHtml;\n",
              "          element.appendChild(docLink);\n",
              "        }\n",
              "      </script>\n",
              "    </div>\n",
              "  </div>\n",
              "  "
            ]
          },
          "metadata": {},
          "execution_count": 31
        }
      ],
      "source": [
        "gradebook[['homework_mean','exam_mean']].corr()"
      ]
    },
    {
      "cell_type": "markdown",
      "metadata": {
        "id": "wdzV76FoO4S5"
      },
      "source": [
        "No hay una correlacion como tal, la nota de las tareas no influye en los examenes aparentemente, pueden no entregar tareas y scaar buena calificacion o entregar las tareas y sacar una nota baja"
      ]
    }
  ],
  "metadata": {
    "colab": {
      "provenance": []
    },
    "kernelspec": {
      "display_name": "Python 3 (ipykernel)",
      "language": "python",
      "name": "python3"
    },
    "language_info": {
      "codemirror_mode": {
        "name": "ipython",
        "version": 3
      },
      "file_extension": ".py",
      "mimetype": "text/x-python",
      "name": "python",
      "nbconvert_exporter": "python",
      "pygments_lexer": "ipython3",
      "version": "3.11.2"
    },
    "varInspector": {
      "cols": {
        "lenName": 16,
        "lenType": 16,
        "lenVar": 40
      },
      "kernels_config": {
        "python": {
          "delete_cmd_postfix": "",
          "delete_cmd_prefix": "del ",
          "library": "var_list.py",
          "varRefreshCmd": "print(var_dic_list())"
        },
        "r": {
          "delete_cmd_postfix": ") ",
          "delete_cmd_prefix": "rm(",
          "library": "var_list.r",
          "varRefreshCmd": "cat(var_dic_list()) "
        }
      },
      "types_to_exclude": [
        "module",
        "function",
        "builtin_function_or_method",
        "instance",
        "_Feature"
      ],
      "window_display": false
    }
  },
  "nbformat": 4,
  "nbformat_minor": 0
}