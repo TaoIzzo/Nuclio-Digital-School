{
 "cells": [
  {
   "cell_type": "markdown",
   "metadata": {
    "id": "maVLeb9_qC42"
   },
   "source": [
    "1. Escribir un programa que muestre por pantalla la cadena ¡Hola Mundo!."
   ]
  },
  {
   "cell_type": "code",
   "execution_count": 1,
   "metadata": {
    "id": "3brSGJ4nPBTB"
   },
   "outputs": [
    {
     "name": "stdout",
     "output_type": "stream",
     "text": [
      "¡Hola mundo!\n"
     ]
    }
   ],
   "source": [
    "print(f\"¡Hola mundo!\")"
   ]
  },
  {
   "cell_type": "markdown",
   "metadata": {
    "id": "_iyU4GTkqHiF"
   },
   "source": [
    "2. Escribir un programa que almacene la cadena ¡Hola Mundo! en una variable y luego muestre por pantalla el contenido de la variable."
   ]
  },
  {
   "cell_type": "code",
   "execution_count": 2,
   "metadata": {
    "id": "BgdH5hKIPB3_"
   },
   "outputs": [
    {
     "name": "stdout",
     "output_type": "stream",
     "text": [
      "La variable a contiene: ¡Hola Mundo!\n"
     ]
    }
   ],
   "source": [
    "a = \"¡Hola Mundo!\"\n",
    "print(f\"La variable a contiene: {a}\")"
   ]
  },
  {
   "cell_type": "markdown",
   "metadata": {
    "id": "8jBcMYm8qK1O"
   },
   "source": [
    "3. Escribir un programa que pregunte el nombre del usuario en la consola y después de que el usuario lo introduzca muestre por pantalla la cadena ¡Hola 'nombre'!, donde 'nombre' es el nombre que el usuario haya introducido."
   ]
  },
  {
   "cell_type": "code",
   "execution_count": 3,
   "metadata": {
    "id": "bQyDVdEOPDho"
   },
   "outputs": [
    {
     "name": "stdout",
     "output_type": "stream",
     "text": [
      "Introduzca su nombre: Tao\n",
      "¡Hola Tao!\n"
     ]
    }
   ],
   "source": [
    "name = input(\"Introduzca su nombre: \")\n",
    "print(f\"¡Hola {name}!\")"
   ]
  },
  {
   "cell_type": "markdown",
   "metadata": {
    "id": "txWk7g-KqO3v"
   },
   "source": [
    "4. Escribir un programa que muestre por pantalla el resultado de la siguiente operación aritmética: la suma de 5 más 2, dividida entre 4 por 3 y todo esto elevado a 2"
   ]
  },
  {
   "cell_type": "code",
   "execution_count": 4,
   "metadata": {
    "id": "qEXI331kPD7D"
   },
   "outputs": [
    {
     "name": "stdout",
     "output_type": "stream",
     "text": [
      "la suma de 5 más 2 es 7, \n",
      "dividida entre 4 da 1.75 \n",
      "por 3 es igual 5.25 \n",
      "y todo esto elevado a 2 tenemos 27.5625\n"
     ]
    }
   ],
   "source": [
    "b =5\n",
    "c =2\n",
    "d =4 \n",
    "e =3\n",
    "print(f\"\"\"la suma de {b} más {c} es {b+c}, \n",
    "dividida entre {d} da {(b+c)/d} \n",
    "por {e} es igual {((b+c)/d)*e} \n",
    "y todo esto elevado a {c} tenemos {(((b+c)/d)*e)**c}\"\"\")"
   ]
  },
  {
   "cell_type": "markdown",
   "metadata": {
    "id": "0Wgpv5aiqp8J"
   },
   "source": [
    "5. Escribir un programa que pregunte al usuario por el número de horas que lleva en el parking y el coste por hora. Después debe mostrar por pantalla cuánto deberá pagar."
   ]
  },
  {
   "cell_type": "code",
   "execution_count": 5,
   "metadata": {
    "id": "UwIkY1g7PEoi"
   },
   "outputs": [
    {
     "name": "stdout",
     "output_type": "stream",
     "text": [
      "¿Cuantas horas lleva en el parkimetro? 5\n",
      "¿Cual es el coste por hora? $15\n",
      "Por estar 5 horas, debera de pagar $75\n"
     ]
    }
   ],
   "source": [
    "horas = int(input(\"¿Cuantas horas lleva en el parkimetro? \"))\n",
    "coste = int(input(\"¿Cual es el coste por hora? $\"))\n",
    "print(f\"Por estar {horas} horas, debera de pagar ${horas*coste}\")"
   ]
  },
  {
   "cell_type": "markdown",
   "metadata": {
    "id": "m3XWlME6qxLu"
   },
   "source": [
    "6. Escribir un programa que pida al usuario dos números enteros y muestre por pantalla 'a' entre 'b' da un cociente de 'c' y un residuo 'r'. 'a' y 'b' serán los números introducidos por el usuario, y 'c' y 'r' seran el cociente y el residuo de la división entera."
   ]
  },
  {
   "cell_type": "code",
   "execution_count": 6,
   "metadata": {
    "id": "yK6i0QC0PFRo"
   },
   "outputs": [
    {
     "name": "stdout",
     "output_type": "stream",
     "text": [
      "Programa de division entera\n",
      "Introduzca un numero: 24\n",
      "introduca otro numero: 9\n",
      "24 entre 9 da un cociente de 2 y un residuo 6\n"
     ]
    }
   ],
   "source": [
    "print(\"Programa de division entera\")\n",
    "f = int(input(\"Introduzca un numero: \"))\n",
    "g = int(input(\"introduca otro numero: \"))\n",
    "print(f\"{f} entre {g} da un cociente de {int(f/g)} y un residuo {f%g}\")"
   ]
  },
  {
   "cell_type": "markdown",
   "metadata": {
    "id": "6AleXQtdrSY9"
   },
   "source": [
    "7. Escribir un programa que pregunte al usuario cuánto dinero pretende invertir, el interés anual que le daría la inversión y el número de años que estaría. Muestra por pantalla el capital obtenido por la inversión, tener en cuenta que el capital obtenido será igual al capital inicial multiplicado por el (interes/100)+1, elevado al número de años de la inversión"
   ]
  },
  {
   "cell_type": "code",
   "execution_count": 7,
   "metadata": {
    "id": "PvJkMv0qPGb_"
   },
   "outputs": [
    {
     "name": "stdout",
     "output_type": "stream",
     "text": [
      "¿Cuanto dinero planea invertir? $25486\n",
      "¿Cual es el interes anual? 11\n",
      "¿A cauntos años es la inversio? 8\n",
      "Despues de los intereses compuestos usted tendra un capital de $58733.45,\n",
      "es decir, habra ganado $33247.45\n"
     ]
    }
   ],
   "source": [
    "capital_inicial = float(input(\"¿Cuanto dinero planea invertir? $\"))\n",
    "interes = float(input(\"¿Cual es el interes anual? \"))\n",
    "años = int(input(\"¿A cauntos años es la inversio? \"))\n",
    "print(f\"\"\"Despues de los intereses compuestos usted tendra un capital de ${(capital_inicial*((interes/100)+1)**años):.2f},\n",
    "es decir, habra ganado ${((capital_inicial*((interes/100)+1)**años) - capital_inicial):.2f}\"\"\")"
   ]
  },
  {
   "cell_type": "markdown",
   "metadata": {
    "id": "YaJJKkfDrn-O"
   },
   "source": [
    "8. Realiza un programa que pida dos números al usuario y determine si las siguientes expresiones son True o False:"
   ]
  },
  {
   "cell_type": "code",
   "execution_count": 8,
   "metadata": {},
   "outputs": [
    {
     "name": "stdout",
     "output_type": "stream",
     "text": [
      "Introduzca un numero: 15\n",
      "introduca otro numero: 85\n"
     ]
    }
   ],
   "source": [
    "h = int(input(\"Introduzca un numero: \"))\n",
    "i = int(input(\"introduca otro numero: \"))"
   ]
  },
  {
   "cell_type": "markdown",
   "metadata": {
    "id": "Z8EzQJbwsBPG"
   },
   "source": [
    "* ¿Los dos números son iguales?"
   ]
  },
  {
   "cell_type": "code",
   "execution_count": 9,
   "metadata": {
    "id": "DYU6fEUvPIkv"
   },
   "outputs": [
    {
     "name": "stdout",
     "output_type": "stream",
     "text": [
      "¿Los dos números son iguales?\n",
      "False\n"
     ]
    }
   ],
   "source": [
    "print(f\"\"\"¿Los dos números son iguales?\n",
    "{h==i}\"\"\")"
   ]
  },
  {
   "cell_type": "markdown",
   "metadata": {
    "id": "7x1b8KCbsImW"
   },
   "source": [
    "* ¿Los dos números son diferentes?"
   ]
  },
  {
   "cell_type": "code",
   "execution_count": 10,
   "metadata": {
    "id": "aK7MKVsRPKaH"
   },
   "outputs": [
    {
     "name": "stdout",
     "output_type": "stream",
     "text": [
      "¿Los dos números son diferentes?\n",
      "True\n"
     ]
    }
   ],
   "source": [
    "print(f\"\"\"¿Los dos números son diferentes?\n",
    "{h!=i}\"\"\")"
   ]
  },
  {
   "cell_type": "markdown",
   "metadata": {
    "id": "uEZgJM8FsNah"
   },
   "source": [
    "* ¿El primer número es mayor que el segundo?"
   ]
  },
  {
   "cell_type": "code",
   "execution_count": 11,
   "metadata": {
    "id": "pZXgp8UzPLb_"
   },
   "outputs": [
    {
     "name": "stdout",
     "output_type": "stream",
     "text": [
      "¿El primer número es mayor que el segundo?\n",
      "False\n"
     ]
    }
   ],
   "source": [
    "print(f\"\"\"¿El primer número es mayor que el segundo?\n",
    "{h>i}\"\"\")"
   ]
  },
  {
   "cell_type": "markdown",
   "metadata": {
    "id": "cgxKWnKAsR3u"
   },
   "source": [
    "* ¿El segundo número es mayor o igual que el primero?"
   ]
  },
  {
   "cell_type": "code",
   "execution_count": 12,
   "metadata": {
    "id": "sTZG9iyzPMVx"
   },
   "outputs": [
    {
     "name": "stdout",
     "output_type": "stream",
     "text": [
      "¿El primer número es mayor que el segundo?\n",
      "True\n"
     ]
    }
   ],
   "source": [
    "print(f\"\"\"¿El primer número es mayor que el segundo?\n",
    "{h<=i}\"\"\")"
   ]
  },
  {
   "cell_type": "markdown",
   "metadata": {
    "id": "OSl2s77ssWnw"
   },
   "source": [
    "9. Mira si una cadena de texto introducida por el usuario tiene una longitud mayor o igual que 3 y si también es menor que 10.\n",
    "\n"
   ]
  },
  {
   "cell_type": "code",
   "execution_count": 13,
   "metadata": {
    "id": "utlpa8qIPNIj"
   },
   "outputs": [
    {
     "name": "stdout",
     "output_type": "stream",
     "text": [
      "Introduzca un texto: Buenas noches\n",
      "¿El texto tiene una longitud mayor o igual que 3 y si también es menor que 10?\n",
      "False\n"
     ]
    }
   ],
   "source": [
    "cadena = input(\"Introduzca un texto: \")\n",
    "print(f\"\"\"¿El texto tiene una longitud mayor o igual que 3 y si también es menor que 10?\n",
    "{len(cadena)>=3 and len(cadena)<10}\"\"\")"
   ]
  },
  {
   "cell_type": "markdown",
   "metadata": {
    "id": "iCg3IeHmssad"
   },
   "source": [
    "10. Haz un programa que siga los siguientes pasos:\n",
    "* Guarda en una variable numero_magico el valor 12345679 (sin el 8)\n",
    "* Pide al usuario un número entre el 1 y el 9\n",
    "* Multiplica este número por 9\n",
    "* Multiplica el numero_magico por el numero del paso anterior (y actualiza la variable de numero magico)\n",
    "* Muestra el valor final del numero_magico por pantalla"
   ]
  },
  {
   "cell_type": "code",
   "execution_count": 14,
   "metadata": {
    "id": "BW8uzqXNPOEX"
   },
   "outputs": [
    {
     "name": "stdout",
     "output_type": "stream",
     "text": [
      "Ingrese un numero entre 1 y 9: 8\n",
      "El numero magico es: 888888888\n"
     ]
    }
   ],
   "source": [
    "numero_magico = 12345679\n",
    "user = int(input(\"Ingrese un numero entre 1 y 9: \"))\n",
    "user *= 9\n",
    "numero_magico *= user\n",
    "print(f\"El numero magico es: {numero_magico}\")"
   ]
  },
  {
   "cell_type": "markdown",
   "metadata": {
    "id": "pRBQWq8Ws-vW"
   },
   "source": [
    "11. Escribir un programa que almacene **tres** de las asignaturas de un curso (por ejemplo Matemáticas, Física, Química, Historia, Lengua) en una lista y la muestre por pantalla."
   ]
  },
  {
   "cell_type": "code",
   "execution_count": 15,
   "metadata": {
    "id": "t8SgHnMBPO5Y"
   },
   "outputs": [
    {
     "name": "stdout",
     "output_type": "stream",
     "text": [
      "Ingrese 3 asignaturas: Historia\n",
      "Matematicas\n",
      "geografia\n",
      "Las asignaturas son: ['Historia', 'Matematicas', 'geografia']\n"
     ]
    }
   ],
   "source": [
    "asignaturas = []\n",
    "asignaturas.append(input(\"Ingrese 3 asignaturas: \"))\n",
    "asignaturas.append(input())\n",
    "asignaturas.append(input())\n",
    "print(f\"Las asignaturas son: {asignaturas}\")"
   ]
  },
  {
   "cell_type": "markdown",
   "metadata": {
    "id": "ScIN6jIItKDE"
   },
   "source": [
    "12. Haz un programa que pregunte al usuario por sus notas en estas asignaturas y las almacene en una lista"
   ]
  },
  {
   "cell_type": "code",
   "execution_count": 16,
   "metadata": {
    "id": "8cxkrBxIPPpo"
   },
   "outputs": [
    {
     "name": "stdout",
     "output_type": "stream",
     "text": [
      "Ingrese las notas de sus asignaturas \n",
      "Historia: 7\n",
      "Matematicas: 1\n",
      "geografia: 5\n"
     ]
    }
   ],
   "source": [
    "notas = []\n",
    "print(\"Ingrese las notas de sus asignaturas \")\n",
    "notas.append(float(input(asignaturas[0] + \": \")))\n",
    "notas.append(float(input(asignaturas[1] + \": \")))\n",
    "notas.append(float(input(asignaturas[2] + \": \")))"
   ]
  },
  {
   "cell_type": "markdown",
   "metadata": {
    "id": "TwKk050CtxcO"
   },
   "source": [
    "13. Imprime por pantalla las asignaturas con sus respectivas notas, siguiendo la siguiente estructura '  En 'asignatura' has sacado 'nota'  '"
   ]
  },
  {
   "cell_type": "code",
   "execution_count": 17,
   "metadata": {
    "id": "QxUbp5clPQtv"
   },
   "outputs": [
    {
     "name": "stdout",
     "output_type": "stream",
     "text": [
      "En la asignatura Historia has sacado 7.0,\n",
      "En la asignatura Matematicas has sacado 1.0,\n",
      "En la asignatura geografia has sacado 5.0\n",
      "\n"
     ]
    }
   ],
   "source": [
    "print(f\"\"\"En la asignatura {asignaturas[0]} has sacado {notas[0]},\n",
    "En la asignatura {asignaturas[1]} has sacado {notas[1]},\n",
    "En la asignatura {asignaturas[2]} has sacado {notas[2]}\n",
    "\"\"\")"
   ]
  },
  {
   "cell_type": "markdown",
   "metadata": {
    "id": "CcSIxkxitv7u"
   },
   "source": [
    "14. Ordena las notas sacadas de mayor a menor"
   ]
  },
  {
   "cell_type": "code",
   "execution_count": 18,
   "metadata": {
    "id": "pnWQ0gVoPRdI"
   },
   "outputs": [
    {
     "name": "stdout",
     "output_type": "stream",
     "text": [
      "Tus notas de mayor a menor son [7.0, 5.0, 1.0]\n"
     ]
    }
   ],
   "source": [
    "notas.sort(reverse=True)\n",
    "print(f\"Tus notas de mayor a menor son {notas}\")"
   ]
  },
  {
   "cell_type": "markdown",
   "metadata": {
    "id": "9QC_QMnsuJZe"
   },
   "source": [
    "15. Añade una asignatura más a la lista de asignaturas"
   ]
  },
  {
   "cell_type": "code",
   "execution_count": 19,
   "metadata": {
    "id": "3OXrRvSMPSQA"
   },
   "outputs": [
    {
     "name": "stdout",
     "output_type": "stream",
     "text": [
      "Añade una nueva asignatura: Español\n",
      "Sus asignaturas son: ['Historia', 'Matematicas', 'geografia', 'Español']\n"
     ]
    }
   ],
   "source": [
    "asignaturas.append(input(\"Añade una nueva asignatura: \"))\n",
    "print(f\"Sus asignaturas son: {asignaturas}\")"
   ]
  },
  {
   "cell_type": "markdown",
   "metadata": {
    "id": "Dqi4-_P6ug3P"
   },
   "source": [
    "16. Elimina de la lista de asignaturas la que menos te gustara"
   ]
  },
  {
   "cell_type": "code",
   "execution_count": 20,
   "metadata": {
    "id": "Nz7LalMhPTg5"
   },
   "outputs": [
    {
     "name": "stdout",
     "output_type": "stream",
     "text": [
      "De sus ['Historia', 'Matematicas', 'geografia', 'Español'] \n",
      "¿Cual gusta eliminar? geografia\n",
      "Usted se quedara con las asignaturas de: ['Historia', 'Matematicas', 'Español']\n"
     ]
    }
   ],
   "source": [
    "print(f\"De sus {asignaturas} \")\n",
    "asignatura_eliminar = input(\"¿Cual gusta eliminar? \")\n",
    "asignaturas.remove(asignatura_eliminar)\n",
    "print(f\"Usted se quedara con las asignaturas de: {asignaturas}\")"
   ]
  },
  {
   "cell_type": "markdown",
   "metadata": {
    "id": "_P9ntCneub-6"
   },
   "source": [
    "17. Escribir un programa que guarde en una variable el diccionario {'Euro':'€', 'Dollar':'$', 'Yen':'¥'}, pregunte al usuario por una divisa y muestre su símbolo o un mensaje de aviso si la divisa no está en el diccionario."
   ]
  },
  {
   "cell_type": "code",
   "execution_count": 21,
   "metadata": {
    "id": "b7aOKQRgPUq4"
   },
   "outputs": [
    {
     "name": "stdout",
     "output_type": "stream",
     "text": [
      "¿El simbolo de cual divisa gusta ver? Euro\n",
      "El simbolo de la divisa Euro es €\n"
     ]
    }
   ],
   "source": [
    "divisas = {'Euro':'€', 'Dollar':'$', 'Yen':'¥'}\n",
    "user_divisa = input(\"¿El simbolo de cual divisa gusta ver? \")\n",
    "print(f\"El simbolo de la divisa {user_divisa} es {divisas[user_divisa]}\")"
   ]
  },
  {
   "cell_type": "markdown",
   "metadata": {
    "id": "nFOgEdVWu_UO"
   },
   "source": [
    "18. Escribir un programa que pregunte al usuario su nombre, edad, ciudad y teléfono y lo guarde en un diccionario. Después debe mostrar por pantalla el mensaje *'nombre' tiene 'edad' años, vive en 'ciudad' y su número de teléfono es 'teléfono'*."
   ]
  },
  {
   "cell_type": "code",
   "execution_count": 22,
   "metadata": {
    "id": "N-aPF8ZUPVwQ"
   },
   "outputs": [
    {
     "name": "stdout",
     "output_type": "stream",
     "text": [
      "Ingrese su nombre: Tao\n",
      "Ingrese su edad: 23\n",
      "Ingrese su ciudad: Mexico\n",
      "Ingrese su numero telefonico: 5539754021\n",
      "Tao tiene 23 años, vive en Mexico y su número de teléfono es 5539754021\n"
     ]
    }
   ],
   "source": [
    "user_dict = {}\n",
    "user_dict['user_name'] = input(\"Ingrese su nombre: \") \n",
    "user_dict['user_age'] = int(input(\"Ingrese su edad: \"))\n",
    "user_dict['user_city'] = input(\"Ingrese su ciudad: \")\n",
    "user_dict['user_phone'] = int(input(\"Ingrese su numero telefonico: \"))\n",
    "print(f\"{user_dict['user_name']} tiene {user_dict['user_age']} años, vive en {user_dict['user_city']} y su número de teléfono es {user_dict['user_phone']}\")\n"
   ]
  },
  {
   "cell_type": "markdown",
   "metadata": {
    "id": "FYQhviAwvQv3"
   },
   "source": [
    "19. Definir un diccionario con las facturas pendientes de cobro de una empresa. La key será el id de la factura y el value será el coste de esta. "
   ]
  },
  {
   "cell_type": "code",
   "execution_count": 23,
   "metadata": {
    "id": "n0-rg997PWv8"
   },
   "outputs": [],
   "source": [
    "fact_dict = {'fact1':1212,'fact2':5485}"
   ]
  },
  {
   "cell_type": "markdown",
   "metadata": {
    "id": "XlvcGXQRwKCB"
   },
   "source": [
    "20. Ha llegado una nueva factura! Añádela al diccionario del ejercicio anterior"
   ]
  },
  {
   "cell_type": "code",
   "execution_count": 24,
   "metadata": {
    "id": "LqQ0VZmbPXoo"
   },
   "outputs": [
    {
     "name": "stdout",
     "output_type": "stream",
     "text": [
      "ingrese el id de la factura: fact3\n",
      "Ingrese el coste de la factura: $5874\n"
     ]
    },
    {
     "data": {
      "text/plain": [
       "{'fact1': 1212, 'fact2': 5485, 'fact3': 5874}"
      ]
     },
     "execution_count": 24,
     "metadata": {},
     "output_type": "execute_result"
    }
   ],
   "source": [
    "key = input(\"ingrese el id de la factura: \")\n",
    "value = int(input(\"Ingrese el coste de la factura: $\"))\n",
    "fact_dict[key]=value\n",
    "fact_dict"
   ]
  },
  {
   "cell_type": "markdown",
   "metadata": {
    "id": "M8lcHb9BwPaw"
   },
   "source": [
    "21. Has pagado todas las facturas! Vacía el diccionario"
   ]
  },
  {
   "cell_type": "code",
   "execution_count": 25,
   "metadata": {
    "id": "BQmiq-9sPYgo"
   },
   "outputs": [
    {
     "data": {
      "text/plain": [
       "{}"
      ]
     },
     "execution_count": 25,
     "metadata": {},
     "output_type": "execute_result"
    }
   ],
   "source": [
    "fact_dict.clear()\n",
    "fact_dict"
   ]
  }
 ],
 "metadata": {
  "colab": {
   "provenance": []
  },
  "kernelspec": {
   "display_name": "Python 3 (ipykernel)",
   "language": "python",
   "name": "python3"
  },
  "language_info": {
   "codemirror_mode": {
    "name": "ipython",
    "version": 3
   },
   "file_extension": ".py",
   "mimetype": "text/x-python",
   "name": "python",
   "nbconvert_exporter": "python",
   "pygments_lexer": "ipython3",
   "version": "3.8.12"
  }
 },
 "nbformat": 4,
 "nbformat_minor": 1
}
